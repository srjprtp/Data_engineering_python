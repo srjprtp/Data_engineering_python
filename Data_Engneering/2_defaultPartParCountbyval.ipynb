{
 "cells": [
  {
   "cell_type": "code",
   "execution_count": 1,
   "id": "4aec1c07",
   "metadata": {},
   "outputs": [],
   "source": [
    "from pyspark.sql import SparkSession\n",
    "import getpass\n",
    "username = getpass.getuser()\n",
    "spark = SparkSession. \\\n",
    "builder. \\\n",
    "config('spark.ui.port','0'). \\\n",
    "config(\"spark.sql.warehouse.dir\", f\"/user/itv020649/warehouse\"). \\\n",
    "enableHiveSupport(). \\\n",
    "master('yarn'). \\\n",
    "getOrCreate()"
   ]
  },
  {
   "cell_type": "code",
   "execution_count": 2,
   "id": "0136fba9",
   "metadata": {},
   "outputs": [
    {
     "data": {
      "text/html": [
       "\n",
       "            <div>\n",
       "                <p><b>SparkSession - hive</b></p>\n",
       "                \n",
       "        <div>\n",
       "            <p><b>SparkContext</b></p>\n",
       "\n",
       "            <p><a href=\"http://g01.itversity.com:36217\">Spark UI</a></p>\n",
       "\n",
       "            <dl>\n",
       "              <dt>Version</dt>\n",
       "                <dd><code>v3.1.2</code></dd>\n",
       "              <dt>Master</dt>\n",
       "                <dd><code>yarn</code></dd>\n",
       "              <dt>AppName</dt>\n",
       "                <dd><code>pyspark-shell</code></dd>\n",
       "            </dl>\n",
       "        </div>\n",
       "        \n",
       "            </div>\n",
       "        "
      ],
      "text/plain": [
       "<pyspark.sql.session.SparkSession at 0x7f165d013390>"
      ]
     },
     "execution_count": 2,
     "metadata": {},
     "output_type": "execute_result"
    }
   ],
   "source": [
    "spark"
   ]
  },
  {
   "cell_type": "code",
   "execution_count": 3,
   "id": "13d7cc6e",
   "metadata": {},
   "outputs": [],
   "source": [
    "word = (\"big\",\"Data\",\"Super\",\"INTRESTING\") "
   ]
  },
  {
   "cell_type": "code",
   "execution_count": 4,
   "id": "a7cfbc30",
   "metadata": {},
   "outputs": [],
   "source": [
    "wordsrdd = spark.sparkContext.parallelize(word)"
   ]
  },
  {
   "cell_type": "code",
   "execution_count": 5,
   "id": "02c04c86",
   "metadata": {},
   "outputs": [
    {
     "data": {
      "text/plain": [
       "2"
      ]
     },
     "execution_count": 5,
     "metadata": {},
     "output_type": "execute_result"
    }
   ],
   "source": [
    "# how many partition the rDD have, let 1 gb file ib HDFS, base RD loaded to RDD, then how many partition it will hwve\n",
    "# 8 block 8 partition in memeory\n",
    "wordsrdd.getNumPartitions()"
   ]
  },
  {
   "cell_type": "code",
   "execution_count": 6,
   "id": "a55b6fc0",
   "metadata": {},
   "outputs": [
    {
     "data": {
      "text/plain": [
       "2"
      ]
     },
     "execution_count": 6,
     "metadata": {},
     "output_type": "execute_result"
    }
   ],
   "source": [
    "spark.sparkContext.defaultParallelism\n",
    "# set by admins"
   ]
  },
  {
   "cell_type": "code",
   "execution_count": 7,
   "id": "95a70946",
   "metadata": {},
   "outputs": [],
   "source": [
    "orderRdd = spark.sparkContext.textFile(\"/public/trendytech/orders/orders.csv\")"
   ]
  },
  {
   "cell_type": "code",
   "execution_count": 8,
   "id": "527b3dd9",
   "metadata": {},
   "outputs": [
    {
     "data": {
      "text/plain": [
       "28"
      ]
     },
     "execution_count": 8,
     "metadata": {},
     "output_type": "execute_result"
    }
   ],
   "source": [
    "orderRdd.getNumPartitions()"
   ]
  },
  {
   "cell_type": "code",
   "execution_count": 9,
   "id": "56a1a50c",
   "metadata": {},
   "outputs": [
    {
     "data": {
      "text/plain": [
       "2"
      ]
     },
     "execution_count": 9,
     "metadata": {},
     "output_type": "execute_result"
    }
   ],
   "source": [
    "spark.sparkContext.defaultMinPartitions"
   ]
  },
  {
   "cell_type": "markdown",
   "id": "d096480a",
   "metadata": {},
   "source": [
    "# countByValue (o/p on driver)\n",
    "below example will be for the understanding\n",
    "its a action not a transformation = map+reduce\n",
    "its only be used if its end, if more xfr is needed than map+reduce by key should be used, which is accross the cluster."
   ]
  },
  {
   "cell_type": "code",
   "execution_count": 10,
   "id": "0fe47cbf",
   "metadata": {},
   "outputs": [],
   "source": [
    "orderRdd = spark.sparkContext.textFile(\"/public/trendytech/orders/orders.csv\")"
   ]
  },
  {
   "cell_type": "code",
   "execution_count": 11,
   "id": "1adae41c",
   "metadata": {},
   "outputs": [
    {
     "data": {
      "text/plain": [
       "['1,2013-07-25 00:00:00.0,11599,CLOSED',\n",
       " '2,2013-07-25 00:00:00.0,256,PENDING_PAYMENT',\n",
       " '3,2013-07-25 00:00:00.0,12111,COMPLETE',\n",
       " '4,2013-07-25 00:00:00.0,8827,CLOSED',\n",
       " '5,2013-07-25 00:00:00.0,11318,COMPLETE']"
      ]
     },
     "execution_count": 11,
     "metadata": {},
     "output_type": "execute_result"
    }
   ],
   "source": [
    "orderRdd.take(5)"
   ]
  },
  {
   "cell_type": "code",
   "execution_count": 12,
   "id": "d3946076",
   "metadata": {},
   "outputs": [
    {
     "data": {
      "text/plain": [
       "['CLOSED', 'PENDING_PAYMENT', 'COMPLETE', 'CLOSED', 'COMPLETE']"
      ]
     },
     "execution_count": 12,
     "metadata": {},
     "output_type": "execute_result"
    }
   ],
   "source": [
    "mappedRdd = orderRdd.map(lambda x: (x.split(\",\")[3]))\n",
    "mappedRdd.take(5)"
   ]
  },
  {
   "cell_type": "code",
   "execution_count": 13,
   "id": "0ff617d4",
   "metadata": {},
   "outputs": [
    {
     "data": {
      "text/plain": [
       "defaultdict(int,\n",
       "            {'CLOSED': 9445000,\n",
       "             'PENDING_PAYMENT': 18787500,\n",
       "             'COMPLETE': 28623750,\n",
       "             'PROCESSING': 10343750,\n",
       "             'PAYMENT_REVIEW': 911250,\n",
       "             'PENDING': 9512500,\n",
       "             'ON_HOLD': 4747500,\n",
       "             'CANCELED': 1785000,\n",
       "             'SUSPECTED_FRAUD': 1947500})"
      ]
     },
     "execution_count": 13,
     "metadata": {},
     "output_type": "execute_result"
    }
   ],
   "source": [
    "# getting the same value \n",
    "# orderSplit.map(lambda x: (x[3],1)) + orderPerStatus1.reduceByKey(lambda x,y: x+y)\n",
    "mappedRdd.countByValue()"
   ]
  },
  {
   "cell_type": "code",
   "execution_count": null,
   "id": "806983e9",
   "metadata": {},
   "outputs": [],
   "source": []
  }
 ],
 "metadata": {
  "kernelspec": {
   "display_name": "Pyspark 3",
   "language": "python",
   "name": "pyspark3"
  },
  "language_info": {
   "codemirror_mode": {
    "name": "ipython",
    "version": 3
   },
   "file_extension": ".py",
   "mimetype": "text/x-python",
   "name": "python",
   "nbconvert_exporter": "python",
   "pygments_lexer": "ipython3",
   "version": "3.6.12"
  }
 },
 "nbformat": 4,
 "nbformat_minor": 5
}
