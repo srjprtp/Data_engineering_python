{
 "cells": [
  {
   "cell_type": "code",
   "execution_count": 1,
   "id": "aeb654bc",
   "metadata": {},
   "outputs": [],
   "source": [
    "from pyspark.sql import SparkSession\n",
    "import getpass\n",
    "username = getpass.getuser()\n",
    "spark = SparkSession. \\\n",
    "builder. \\\n",
    "config('spark.ui.port','0'). \\\n",
    "config(\"spark.sql.warehouse.dir\", f\"/user/itv020649/warehouse\"). \\\n",
    "enableHiveSupport(). \\\n",
    "master('yarn'). \\\n",
    "getOrCreate()"
   ]
  },
  {
   "cell_type": "code",
   "execution_count": 2,
   "id": "b0340d7d",
   "metadata": {},
   "outputs": [
    {
     "data": {
      "text/html": [
       "\n",
       "            <div>\n",
       "                <p><b>SparkSession - hive</b></p>\n",
       "                \n",
       "        <div>\n",
       "            <p><b>SparkContext</b></p>\n",
       "\n",
       "            <p><a href=\"http://g01.itversity.com:43817\">Spark UI</a></p>\n",
       "\n",
       "            <dl>\n",
       "              <dt>Version</dt>\n",
       "                <dd><code>v3.1.2</code></dd>\n",
       "              <dt>Master</dt>\n",
       "                <dd><code>yarn</code></dd>\n",
       "              <dt>AppName</dt>\n",
       "                <dd><code>pyspark-shell</code></dd>\n",
       "            </dl>\n",
       "        </div>\n",
       "        \n",
       "            </div>\n",
       "        "
      ],
      "text/plain": [
       "<pyspark.sql.session.SparkSession at 0x7f7784812400>"
      ]
     },
     "execution_count": 2,
     "metadata": {},
     "output_type": "execute_result"
    }
   ],
   "source": [
    "spark"
   ]
  },
  {
   "cell_type": "code",
   "execution_count": 3,
   "id": "56f357a8",
   "metadata": {},
   "outputs": [],
   "source": [
    "orderDf = spark.read \\\n",
    ".format(\"csv\") \\\n",
    ".option(\"inferSchema\",\"true\") \\\n",
    ".option(\"header\",\"true\") \\\n",
    ".load(\"/public/trendytech/orders_wh/*\")"
   ]
  },
  {
   "cell_type": "code",
   "execution_count": 4,
   "id": "b908c377",
   "metadata": {},
   "outputs": [
    {
     "name": "stdout",
     "output_type": "stream",
     "text": [
      "+--------+--------------------+-----------+---------------+\n",
      "|order_id|          order_date|customer_id|   order_status|\n",
      "+--------+--------------------+-----------+---------------+\n",
      "|       1|2013-07-25 00:00:...|      11599|         CLOSED|\n",
      "|       2|2013-07-25 00:00:...|        256|PENDING_PAYMENT|\n",
      "|       3|2013-07-25 00:00:...|      12111|       COMPLETE|\n",
      "|       4|2013-07-25 00:00:...|       8827|         CLOSED|\n",
      "|       5|2013-07-25 00:00:...|      11318|       COMPLETE|\n",
      "|       6|2013-07-25 00:00:...|       7130|       COMPLETE|\n",
      "|       7|2013-07-25 00:00:...|       4530|       COMPLETE|\n",
      "|       8|2013-07-25 00:00:...|       2911|     PROCESSING|\n",
      "|       9|2013-07-25 00:00:...|       5657|PENDING_PAYMENT|\n",
      "|      10|2013-07-25 00:00:...|       5648|PENDING_PAYMENT|\n",
      "|      11|2013-07-25 00:00:...|        918| PAYMENT_REVIEW|\n",
      "|      12|2013-07-25 00:00:...|       1837|         CLOSED|\n",
      "|      13|2013-07-25 00:00:...|       9149|PENDING_PAYMENT|\n",
      "|      14|2013-07-25 00:00:...|       9842|     PROCESSING|\n",
      "|      15|2013-07-25 00:00:...|       2568|       COMPLETE|\n",
      "|      16|2013-07-25 00:00:...|       7276|PENDING_PAYMENT|\n",
      "|      17|2013-07-25 00:00:...|       2667|       COMPLETE|\n",
      "|      18|2013-07-25 00:00:...|       1205|         CLOSED|\n",
      "|      19|2013-07-25 00:00:...|       9488|PENDING_PAYMENT|\n",
      "|      20|2013-07-25 00:00:...|       9198|     PROCESSING|\n",
      "+--------+--------------------+-----------+---------------+\n",
      "only showing top 20 rows\n",
      "\n"
     ]
    }
   ],
   "source": [
    "orderDf.show()"
   ]
  },
  {
   "cell_type": "code",
   "execution_count": 5,
   "id": "d12e07e8",
   "metadata": {},
   "outputs": [
    {
     "name": "stdout",
     "output_type": "stream",
     "text": [
      "root\n",
      " |-- order_id: integer (nullable = true)\n",
      " |-- order_date: string (nullable = true)\n",
      " |-- customer_id: integer (nullable = true)\n",
      " |-- order_status: string (nullable = true)\n",
      "\n"
     ]
    }
   ],
   "source": [
    "orderDf.printSchema()"
   ]
  },
  {
   "cell_type": "markdown",
   "id": "8867ae28",
   "metadata": {},
   "source": [
    "## Higher Level API demo"
   ]
  },
  {
   "cell_type": "code",
   "execution_count": 6,
   "id": "47f1ab12",
   "metadata": {},
   "outputs": [],
   "source": [
    "orderDf.createOrReplaceTempView(\"orders\")"
   ]
  },
  {
   "cell_type": "code",
   "execution_count": 7,
   "id": "c3f7b0cd",
   "metadata": {},
   "outputs": [],
   "source": [
    "orderDf.createOrReplaceGlobalTempView(\"orders\")"
   ]
  },
  {
   "cell_type": "code",
   "execution_count": null,
   "id": "90a635bf",
   "metadata": {},
   "outputs": [],
   "source": []
  },
  {
   "cell_type": "markdown",
   "id": "fddd93d1",
   "metadata": {},
   "source": [
    "#### 1. find top 15 customer who place most no. of order"
   ]
  },
  {
   "cell_type": "code",
   "execution_count": 8,
   "id": "559fbe5b",
   "metadata": {},
   "outputs": [],
   "source": [
    "result = orderDf.groupBy(\"customer_id\").count().sort(\"count\",ascending = False).limit(15)"
   ]
  },
  {
   "cell_type": "code",
   "execution_count": 9,
   "id": "0d1237bf",
   "metadata": {},
   "outputs": [
    {
     "name": "stdout",
     "output_type": "stream",
     "text": [
      "+-----------+-----+\n",
      "|customer_id|count|\n",
      "+-----------+-----+\n",
      "|       5897|   16|\n",
      "|      12431|   16|\n",
      "|        569|   16|\n",
      "|       6316|   16|\n",
      "|      12284|   15|\n",
      "|       4320|   15|\n",
      "|       5624|   15|\n",
      "|       5283|   15|\n",
      "|        221|   15|\n",
      "|       5654|   15|\n",
      "|       6248|   14|\n",
      "|       3708|   14|\n",
      "|       1011|   14|\n",
      "|       8652|   14|\n",
      "|       4517|   14|\n",
      "+-----------+-----+\n",
      "\n"
     ]
    }
   ],
   "source": [
    "result.show()"
   ]
  },
  {
   "cell_type": "code",
   "execution_count": 10,
   "id": "69481329",
   "metadata": {},
   "outputs": [],
   "source": [
    "result = spark.sql(\"select customer_id, count(order_id) as count from orders group by customer_id order by count desc limit 15\")"
   ]
  },
  {
   "cell_type": "code",
   "execution_count": 11,
   "id": "3c1a3c49",
   "metadata": {},
   "outputs": [
    {
     "name": "stdout",
     "output_type": "stream",
     "text": [
      "+-----------+-----+\n",
      "|customer_id|count|\n",
      "+-----------+-----+\n",
      "|       5897|   16|\n",
      "|      12431|   16|\n",
      "|        569|   16|\n",
      "|       6316|   16|\n",
      "|      12284|   15|\n",
      "|       4320|   15|\n",
      "|       5624|   15|\n",
      "|       5283|   15|\n",
      "|        221|   15|\n",
      "|       5654|   15|\n",
      "|       6248|   14|\n",
      "|       3708|   14|\n",
      "|       1011|   14|\n",
      "|       8652|   14|\n",
      "|       4517|   14|\n",
      "+-----------+-----+\n",
      "\n"
     ]
    }
   ],
   "source": [
    "result.show()"
   ]
  },
  {
   "cell_type": "markdown",
   "id": "44157d2d",
   "metadata": {},
   "source": [
    "#### 2. no. of orders under esch order status"
   ]
  },
  {
   "cell_type": "code",
   "execution_count": 15,
   "id": "13e8abee",
   "metadata": {},
   "outputs": [
    {
     "data": {
      "text/html": [
       "<table border='1'>\n",
       "<tr><th>order_status</th><th>count</th></tr>\n",
       "<tr><td>PENDING_PAYMENT</td><td>15030</td></tr>\n",
       "<tr><td>COMPLETE</td><td>22899</td></tr>\n",
       "<tr><td>ON_HOLD</td><td>3798</td></tr>\n",
       "<tr><td>PAYMENT_REVIEW</td><td>729</td></tr>\n",
       "<tr><td>PROCESSING</td><td>8275</td></tr>\n",
       "<tr><td>CLOSED</td><td>7556</td></tr>\n",
       "<tr><td>SUSPECTED_FRAUD</td><td>1558</td></tr>\n",
       "<tr><td>PENDING</td><td>7610</td></tr>\n",
       "<tr><td>CANCELED</td><td>1428</td></tr>\n",
       "</table>\n"
      ],
      "text/plain": [
       "+---------------+-----+\n",
       "|   order_status|count|\n",
       "+---------------+-----+\n",
       "|PENDING_PAYMENT|15030|\n",
       "|       COMPLETE|22899|\n",
       "|        ON_HOLD| 3798|\n",
       "| PAYMENT_REVIEW|  729|\n",
       "|     PROCESSING| 8275|\n",
       "|         CLOSED| 7556|\n",
       "|SUSPECTED_FRAUD| 1558|\n",
       "|        PENDING| 7610|\n",
       "|       CANCELED| 1428|\n",
       "+---------------+-----+"
      ]
     },
     "execution_count": 15,
     "metadata": {},
     "output_type": "execute_result"
    }
   ],
   "source": [
    "orderDf.groupby(\"order_status\").count()"
   ]
  },
  {
   "cell_type": "code",
   "execution_count": null,
   "id": "41a2158a",
   "metadata": {},
   "outputs": [],
   "source": []
  },
  {
   "cell_type": "markdown",
   "id": "2b2608f6",
   "metadata": {},
   "source": [
    "#### 3. no. of active customer(who place atleast one order)"
   ]
  },
  {
   "cell_type": "code",
   "execution_count": 24,
   "id": "d4920dc0",
   "metadata": {},
   "outputs": [
    {
     "data": {
      "text/plain": [
       "12405"
      ]
     },
     "execution_count": 24,
     "metadata": {},
     "output_type": "execute_result"
    }
   ],
   "source": [
    "orderDf.select(\"customer_id\").distinct().count()\n",
    "#select is like MAP\n",
    "# count is transformation or action groupby+count = xfr, count=action"
   ]
  },
  {
   "cell_type": "markdown",
   "id": "d9bacb8f",
   "metadata": {},
   "source": [
    "#### 4. customers with most no. of closed orders"
   ]
  },
  {
   "cell_type": "code",
   "execution_count": 19,
   "id": "5e401519",
   "metadata": {},
   "outputs": [
    {
     "data": {
      "text/html": [
       "<table border='1'>\n",
       "<tr><th>customer_id</th><th>count</th></tr>\n",
       "<tr><td>1833</td><td>6</td></tr>\n",
       "<tr><td>1363</td><td>5</td></tr>\n",
       "<tr><td>1687</td><td>5</td></tr>\n",
       "<tr><td>5493</td><td>5</td></tr>\n",
       "<tr><td>9804</td><td>4</td></tr>\n",
       "<tr><td>2236</td><td>4</td></tr>\n",
       "<tr><td>7850</td><td>4</td></tr>\n",
       "<tr><td>12431</td><td>4</td></tr>\n",
       "<tr><td>2403</td><td>4</td></tr>\n",
       "<tr><td>1443</td><td>4</td></tr>\n",
       "</table>\n"
      ],
      "text/plain": [
       "+-----------+-----+\n",
       "|customer_id|count|\n",
       "+-----------+-----+\n",
       "|       1833|    6|\n",
       "|       5493|    5|\n",
       "|       1363|    5|\n",
       "|       1687|    5|\n",
       "|        569|    4|\n",
       "|       2768|    4|\n",
       "|      12431|    4|\n",
       "|       4588|    4|\n",
       "|       5319|    4|\n",
       "|       9804|    4|\n",
       "+-----------+-----+"
      ]
     },
     "execution_count": 19,
     "metadata": {},
     "output_type": "execute_result"
    }
   ],
   "source": [
    "orderDf.filter(\"order_status = 'CLOSED'\").groupby(\"customer_id\").count().sort(\"count\",ascending = False).limit(10)"
   ]
  },
  {
   "cell_type": "code",
   "execution_count": 22,
   "id": "9444cb5f",
   "metadata": {},
   "outputs": [
    {
     "data": {
      "text/html": [
       "<table border='1'>\n",
       "<tr><th>customer_id</th><th>count</th></tr>\n",
       "<tr><td>1833</td><td>6</td></tr>\n",
       "<tr><td>5493</td><td>5</td></tr>\n",
       "<tr><td>1363</td><td>5</td></tr>\n",
       "<tr><td>1687</td><td>5</td></tr>\n",
       "<tr><td>8630</td><td>4</td></tr>\n",
       "<tr><td>7879</td><td>4</td></tr>\n",
       "<tr><td>7948</td><td>4</td></tr>\n",
       "<tr><td>5319</td><td>4</td></tr>\n",
       "<tr><td>9804</td><td>4</td></tr>\n",
       "<tr><td>9830</td><td>4</td></tr>\n",
       "</table>\n"
      ],
      "text/plain": [
       "+-----------+-----+\n",
       "|customer_id|count|\n",
       "+-----------+-----+\n",
       "|       1833|    6|\n",
       "|       1687|    5|\n",
       "|       5493|    5|\n",
       "|       1363|    5|\n",
       "|       1443|    4|\n",
       "|       2768|    4|\n",
       "|      12431|    4|\n",
       "|       1521|    4|\n",
       "|       3631|    4|\n",
       "|      10263|    4|\n",
       "+-----------+-----+"
      ]
     },
     "execution_count": 22,
     "metadata": {},
     "output_type": "execute_result"
    }
   ],
   "source": [
    "spark.sql(\"select customer_id,count(*) as count from orders where order_status = 'CLOSED' group by 1 order by count desc limit 10\")"
   ]
  },
  {
   "cell_type": "code",
   "execution_count": null,
   "id": "0a75a972",
   "metadata": {},
   "outputs": [],
   "source": []
  }
 ],
 "metadata": {
  "kernelspec": {
   "display_name": "Pyspark 3",
   "language": "python",
   "name": "pyspark3"
  },
  "language_info": {
   "codemirror_mode": {
    "name": "ipython",
    "version": 3
   },
   "file_extension": ".py",
   "mimetype": "text/x-python",
   "name": "python",
   "nbconvert_exporter": "python",
   "pygments_lexer": "ipython3",
   "version": "3.6.12"
  }
 },
 "nbformat": 4,
 "nbformat_minor": 5
}
