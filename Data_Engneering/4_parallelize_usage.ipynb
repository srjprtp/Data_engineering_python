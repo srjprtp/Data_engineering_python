{
 "cells": [
  {
   "cell_type": "code",
   "execution_count": 1,
   "id": "c32fa649",
   "metadata": {},
   "outputs": [],
   "source": [
    "from pyspark.sql import SparkSession\n",
    "import getpass\n",
    "username = getpass.getuser()\n",
    "spark = SparkSession. \\\n",
    "builder. \\\n",
    "config('spark.ui.port','0'). \\\n",
    "config(\"spark.sql.warehouse.dir\", f\"/user/itv020649/warehouse\"). \\\n",
    "enableHiveSupport(). \\\n",
    "master('yarn'). \\\n",
    "getOrCreate()"
   ]
  },
  {
   "cell_type": "code",
   "execution_count": 2,
   "id": "465fe179",
   "metadata": {},
   "outputs": [
    {
     "data": {
      "text/html": [
       "\n",
       "            <div>\n",
       "                <p><b>SparkSession - hive</b></p>\n",
       "                \n",
       "        <div>\n",
       "            <p><b>SparkContext</b></p>\n",
       "\n",
       "            <p><a href=\"http://g01.itversity.com:36491\">Spark UI</a></p>\n",
       "\n",
       "            <dl>\n",
       "              <dt>Version</dt>\n",
       "                <dd><code>v3.1.2</code></dd>\n",
       "              <dt>Master</dt>\n",
       "                <dd><code>yarn</code></dd>\n",
       "              <dt>AppName</dt>\n",
       "                <dd><code>pyspark-shell</code></dd>\n",
       "            </dl>\n",
       "        </div>\n",
       "        \n",
       "            </div>\n",
       "        "
      ],
      "text/plain": [
       "<pyspark.sql.session.SparkSession at 0x7fce2c717320>"
      ]
     },
     "execution_count": 2,
     "metadata": {},
     "output_type": "execute_result"
    }
   ],
   "source": [
    "spark"
   ]
  },
  {
   "cell_type": "markdown",
   "id": "fc9a44c8",
   "metadata": {},
   "source": [
    "# develop alogic to process 10TB file (parallelize)\n",
    "frequency of each word\n",
    "local"
   ]
  },
  {
   "cell_type": "code",
   "execution_count": 3,
   "id": "4e7f671c",
   "metadata": {},
   "outputs": [],
   "source": [
    "# develop alogic to process 10TB file (parallelize)\n",
    "# frequency of each word\n",
    "word = (\"big\",\"Data\",\"Super\",\"INTRESTING\") \n",
    "# local"
   ]
  },
  {
   "cell_type": "code",
   "execution_count": 4,
   "id": "cf791e84",
   "metadata": {},
   "outputs": [],
   "source": [
    "wordsrdd = spark.sparkContext.parallelize(word)\n",
    "# RDD is created and ready to run in cluster"
   ]
  },
  {
   "cell_type": "code",
   "execution_count": 5,
   "id": "ca97a8cc",
   "metadata": {},
   "outputs": [],
   "source": [
    "wordsNormalize = wordsrdd.map(lambda x:(x.lower(),1))\n",
    "# normalized to same structure"
   ]
  },
  {
   "cell_type": "code",
   "execution_count": 6,
   "id": "ae64cf13",
   "metadata": {},
   "outputs": [
    {
     "data": {
      "text/plain": [
       "[('big', 1), ('data', 1), ('super', 1), ('intresting', 1)]"
      ]
     },
     "execution_count": 6,
     "metadata": {},
     "output_type": "execute_result"
    }
   ],
   "source": [
    "wordsNormalize.collect()"
   ]
  },
  {
   "cell_type": "code",
   "execution_count": 7,
   "id": "ca22fd37",
   "metadata": {},
   "outputs": [],
   "source": [
    "aggreatedWord = wordsNormalize.reduceByKey(lambda x,y:x+y)\n"
   ]
  },
  {
   "cell_type": "code",
   "execution_count": 8,
   "id": "34b15fad",
   "metadata": {},
   "outputs": [
    {
     "data": {
      "text/plain": [
       "[('super', 1), ('big', 1), ('data', 1), ('intresting', 1)]"
      ]
     },
     "execution_count": 8,
     "metadata": {},
     "output_type": "execute_result"
    }
   ],
   "source": [
    "aggreatedWord.collect()"
   ]
  },
  {
   "cell_type": "code",
   "execution_count": null,
   "id": "0260dbbe",
   "metadata": {},
   "outputs": [],
   "source": []
  },
  {
   "cell_type": "code",
   "execution_count": 9,
   "id": "641111fd",
   "metadata": {},
   "outputs": [],
   "source": [
    "result = spark.\\\n",
    "sparkContext. \\\n",
    "parallelize(word). \\\n",
    "map(lambda x:(x.lower(),1)). \\\n",
    "reduceByKey(lambda x,y:x+y)\n",
    "# a another way to write RDD and execute at once"
   ]
  },
  {
   "cell_type": "code",
   "execution_count": 10,
   "id": "33f9dcc5",
   "metadata": {},
   "outputs": [
    {
     "data": {
      "text/plain": [
       "[('super', 1), ('big', 1), ('data', 1), ('intresting', 1)]"
      ]
     },
     "execution_count": 10,
     "metadata": {},
     "output_type": "execute_result"
    }
   ],
   "source": [
    "result.collect()"
   ]
  },
  {
   "cell_type": "code",
   "execution_count": null,
   "id": "f5e3fc95",
   "metadata": {},
   "outputs": [],
   "source": []
  }
 ],
 "metadata": {
  "kernelspec": {
   "display_name": "Pyspark 3",
   "language": "python",
   "name": "pyspark3"
  },
  "language_info": {
   "codemirror_mode": {
    "name": "ipython",
    "version": 3
   },
   "file_extension": ".py",
   "mimetype": "text/x-python",
   "name": "python",
   "nbconvert_exporter": "python",
   "pygments_lexer": "ipython3",
   "version": "3.6.12"
  }
 },
 "nbformat": 4,
 "nbformat_minor": 5
}
