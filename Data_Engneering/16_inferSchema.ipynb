{
 "cells": [
  {
   "cell_type": "code",
   "execution_count": 1,
   "id": "34ab7445",
   "metadata": {},
   "outputs": [],
   "source": [
    "from pyspark.sql import SparkSession\n",
    "import getpass\n",
    "username = getpass.getuser()\n",
    "spark = SparkSession. \\\n",
    "builder. \\\n",
    "config('spark.ui.port','0'). \\\n",
    "config(\"spark.sql.warehouse.dir\", f\"/user/itv020649/warehouse\"). \\\n",
    "enableHiveSupport(). \\\n",
    "master('yarn'). \\\n",
    "getOrCreate()"
   ]
  },
  {
   "cell_type": "code",
   "execution_count": 2,
   "id": "5749dbaf",
   "metadata": {},
   "outputs": [],
   "source": [
    "orderDf = spark.read \\\n",
    ".format(\"csv\") \\\n",
    ".option(\"inferSchema\",\"true\") \\\n",
    ".option(\"header\",\"true\") \\\n",
    ".load(\"/public/yelp-dataset/yelp_user.csv\")"
   ]
  },
  {
   "cell_type": "code",
   "execution_count": 3,
   "id": "17458b6e",
   "metadata": {},
   "outputs": [
    {
     "name": "stdout",
     "output_type": "stream",
     "text": [
      "+--------------------+-------+------------+-------------+--------------------+------+-----+----+----+-----+-------------+--------------+---------------+------------------+---------------+---------------+---------------+----------------+---------------+----------------+-----------------+-----------------+\n",
      "|             user_id|   name|review_count|yelping_since|             friends|useful|funny|cool|fans|elite|average_stars|compliment_hot|compliment_more|compliment_profile|compliment_cute|compliment_list|compliment_note|compliment_plain|compliment_cool|compliment_funny|compliment_writer|compliment_photos|\n",
      "+--------------------+-------+------------+-------------+--------------------+------+-----+----+----+-----+-------------+--------------+---------------+------------------+---------------+---------------+---------------+----------------+---------------+----------------+-----------------+-----------------+\n",
      "|JJ-aSuM4pCFPdkfoZ...|  Chris|          10|   2013-09-24|0njfJmB-7n84DlIgU...|     0|    0|   0|   0| None|          3.7|             0|              0|                 0|              0|              0|              0|               0|              0|               0|                0|                0|\n",
      "|uUzsFQn_6cXDh6rPN...|  Tiffy|           1|   2017-03-02|                None|     0|    0|   0|   0| None|          2.0|             0|              0|                 0|              0|              0|              0|               0|              0|               0|                0|                0|\n",
      "|mBneaEEH5EMyxaVyq...|   Mark|           6|   2015-03-13|                None|     0|    0|   0|   0| None|         4.67|             0|              0|                 0|              0|              0|              0|               0|              0|               0|                0|                0|\n",
      "|W5mJGs-dcDWRGEhAz...| Evelyn|           3|   2016-09-08|                None|     0|    0|   0|   0| None|         4.67|             0|              0|                 0|              0|              0|              0|               0|              0|               0|                0|                0|\n",
      "|4E8--zUZO1Rr1IBK4...|   Lisa|          11|   2012-07-16|                None|     4|    0|   0|   0| None|         3.45|             0|              0|                 0|              0|              0|              0|               0|              0|               0|                1|                0|\n",
      "|Ob-2oGBQ7rwwYwUvh...|      B|           9|   2012-05-01|                None|     0|    0|   0|   0| None|         4.78|             0|              0|                 0|              0|              0|              0|               0|              0|               0|                0|                0|\n",
      "|JaTVvKsBl0bHHJEpE...|  Peter|           2|   2013-03-23|                None|     0|    0|   0|   0| None|          5.0|             0|              0|                 0|              0|              0|              0|               0|              0|               0|                0|                0|\n",
      "|Ykj0DVsz0c6rX9ghj...|Colleen|           1|   2010-10-10|                None|     0|    0|   0|   0| None|          1.0|             0|              0|                 0|              0|              0|              0|               0|              0|               0|                0|                0|\n",
      "|kmyEPfKnHQJdTceCd...|      A|           7|   2012-10-16|                None|     0|    0|   0|   0| None|         4.29|             0|              0|                 0|              0|              0|              0|               0|              0|               0|                0|                0|\n",
      "|H54pA7YHfjl8IjhHA...|   Chad|           3|   2010-06-25|                None|     0|    0|   0|   0| None|          5.0|             0|              0|                 0|              0|              0|              0|               0|              0|               0|                0|                0|\n",
      "|WRae-wZkpRoxMrgJd...|   Mike|           1|   2017-11-29|                None|     0|    0|   0|   0| None|          5.0|             0|              0|                 0|              0|              0|              0|               0|              0|               0|                0|                0|\n",
      "|Mmv5fPxbF8XEMN4EP...|  Chris|           2|   2016-06-24|                None|     0|    0|   0|   0| None|         1.67|             0|              0|                 0|              0|              0|              0|               0|              0|               0|                0|                0|\n",
      "|LdqGHXsNQowMrvgTN...|  Susan|           1|   2013-09-29|                None|     3|    1|   0|   0| None|          2.0|             0|              0|                 0|              0|              0|              0|               0|              0|               0|                0|                0|\n",
      "|TsgBsn19Wjwpyo81g...|  Cathy|           4|   2010-11-28|                None|     0|    0|   0|   0| None|          4.0|             0|              0|                 0|              0|              0|              1|               0|              0|               0|                0|                0|\n",
      "|V--GjQPlTpeWbcB2c...|   Cody|           2|   2017-10-24|                None|     2|    0|   1|   0| None|          3.0|             0|              0|                 0|              0|              0|              0|               0|              0|               0|                0|                0|\n",
      "|a_gKYQ5YMg39FHNYJ...|Joselyn|           1|   2017-11-07|                None|     0|    0|   0|   0| None|          5.0|             0|              0|                 0|              0|              0|              0|               0|              0|               0|                0|                0|\n",
      "|sz8Heh56kO_6_LBko...|Rosalie|           4|   2015-06-25|                None|     0|    0|   0|   0| None|          3.0|             0|              0|                 0|              0|              0|              0|               0|              0|               0|                0|                0|\n",
      "|h5ERTYn2vQ1QbjTZv...|  Bobby|           3|   2017-01-07|jYiZnueCr7gVq9T34...|     0|    0|   0|   0| None|         3.33|             0|              0|                 0|              0|              0|              0|               0|              0|               0|                0|                0|\n",
      "|jYnkJR3T8yCERXywo...|   Hugo|          48|   2010-07-06|hkXekeW_Jj6mIy8r8...|    15|    6|   2|   3| None|         3.73|             2|              0|                 0|              0|              0|              1|               1|              1|               1|                2|                0|\n",
      "|GMGZsk1dj043UI3zW...|   volk|           0|   2011-08-05|                None|     0|    0|   0|   0| None|         4.29|             0|              0|                 0|              0|              0|              0|               0|              0|               0|                0|                0|\n",
      "+--------------------+-------+------------+-------------+--------------------+------+-----+----+----+-----+-------------+--------------+---------------+------------------+---------------+---------------+---------------+----------------+---------------+----------------+-----------------+-----------------+\n",
      "only showing top 20 rows\n",
      "\n"
     ]
    }
   ],
   "source": [
    "orderDf.show()"
   ]
  },
  {
   "cell_type": "code",
   "execution_count": 4,
   "id": "33ee59a1",
   "metadata": {},
   "outputs": [
    {
     "name": "stdout",
     "output_type": "stream",
     "text": [
      "root\n",
      " |-- user_id: string (nullable = true)\n",
      " |-- name: string (nullable = true)\n",
      " |-- review_count: integer (nullable = true)\n",
      " |-- yelping_since: string (nullable = true)\n",
      " |-- friends: string (nullable = true)\n",
      " |-- useful: integer (nullable = true)\n",
      " |-- funny: integer (nullable = true)\n",
      " |-- cool: integer (nullable = true)\n",
      " |-- fans: integer (nullable = true)\n",
      " |-- elite: string (nullable = true)\n",
      " |-- average_stars: double (nullable = true)\n",
      " |-- compliment_hot: integer (nullable = true)\n",
      " |-- compliment_more: integer (nullable = true)\n",
      " |-- compliment_profile: integer (nullable = true)\n",
      " |-- compliment_cute: integer (nullable = true)\n",
      " |-- compliment_list: integer (nullable = true)\n",
      " |-- compliment_note: integer (nullable = true)\n",
      " |-- compliment_plain: integer (nullable = true)\n",
      " |-- compliment_cool: integer (nullable = true)\n",
      " |-- compliment_funny: integer (nullable = true)\n",
      " |-- compliment_writer: integer (nullable = true)\n",
      " |-- compliment_photos: integer (nullable = true)\n",
      "\n"
     ]
    }
   ],
   "source": [
    "orderDf.printSchema()"
   ]
  },
  {
   "cell_type": "code",
   "execution_count": 5,
   "id": "fffb3dc6",
   "metadata": {},
   "outputs": [],
   "source": [
    "#using sampling ratio\n",
    "orderDf = spark.read \\\n",
    ".format(\"csv\") \\\n",
    ".option(\"inferSchema\",\"true\") \\\n",
    ".option(\"samplingRatio\",.001) \\\n",
    ".option(\"header\",\"true\") \\\n",
    ".load(\"/public/yelp-dataset/yelp_user.csv\")"
   ]
  },
  {
   "cell_type": "code",
   "execution_count": null,
   "id": "61ec807d",
   "metadata": {},
   "outputs": [],
   "source": []
  },
  {
   "cell_type": "code",
   "execution_count": 6,
   "id": "c98a94de",
   "metadata": {},
   "outputs": [
    {
     "name": "stdout",
     "output_type": "stream",
     "text": [
      "root\n",
      " |-- user_id: string (nullable = true)\n",
      " |-- name: string (nullable = true)\n",
      " |-- review_count: integer (nullable = true)\n",
      " |-- yelping_since: string (nullable = true)\n",
      " |-- friends: string (nullable = true)\n",
      " |-- useful: integer (nullable = true)\n",
      " |-- funny: integer (nullable = true)\n",
      " |-- cool: integer (nullable = true)\n",
      " |-- fans: integer (nullable = true)\n",
      " |-- elite: string (nullable = true)\n",
      " |-- average_stars: double (nullable = true)\n",
      " |-- compliment_hot: integer (nullable = true)\n",
      " |-- compliment_more: integer (nullable = true)\n",
      " |-- compliment_profile: integer (nullable = true)\n",
      " |-- compliment_cute: integer (nullable = true)\n",
      " |-- compliment_list: integer (nullable = true)\n",
      " |-- compliment_note: integer (nullable = true)\n",
      " |-- compliment_plain: integer (nullable = true)\n",
      " |-- compliment_cool: integer (nullable = true)\n",
      " |-- compliment_funny: integer (nullable = true)\n",
      " |-- compliment_writer: integer (nullable = true)\n",
      " |-- compliment_photos: integer (nullable = true)\n",
      "\n"
     ]
    }
   ],
   "source": [
    "orderDf.printSchema()"
   ]
  },
  {
   "cell_type": "markdown",
   "id": "b0dc3132",
   "metadata": {},
   "source": [
    "#### enforcing schema"
   ]
  },
  {
   "cell_type": "code",
   "execution_count": 7,
   "id": "7cc25bf1",
   "metadata": {},
   "outputs": [],
   "source": [
    "order_schema = 'order_id long,order_date date,cust_id long,order_status string'"
   ]
  },
  {
   "cell_type": "code",
   "execution_count": 8,
   "id": "322b853e",
   "metadata": {},
   "outputs": [],
   "source": [
    "orderDf = spark.read \\\n",
    ".format(\"csv\") \\\n",
    ".schema(order_schema) \\\n",
    ".load(\"/public/trendytech/datasets/orders_sample1.csv\")"
   ]
  },
  {
   "cell_type": "markdown",
   "id": "5981c6a9",
   "metadata": {},
   "source": [
    "#### 2 ways to infer schema\n",
    "1. order_schema = 'order_id long,order_date date,cust_id long,order_status string'  (for data type mismatch it will show NULL)\n",
    "2. StructType \n",
    "StructType([\n",
    "structField(\"orderid\",LongType()),\n",
    "structField(\"orderdate\",date()),\n",
    "structField(\"custid\",IntegerType()),\n",
    "structField(\"orderid\",StringType())\n",
    "])"
   ]
  },
  {
   "cell_type": "code",
   "execution_count": 9,
   "id": "ee77177b",
   "metadata": {},
   "outputs": [
    {
     "name": "stdout",
     "output_type": "stream",
     "text": [
      "+--------+----------+-------+---------------+\n",
      "|order_id|order_date|cust_id|   order_status|\n",
      "+--------+----------+-------+---------------+\n",
      "|       1|2013-07-25|  11599|         CLOSED|\n",
      "|       2|2013-07-25|    256|PENDING_PAYMENT|\n",
      "|       3|2013-07-25|  12111|       COMPLETE|\n",
      "|       4|2013-07-25|   8827|         CLOSED|\n",
      "|       5|2013-07-25|  11318|       COMPLETE|\n",
      "|       6|2013-07-25|   7130|       COMPLETE|\n",
      "|       7|2013-07-25|   4530|       COMPLETE|\n",
      "|       8|2013-07-25|   2911|     PROCESSING|\n",
      "|       9|2013-07-25|   5657|PENDING_PAYMENT|\n",
      "|      10|2013-07-25|   5648|PENDING_PAYMENT|\n",
      "+--------+----------+-------+---------------+\n",
      "\n"
     ]
    }
   ],
   "source": [
    "orderDf.show()"
   ]
  },
  {
   "cell_type": "code",
   "execution_count": 10,
   "id": "4ed20d07",
   "metadata": {},
   "outputs": [
    {
     "name": "stdout",
     "output_type": "stream",
     "text": [
      "root\n",
      " |-- order_id: long (nullable = true)\n",
      " |-- order_date: date (nullable = true)\n",
      " |-- cust_id: long (nullable = true)\n",
      " |-- order_status: string (nullable = true)\n",
      "\n"
     ]
    }
   ],
   "source": [
    "orderDf.printSchema()"
   ]
  },
  {
   "cell_type": "code",
   "execution_count": 11,
   "id": "a757c464",
   "metadata": {},
   "outputs": [],
   "source": [
    "from pyspark.sql.types import *"
   ]
  },
  {
   "cell_type": "code",
   "execution_count": 12,
   "id": "12d29152",
   "metadata": {},
   "outputs": [],
   "source": [
    "orderSchemaStruct = StructType([\n",
    "StructField(\"orderid\",LongType()),\n",
    "StructField(\"orderdate\",DateType()),\n",
    "StructField(\"custid\",IntegerType()),\n",
    "StructField(\"orderstatus\",StringType()),\n",
    "])"
   ]
  },
  {
   "cell_type": "code",
   "execution_count": 13,
   "id": "ad3670ca",
   "metadata": {},
   "outputs": [],
   "source": [
    "orderDf = spark.read \\\n",
    ".format(\"csv\") \\\n",
    ".schema(orderSchemaStruct) \\\n",
    ".load(\"/public/trendytech/datasets/orders_sample1.csv\")\n",
    "#date format yyyy-mm-dd"
   ]
  },
  {
   "cell_type": "markdown",
   "id": "7c734e78",
   "metadata": {},
   "source": [
    "### Deal with Date type"
   ]
  },
  {
   "cell_type": "code",
   "execution_count": 14,
   "id": "b3602762",
   "metadata": {},
   "outputs": [
    {
     "name": "stdout",
     "output_type": "stream",
     "text": [
      "root\n",
      " |-- orderid: long (nullable = true)\n",
      " |-- orderdate: date (nullable = true)\n",
      " |-- custid: integer (nullable = true)\n",
      " |-- orderstatus: string (nullable = true)\n",
      "\n"
     ]
    }
   ],
   "source": [
    "orderDf.printSchema()"
   ]
  },
  {
   "cell_type": "code",
   "execution_count": 15,
   "id": "36e2f6c1",
   "metadata": {},
   "outputs": [],
   "source": [
    "orderDf = spark.read \\\n",
    ".format(\"csv\") \\\n",
    ".schema(orderSchemaStruct) \\\n",
    ".load(\"/public/trendytech/datasets/orders_sample2.csv\")\n",
    "#date format dd-mm-yyyy"
   ]
  },
  {
   "cell_type": "code",
   "execution_count": 16,
   "id": "14a4321d",
   "metadata": {},
   "outputs": [
    {
     "name": "stdout",
     "output_type": "stream",
     "text": [
      "1,07-25-2013,11599,CLOSED\n",
      "2,07-25-2013,256,PENDING_PAYMENT\n",
      "3,07-25-2013,12111,COMPLETE\n",
      "4,07-25-2013,8827,CLOSED\n",
      "5,07-25-2013,11318,COMPLETE\n",
      "6,07-25-2013,7130,COMPLETE\n",
      "7,07-25-2013,4530,COMPLETE\n",
      "8,07-25-2013,2911,PROCESSING\n",
      "9,07-25-2013,5657,PENDING_PAYMENT\n",
      "10,07-25-2013,5648,PENDING_PAYMENT\n"
     ]
    }
   ],
   "source": [
    "! hadoop fs -cat /public/trendytech/datasets/orders_sample2.csv|head"
   ]
  },
  {
   "cell_type": "code",
   "execution_count": 17,
   "id": "fdbf169a",
   "metadata": {},
   "outputs": [],
   "source": [
    "order_schema = 'order_id long,order_date date,cust_id long,order_status string'"
   ]
  },
  {
   "cell_type": "code",
   "execution_count": 18,
   "id": "eedc30a4",
   "metadata": {},
   "outputs": [],
   "source": [
    "orderDf = spark.read \\\n",
    ".format(\"csv\") \\\n",
    ".schema(orderSchemaStruct) \\\n",
    ".option(\"dateFormat\",\"mm-dd-yyyy\") \\\n",
    ".load(\"/public/trendytech/datasets/orders_sample2.csv\")\n",
    "#date format dd-mm-yyyy"
   ]
  },
  {
   "cell_type": "markdown",
   "id": "c52b2269",
   "metadata": {},
   "source": [
    "#### date can have different and confusing behabior so parse as string and later"
   ]
  },
  {
   "cell_type": "code",
   "execution_count": 19,
   "id": "96424cf2",
   "metadata": {},
   "outputs": [
    {
     "name": "stdout",
     "output_type": "stream",
     "text": [
      "+-------+----------+------+---------------+\n",
      "|orderid| orderdate|custid|    orderstatus|\n",
      "+-------+----------+------+---------------+\n",
      "|      1|2013-01-25| 11599|         CLOSED|\n",
      "|      2|2013-01-25|   256|PENDING_PAYMENT|\n",
      "|      3|2013-01-25| 12111|       COMPLETE|\n",
      "|      4|2013-01-25|  8827|         CLOSED|\n",
      "|      5|2013-01-25| 11318|       COMPLETE|\n",
      "|      6|2013-01-25|  7130|       COMPLETE|\n",
      "|      7|2013-01-25|  4530|       COMPLETE|\n",
      "|      8|2013-01-25|  2911|     PROCESSING|\n",
      "|      9|2013-01-25|  5657|PENDING_PAYMENT|\n",
      "|     10|2013-01-25|  5648|PENDING_PAYMENT|\n",
      "+-------+----------+------+---------------+\n",
      "\n"
     ]
    }
   ],
   "source": [
    "orderDf.show()"
   ]
  },
  {
   "cell_type": "code",
   "execution_count": 20,
   "id": "dcede735",
   "metadata": {},
   "outputs": [],
   "source": [
    "order_schema = 'order_id long,order_date string,cust_id long,order_status string'"
   ]
  },
  {
   "cell_type": "code",
   "execution_count": 21,
   "id": "62822b1b",
   "metadata": {},
   "outputs": [],
   "source": [
    "orderDf = spark.read \\\n",
    ".format(\"csv\") \\\n",
    ".schema(order_schema) \\\n",
    ".load(\"/public/trendytech/datasets/orders_sample2.csv\")"
   ]
  },
  {
   "cell_type": "code",
   "execution_count": 22,
   "id": "b624fa46",
   "metadata": {},
   "outputs": [
    {
     "name": "stdout",
     "output_type": "stream",
     "text": [
      "+--------+----------+-------+---------------+\n",
      "|order_id|order_date|cust_id|   order_status|\n",
      "+--------+----------+-------+---------------+\n",
      "|       1|07-25-2013|  11599|         CLOSED|\n",
      "|       2|07-25-2013|    256|PENDING_PAYMENT|\n",
      "|       3|07-25-2013|  12111|       COMPLETE|\n",
      "|       4|07-25-2013|   8827|         CLOSED|\n",
      "|       5|07-25-2013|  11318|       COMPLETE|\n",
      "|       6|07-25-2013|   7130|       COMPLETE|\n",
      "|       7|07-25-2013|   4530|       COMPLETE|\n",
      "|       8|07-25-2013|   2911|     PROCESSING|\n",
      "|       9|07-25-2013|   5657|PENDING_PAYMENT|\n",
      "|      10|07-25-2013|   5648|PENDING_PAYMENT|\n",
      "+--------+----------+-------+---------------+\n",
      "\n"
     ]
    }
   ],
   "source": [
    "orderDf.show()"
   ]
  },
  {
   "cell_type": "code",
   "execution_count": 23,
   "id": "579bdf46",
   "metadata": {},
   "outputs": [
    {
     "name": "stdout",
     "output_type": "stream",
     "text": [
      "root\n",
      " |-- order_id: long (nullable = true)\n",
      " |-- order_date: string (nullable = true)\n",
      " |-- cust_id: long (nullable = true)\n",
      " |-- order_status: string (nullable = true)\n",
      "\n"
     ]
    }
   ],
   "source": [
    "orderDf.printSchema()"
   ]
  },
  {
   "cell_type": "code",
   "execution_count": 24,
   "id": "97c9e92d",
   "metadata": {},
   "outputs": [],
   "source": [
    "from pyspark.sql.functions import to_date"
   ]
  },
  {
   "cell_type": "markdown",
   "id": "b774345e",
   "metadata": {},
   "source": [
    "#### WithColumn used to change current column or change existing column"
   ]
  },
  {
   "cell_type": "code",
   "execution_count": 25,
   "id": "53be3bdc",
   "metadata": {},
   "outputs": [],
   "source": [
    "new_df = orderDf.withColumn(\"order_date_new\",to_date(\"order_date\",\"mm-dd-yyyy\"))"
   ]
  },
  {
   "cell_type": "code",
   "execution_count": 26,
   "id": "076fba41",
   "metadata": {},
   "outputs": [
    {
     "name": "stdout",
     "output_type": "stream",
     "text": [
      "+--------+----------+-------+---------------+--------------+\n",
      "|order_id|order_date|cust_id|   order_status|order_date_new|\n",
      "+--------+----------+-------+---------------+--------------+\n",
      "|       1|07-25-2013|  11599|         CLOSED|    2013-01-25|\n",
      "|       2|07-25-2013|    256|PENDING_PAYMENT|    2013-01-25|\n",
      "|       3|07-25-2013|  12111|       COMPLETE|    2013-01-25|\n",
      "|       4|07-25-2013|   8827|         CLOSED|    2013-01-25|\n",
      "|       5|07-25-2013|  11318|       COMPLETE|    2013-01-25|\n",
      "|       6|07-25-2013|   7130|       COMPLETE|    2013-01-25|\n",
      "|       7|07-25-2013|   4530|       COMPLETE|    2013-01-25|\n",
      "|       8|07-25-2013|   2911|     PROCESSING|    2013-01-25|\n",
      "|       9|07-25-2013|   5657|PENDING_PAYMENT|    2013-01-25|\n",
      "|      10|07-25-2013|   5648|PENDING_PAYMENT|    2013-01-25|\n",
      "+--------+----------+-------+---------------+--------------+\n",
      "\n"
     ]
    }
   ],
   "source": [
    "new_df.show()"
   ]
  },
  {
   "cell_type": "code",
   "execution_count": 27,
   "id": "c6410674",
   "metadata": {},
   "outputs": [
    {
     "name": "stdout",
     "output_type": "stream",
     "text": [
      "root\n",
      " |-- order_id: long (nullable = true)\n",
      " |-- order_date: string (nullable = true)\n",
      " |-- cust_id: long (nullable = true)\n",
      " |-- order_status: string (nullable = true)\n",
      " |-- order_date_new: date (nullable = true)\n",
      "\n"
     ]
    }
   ],
   "source": [
    "new_df.printSchema()"
   ]
  },
  {
   "cell_type": "markdown",
   "id": "3ffaba73",
   "metadata": {},
   "source": [
    "#### in case of data mis match it will give null"
   ]
  },
  {
   "cell_type": "code",
   "execution_count": 28,
   "id": "7030d031",
   "metadata": {},
   "outputs": [],
   "source": [
    "order_schema = 'order_id string,order_date string,cust_id int,order_status string'"
   ]
  },
  {
   "cell_type": "code",
   "execution_count": 29,
   "id": "bc70c667",
   "metadata": {},
   "outputs": [],
   "source": [
    "orderDf = spark.read \\\n",
    ".format(\"csv\") \\\n",
    ".schema(order_schema) \\\n",
    ".load(\"/public/trendytech/datasets/orders_sample3.csv\")"
   ]
  },
  {
   "cell_type": "code",
   "execution_count": 30,
   "id": "e294f026",
   "metadata": {},
   "outputs": [
    {
     "name": "stdout",
     "output_type": "stream",
     "text": [
      "+--------+----------+-------+---------------+\n",
      "|order_id|order_date|cust_id|   order_status|\n",
      "+--------+----------+-------+---------------+\n",
      "|       1|2013-07-25|  11599|         CLOSED|\n",
      "|       2|2013-07-25|    256|PENDING_PAYMENT|\n",
      "|       3|2013-07-25|  12111|       COMPLETE|\n",
      "|       4|2013-07-25|   8827|         CLOSED|\n",
      "|       5|2013-07-25|  11318|       COMPLETE|\n",
      "|       6|2013-07-25|   7130|       COMPLETE|\n",
      "|       7|2013-07-25|   null|       COMPLETE|\n",
      "|       8|2013-07-25|   2911|     PROCESSING|\n",
      "|       9|2013-07-25|   null|PENDING_PAYMENT|\n",
      "|      10|2013-07-25|   5648|PENDING_PAYMENT|\n",
      "+--------+----------+-------+---------------+\n",
      "\n"
     ]
    }
   ],
   "source": [
    "orderDf.show()"
   ]
  },
  {
   "cell_type": "markdown",
   "id": "93883186",
   "metadata": {},
   "source": [
    "## Read Modes"
   ]
  },
  {
   "cell_type": "markdown",
   "id": "af35ad88",
   "metadata": {},
   "source": [
    "Failfast->it fail when parssing issue\n",
    ", permissive(default)->it will parse but for bad data it will give null\n",
    ", dropmalformed-> drop mal formed record"
   ]
  },
  {
   "cell_type": "code",
   "execution_count": 31,
   "id": "ef1d36c3",
   "metadata": {},
   "outputs": [],
   "source": [
    "orderDf = spark.read \\\n",
    ".format(\"csv\") \\\n",
    ".schema(order_schema) \\\n",
    ".option(\"mode\",\"dropmalformed\") \\\n",
    ".load(\"/public/trendytech/datasets/orders_sample3.csv\")"
   ]
  },
  {
   "cell_type": "code",
   "execution_count": 32,
   "id": "7835fe03",
   "metadata": {},
   "outputs": [
    {
     "name": "stdout",
     "output_type": "stream",
     "text": [
      "+--------+----------+-------+---------------+\n",
      "|order_id|order_date|cust_id|   order_status|\n",
      "+--------+----------+-------+---------------+\n",
      "|       1|2013-07-25|  11599|         CLOSED|\n",
      "|       2|2013-07-25|    256|PENDING_PAYMENT|\n",
      "|       3|2013-07-25|  12111|       COMPLETE|\n",
      "|       4|2013-07-25|   8827|         CLOSED|\n",
      "|       5|2013-07-25|  11318|       COMPLETE|\n",
      "|       6|2013-07-25|   7130|       COMPLETE|\n",
      "|       8|2013-07-25|   2911|     PROCESSING|\n",
      "|      10|2013-07-25|   5648|PENDING_PAYMENT|\n",
      "+--------+----------+-------+---------------+\n",
      "\n"
     ]
    }
   ],
   "source": [
    "orderDf.show()"
   ]
  },
  {
   "cell_type": "code",
   "execution_count": 33,
   "id": "0fc429ae",
   "metadata": {},
   "outputs": [],
   "source": [
    "orderDf = spark.read \\\n",
    ".format(\"csv\") \\\n",
    ".schema(order_schema) \\\n",
    ".option(\"mode\",\"failfast\") \\\n",
    ".load(\"/public/trendytech/datasets/orders_sample3.csv\")"
   ]
  },
  {
   "cell_type": "code",
   "execution_count": 34,
   "id": "39b6de09",
   "metadata": {},
   "outputs": [
    {
     "ename": "Py4JJavaError",
     "evalue": "An error occurred while calling o176.showString.\n: org.apache.spark.SparkException: Job aborted due to stage failure: Task 0 in stage 11.0 failed 4 times, most recent failure: Lost task 0.3 in stage 11.0 (TID 34) (w01.itversity.com executor 2): org.apache.spark.SparkException: Malformed records are detected in record parsing. Parse Mode: FAILFAST. To process malformed records as null result, try setting the option 'mode' as 'PERMISSIVE'.\n\tat org.apache.spark.sql.catalyst.util.FailureSafeParser.parse(FailureSafeParser.scala:70)\n\tat org.apache.spark.sql.catalyst.csv.UnivocityParser$.$anonfun$parseIterator$2(UnivocityParser.scala:400)\n\tat scala.collection.Iterator$$anon$11.nextCur(Iterator.scala:484)\n\tat scala.collection.Iterator$$anon$11.hasNext(Iterator.scala:490)\n\tat scala.collection.Iterator$$anon$10.hasNext(Iterator.scala:458)\n\tat org.apache.spark.sql.execution.datasources.FileScanRDD$$anon$1.hasNext(FileScanRDD.scala:93)\n\tat scala.collection.Iterator$$anon$10.hasNext(Iterator.scala:458)\n\tat org.apache.spark.sql.catalyst.expressions.GeneratedClass$GeneratedIteratorForCodegenStage1.processNext(Unknown Source)\n\tat org.apache.spark.sql.execution.BufferedRowIterator.hasNext(BufferedRowIterator.java:43)\n\tat org.apache.spark.sql.execution.WholeStageCodegenExec$$anon$1.hasNext(WholeStageCodegenExec.scala:755)\n\tat org.apache.spark.sql.execution.SparkPlan.$anonfun$getByteArrayRdd$1(SparkPlan.scala:345)\n\tat org.apache.spark.rdd.RDD.$anonfun$mapPartitionsInternal$2(RDD.scala:898)\n\tat org.apache.spark.rdd.RDD.$anonfun$mapPartitionsInternal$2$adapted(RDD.scala:898)\n\tat org.apache.spark.rdd.MapPartitionsRDD.compute(MapPartitionsRDD.scala:52)\n\tat org.apache.spark.rdd.RDD.computeOrReadCheckpoint(RDD.scala:373)\n\tat org.apache.spark.rdd.RDD.iterator(RDD.scala:337)\n\tat org.apache.spark.scheduler.ResultTask.runTask(ResultTask.scala:90)\n\tat org.apache.spark.scheduler.Task.run(Task.scala:131)\n\tat org.apache.spark.executor.Executor$TaskRunner.$anonfun$run$3(Executor.scala:497)\n\tat org.apache.spark.util.Utils$.tryWithSafeFinally(Utils.scala:1439)\n\tat org.apache.spark.executor.Executor$TaskRunner.run(Executor.scala:500)\n\tat java.util.concurrent.ThreadPoolExecutor.runWorker(ThreadPoolExecutor.java:1149)\n\tat java.util.concurrent.ThreadPoolExecutor$Worker.run(ThreadPoolExecutor.java:624)\n\tat java.lang.Thread.run(Thread.java:748)\nCaused by: org.apache.spark.sql.catalyst.util.BadRecordException: java.lang.NumberFormatException: For input string: \"error\"\n\tat org.apache.spark.sql.catalyst.csv.UnivocityParser.org$apache$spark$sql$catalyst$csv$UnivocityParser$$convert(UnivocityParser.scala:309)\n\tat org.apache.spark.sql.catalyst.csv.UnivocityParser.$anonfun$parse$2(UnivocityParser.scala:254)\n\tat org.apache.spark.sql.catalyst.csv.UnivocityParser$.$anonfun$parseIterator$1(UnivocityParser.scala:396)\n\tat org.apache.spark.sql.catalyst.util.FailureSafeParser.parse(FailureSafeParser.scala:60)\n\t... 23 more\nCaused by: java.lang.NumberFormatException: For input string: \"error\"\n\tat java.lang.NumberFormatException.forInputString(NumberFormatException.java:65)\n\tat java.lang.Integer.parseInt(Integer.java:580)\n\tat java.lang.Integer.parseInt(Integer.java:615)\n\tat scala.collection.immutable.StringLike.toInt(StringLike.scala:304)\n\tat scala.collection.immutable.StringLike.toInt$(StringLike.scala:304)\n\tat scala.collection.immutable.StringOps.toInt(StringOps.scala:33)\n\tat org.apache.spark.sql.catalyst.csv.UnivocityParser.$anonfun$makeConverter$6(UnivocityParser.scala:157)\n\tat org.apache.spark.sql.catalyst.csv.UnivocityParser.$anonfun$makeConverter$6$adapted(UnivocityParser.scala:157)\n\tat org.apache.spark.sql.catalyst.csv.UnivocityParser.nullSafeDatum(UnivocityParser.scala:238)\n\tat org.apache.spark.sql.catalyst.csv.UnivocityParser.$anonfun$makeConverter$5(UnivocityParser.scala:157)\n\tat org.apache.spark.sql.catalyst.csv.UnivocityParser.org$apache$spark$sql$catalyst$csv$UnivocityParser$$convert(UnivocityParser.scala:291)\n\t... 26 more\n\nDriver stacktrace:\n\tat org.apache.spark.scheduler.DAGScheduler.failJobAndIndependentStages(DAGScheduler.scala:2258)\n\tat org.apache.spark.scheduler.DAGScheduler.$anonfun$abortStage$2(DAGScheduler.scala:2207)\n\tat org.apache.spark.scheduler.DAGScheduler.$anonfun$abortStage$2$adapted(DAGScheduler.scala:2206)\n\tat scala.collection.mutable.ResizableArray.foreach(ResizableArray.scala:62)\n\tat scala.collection.mutable.ResizableArray.foreach$(ResizableArray.scala:55)\n\tat scala.collection.mutable.ArrayBuffer.foreach(ArrayBuffer.scala:49)\n\tat org.apache.spark.scheduler.DAGScheduler.abortStage(DAGScheduler.scala:2206)\n\tat org.apache.spark.scheduler.DAGScheduler.$anonfun$handleTaskSetFailed$1(DAGScheduler.scala:1079)\n\tat org.apache.spark.scheduler.DAGScheduler.$anonfun$handleTaskSetFailed$1$adapted(DAGScheduler.scala:1079)\n\tat scala.Option.foreach(Option.scala:407)\n\tat org.apache.spark.scheduler.DAGScheduler.handleTaskSetFailed(DAGScheduler.scala:1079)\n\tat org.apache.spark.scheduler.DAGSchedulerEventProcessLoop.doOnReceive(DAGScheduler.scala:2445)\n\tat org.apache.spark.scheduler.DAGSchedulerEventProcessLoop.onReceive(DAGScheduler.scala:2387)\n\tat org.apache.spark.scheduler.DAGSchedulerEventProcessLoop.onReceive(DAGScheduler.scala:2376)\n\tat org.apache.spark.util.EventLoop$$anon$1.run(EventLoop.scala:49)\n\tat org.apache.spark.scheduler.DAGScheduler.runJob(DAGScheduler.scala:868)\n\tat org.apache.spark.SparkContext.runJob(SparkContext.scala:2196)\n\tat org.apache.spark.SparkContext.runJob(SparkContext.scala:2217)\n\tat org.apache.spark.SparkContext.runJob(SparkContext.scala:2236)\n\tat org.apache.spark.sql.execution.SparkPlan.executeTake(SparkPlan.scala:472)\n\tat org.apache.spark.sql.execution.SparkPlan.executeTake(SparkPlan.scala:425)\n\tat org.apache.spark.sql.execution.CollectLimitExec.executeCollect(limit.scala:47)\n\tat org.apache.spark.sql.Dataset.collectFromPlan(Dataset.scala:3696)\n\tat org.apache.spark.sql.Dataset.$anonfun$head$1(Dataset.scala:2722)\n\tat org.apache.spark.sql.Dataset.$anonfun$withAction$1(Dataset.scala:3687)\n\tat org.apache.spark.sql.execution.SQLExecution$.$anonfun$withNewExecutionId$5(SQLExecution.scala:103)\n\tat org.apache.spark.sql.execution.SQLExecution$.withSQLConfPropagated(SQLExecution.scala:163)\n\tat org.apache.spark.sql.execution.SQLExecution$.$anonfun$withNewExecutionId$1(SQLExecution.scala:90)\n\tat org.apache.spark.sql.SparkSession.withActive(SparkSession.scala:775)\n\tat org.apache.spark.sql.execution.SQLExecution$.withNewExecutionId(SQLExecution.scala:64)\n\tat org.apache.spark.sql.Dataset.withAction(Dataset.scala:3685)\n\tat org.apache.spark.sql.Dataset.head(Dataset.scala:2722)\n\tat org.apache.spark.sql.Dataset.take(Dataset.scala:2929)\n\tat org.apache.spark.sql.Dataset.getRows(Dataset.scala:301)\n\tat org.apache.spark.sql.Dataset.showString(Dataset.scala:338)\n\tat sun.reflect.NativeMethodAccessorImpl.invoke0(Native Method)\n\tat sun.reflect.NativeMethodAccessorImpl.invoke(NativeMethodAccessorImpl.java:62)\n\tat sun.reflect.DelegatingMethodAccessorImpl.invoke(DelegatingMethodAccessorImpl.java:43)\n\tat java.lang.reflect.Method.invoke(Method.java:498)\n\tat py4j.reflection.MethodInvoker.invoke(MethodInvoker.java:244)\n\tat py4j.reflection.ReflectionEngine.invoke(ReflectionEngine.java:357)\n\tat py4j.Gateway.invoke(Gateway.java:282)\n\tat py4j.commands.AbstractCommand.invokeMethod(AbstractCommand.java:132)\n\tat py4j.commands.CallCommand.execute(CallCommand.java:79)\n\tat py4j.GatewayConnection.run(GatewayConnection.java:238)\n\tat java.lang.Thread.run(Thread.java:750)\n",
     "output_type": "error",
     "traceback": [
      "\u001b[0;31m---------------------------------------------------------------------------\u001b[0m",
      "\u001b[0;31mPy4JJavaError\u001b[0m                             Traceback (most recent call last)",
      "\u001b[0;32m<ipython-input-34-0b623ad1544e>\u001b[0m in \u001b[0;36m<module>\u001b[0;34m\u001b[0m\n\u001b[0;32m----> 1\u001b[0;31m \u001b[0morderDf\u001b[0m\u001b[0;34m.\u001b[0m\u001b[0mshow\u001b[0m\u001b[0;34m(\u001b[0m\u001b[0;34m)\u001b[0m\u001b[0;34m\u001b[0m\u001b[0;34m\u001b[0m\u001b[0m\n\u001b[0m",
      "\u001b[0;32m/opt/spark-3.1.2-bin-hadoop3.2/python/pyspark/sql/dataframe.py\u001b[0m in \u001b[0;36mshow\u001b[0;34m(self, n, truncate, vertical)\u001b[0m\n\u001b[1;32m    482\u001b[0m         \"\"\"\n\u001b[1;32m    483\u001b[0m         \u001b[0;32mif\u001b[0m \u001b[0misinstance\u001b[0m\u001b[0;34m(\u001b[0m\u001b[0mtruncate\u001b[0m\u001b[0;34m,\u001b[0m \u001b[0mbool\u001b[0m\u001b[0;34m)\u001b[0m \u001b[0;32mand\u001b[0m \u001b[0mtruncate\u001b[0m\u001b[0;34m:\u001b[0m\u001b[0;34m\u001b[0m\u001b[0;34m\u001b[0m\u001b[0m\n\u001b[0;32m--> 484\u001b[0;31m             \u001b[0mprint\u001b[0m\u001b[0;34m(\u001b[0m\u001b[0mself\u001b[0m\u001b[0;34m.\u001b[0m\u001b[0m_jdf\u001b[0m\u001b[0;34m.\u001b[0m\u001b[0mshowString\u001b[0m\u001b[0;34m(\u001b[0m\u001b[0mn\u001b[0m\u001b[0;34m,\u001b[0m \u001b[0;36m20\u001b[0m\u001b[0;34m,\u001b[0m \u001b[0mvertical\u001b[0m\u001b[0;34m)\u001b[0m\u001b[0;34m)\u001b[0m\u001b[0;34m\u001b[0m\u001b[0;34m\u001b[0m\u001b[0m\n\u001b[0m\u001b[1;32m    485\u001b[0m         \u001b[0;32melse\u001b[0m\u001b[0;34m:\u001b[0m\u001b[0;34m\u001b[0m\u001b[0;34m\u001b[0m\u001b[0m\n\u001b[1;32m    486\u001b[0m             \u001b[0mprint\u001b[0m\u001b[0;34m(\u001b[0m\u001b[0mself\u001b[0m\u001b[0;34m.\u001b[0m\u001b[0m_jdf\u001b[0m\u001b[0;34m.\u001b[0m\u001b[0mshowString\u001b[0m\u001b[0;34m(\u001b[0m\u001b[0mn\u001b[0m\u001b[0;34m,\u001b[0m \u001b[0mint\u001b[0m\u001b[0;34m(\u001b[0m\u001b[0mtruncate\u001b[0m\u001b[0;34m)\u001b[0m\u001b[0;34m,\u001b[0m \u001b[0mvertical\u001b[0m\u001b[0;34m)\u001b[0m\u001b[0;34m)\u001b[0m\u001b[0;34m\u001b[0m\u001b[0;34m\u001b[0m\u001b[0m\n",
      "\u001b[0;32m/opt/spark-3.1.2-bin-hadoop3.2/python/lib/py4j-0.10.9-src.zip/py4j/java_gateway.py\u001b[0m in \u001b[0;36m__call__\u001b[0;34m(self, *args)\u001b[0m\n\u001b[1;32m   1303\u001b[0m         \u001b[0manswer\u001b[0m \u001b[0;34m=\u001b[0m \u001b[0mself\u001b[0m\u001b[0;34m.\u001b[0m\u001b[0mgateway_client\u001b[0m\u001b[0;34m.\u001b[0m\u001b[0msend_command\u001b[0m\u001b[0;34m(\u001b[0m\u001b[0mcommand\u001b[0m\u001b[0;34m)\u001b[0m\u001b[0;34m\u001b[0m\u001b[0;34m\u001b[0m\u001b[0m\n\u001b[1;32m   1304\u001b[0m         return_value = get_return_value(\n\u001b[0;32m-> 1305\u001b[0;31m             answer, self.gateway_client, self.target_id, self.name)\n\u001b[0m\u001b[1;32m   1306\u001b[0m \u001b[0;34m\u001b[0m\u001b[0m\n\u001b[1;32m   1307\u001b[0m         \u001b[0;32mfor\u001b[0m \u001b[0mtemp_arg\u001b[0m \u001b[0;32min\u001b[0m \u001b[0mtemp_args\u001b[0m\u001b[0;34m:\u001b[0m\u001b[0;34m\u001b[0m\u001b[0;34m\u001b[0m\u001b[0m\n",
      "\u001b[0;32m/opt/spark-3.1.2-bin-hadoop3.2/python/pyspark/sql/utils.py\u001b[0m in \u001b[0;36mdeco\u001b[0;34m(*a, **kw)\u001b[0m\n\u001b[1;32m    109\u001b[0m     \u001b[0;32mdef\u001b[0m \u001b[0mdeco\u001b[0m\u001b[0;34m(\u001b[0m\u001b[0;34m*\u001b[0m\u001b[0ma\u001b[0m\u001b[0;34m,\u001b[0m \u001b[0;34m**\u001b[0m\u001b[0mkw\u001b[0m\u001b[0;34m)\u001b[0m\u001b[0;34m:\u001b[0m\u001b[0;34m\u001b[0m\u001b[0;34m\u001b[0m\u001b[0m\n\u001b[1;32m    110\u001b[0m         \u001b[0;32mtry\u001b[0m\u001b[0;34m:\u001b[0m\u001b[0;34m\u001b[0m\u001b[0;34m\u001b[0m\u001b[0m\n\u001b[0;32m--> 111\u001b[0;31m             \u001b[0;32mreturn\u001b[0m \u001b[0mf\u001b[0m\u001b[0;34m(\u001b[0m\u001b[0;34m*\u001b[0m\u001b[0ma\u001b[0m\u001b[0;34m,\u001b[0m \u001b[0;34m**\u001b[0m\u001b[0mkw\u001b[0m\u001b[0;34m)\u001b[0m\u001b[0;34m\u001b[0m\u001b[0;34m\u001b[0m\u001b[0m\n\u001b[0m\u001b[1;32m    112\u001b[0m         \u001b[0;32mexcept\u001b[0m \u001b[0mpy4j\u001b[0m\u001b[0;34m.\u001b[0m\u001b[0mprotocol\u001b[0m\u001b[0;34m.\u001b[0m\u001b[0mPy4JJavaError\u001b[0m \u001b[0;32mas\u001b[0m \u001b[0me\u001b[0m\u001b[0;34m:\u001b[0m\u001b[0;34m\u001b[0m\u001b[0;34m\u001b[0m\u001b[0m\n\u001b[1;32m    113\u001b[0m             \u001b[0mconverted\u001b[0m \u001b[0;34m=\u001b[0m \u001b[0mconvert_exception\u001b[0m\u001b[0;34m(\u001b[0m\u001b[0me\u001b[0m\u001b[0;34m.\u001b[0m\u001b[0mjava_exception\u001b[0m\u001b[0;34m)\u001b[0m\u001b[0;34m\u001b[0m\u001b[0;34m\u001b[0m\u001b[0m\n",
      "\u001b[0;32m/opt/spark-3.1.2-bin-hadoop3.2/python/lib/py4j-0.10.9-src.zip/py4j/protocol.py\u001b[0m in \u001b[0;36mget_return_value\u001b[0;34m(answer, gateway_client, target_id, name)\u001b[0m\n\u001b[1;32m    326\u001b[0m                 raise Py4JJavaError(\n\u001b[1;32m    327\u001b[0m                     \u001b[0;34m\"An error occurred while calling {0}{1}{2}.\\n\"\u001b[0m\u001b[0;34m.\u001b[0m\u001b[0;34m\u001b[0m\u001b[0;34m\u001b[0m\u001b[0m\n\u001b[0;32m--> 328\u001b[0;31m                     format(target_id, \".\", name), value)\n\u001b[0m\u001b[1;32m    329\u001b[0m             \u001b[0;32melse\u001b[0m\u001b[0;34m:\u001b[0m\u001b[0;34m\u001b[0m\u001b[0;34m\u001b[0m\u001b[0m\n\u001b[1;32m    330\u001b[0m                 raise Py4JError(\n",
      "\u001b[0;31mPy4JJavaError\u001b[0m: An error occurred while calling o176.showString.\n: org.apache.spark.SparkException: Job aborted due to stage failure: Task 0 in stage 11.0 failed 4 times, most recent failure: Lost task 0.3 in stage 11.0 (TID 34) (w01.itversity.com executor 2): org.apache.spark.SparkException: Malformed records are detected in record parsing. Parse Mode: FAILFAST. To process malformed records as null result, try setting the option 'mode' as 'PERMISSIVE'.\n\tat org.apache.spark.sql.catalyst.util.FailureSafeParser.parse(FailureSafeParser.scala:70)\n\tat org.apache.spark.sql.catalyst.csv.UnivocityParser$.$anonfun$parseIterator$2(UnivocityParser.scala:400)\n\tat scala.collection.Iterator$$anon$11.nextCur(Iterator.scala:484)\n\tat scala.collection.Iterator$$anon$11.hasNext(Iterator.scala:490)\n\tat scala.collection.Iterator$$anon$10.hasNext(Iterator.scala:458)\n\tat org.apache.spark.sql.execution.datasources.FileScanRDD$$anon$1.hasNext(FileScanRDD.scala:93)\n\tat scala.collection.Iterator$$anon$10.hasNext(Iterator.scala:458)\n\tat org.apache.spark.sql.catalyst.expressions.GeneratedClass$GeneratedIteratorForCodegenStage1.processNext(Unknown Source)\n\tat org.apache.spark.sql.execution.BufferedRowIterator.hasNext(BufferedRowIterator.java:43)\n\tat org.apache.spark.sql.execution.WholeStageCodegenExec$$anon$1.hasNext(WholeStageCodegenExec.scala:755)\n\tat org.apache.spark.sql.execution.SparkPlan.$anonfun$getByteArrayRdd$1(SparkPlan.scala:345)\n\tat org.apache.spark.rdd.RDD.$anonfun$mapPartitionsInternal$2(RDD.scala:898)\n\tat org.apache.spark.rdd.RDD.$anonfun$mapPartitionsInternal$2$adapted(RDD.scala:898)\n\tat org.apache.spark.rdd.MapPartitionsRDD.compute(MapPartitionsRDD.scala:52)\n\tat org.apache.spark.rdd.RDD.computeOrReadCheckpoint(RDD.scala:373)\n\tat org.apache.spark.rdd.RDD.iterator(RDD.scala:337)\n\tat org.apache.spark.scheduler.ResultTask.runTask(ResultTask.scala:90)\n\tat org.apache.spark.scheduler.Task.run(Task.scala:131)\n\tat org.apache.spark.executor.Executor$TaskRunner.$anonfun$run$3(Executor.scala:497)\n\tat org.apache.spark.util.Utils$.tryWithSafeFinally(Utils.scala:1439)\n\tat org.apache.spark.executor.Executor$TaskRunner.run(Executor.scala:500)\n\tat java.util.concurrent.ThreadPoolExecutor.runWorker(ThreadPoolExecutor.java:1149)\n\tat java.util.concurrent.ThreadPoolExecutor$Worker.run(ThreadPoolExecutor.java:624)\n\tat java.lang.Thread.run(Thread.java:748)\nCaused by: org.apache.spark.sql.catalyst.util.BadRecordException: java.lang.NumberFormatException: For input string: \"error\"\n\tat org.apache.spark.sql.catalyst.csv.UnivocityParser.org$apache$spark$sql$catalyst$csv$UnivocityParser$$convert(UnivocityParser.scala:309)\n\tat org.apache.spark.sql.catalyst.csv.UnivocityParser.$anonfun$parse$2(UnivocityParser.scala:254)\n\tat org.apache.spark.sql.catalyst.csv.UnivocityParser$.$anonfun$parseIterator$1(UnivocityParser.scala:396)\n\tat org.apache.spark.sql.catalyst.util.FailureSafeParser.parse(FailureSafeParser.scala:60)\n\t... 23 more\nCaused by: java.lang.NumberFormatException: For input string: \"error\"\n\tat java.lang.NumberFormatException.forInputString(NumberFormatException.java:65)\n\tat java.lang.Integer.parseInt(Integer.java:580)\n\tat java.lang.Integer.parseInt(Integer.java:615)\n\tat scala.collection.immutable.StringLike.toInt(StringLike.scala:304)\n\tat scala.collection.immutable.StringLike.toInt$(StringLike.scala:304)\n\tat scala.collection.immutable.StringOps.toInt(StringOps.scala:33)\n\tat org.apache.spark.sql.catalyst.csv.UnivocityParser.$anonfun$makeConverter$6(UnivocityParser.scala:157)\n\tat org.apache.spark.sql.catalyst.csv.UnivocityParser.$anonfun$makeConverter$6$adapted(UnivocityParser.scala:157)\n\tat org.apache.spark.sql.catalyst.csv.UnivocityParser.nullSafeDatum(UnivocityParser.scala:238)\n\tat org.apache.spark.sql.catalyst.csv.UnivocityParser.$anonfun$makeConverter$5(UnivocityParser.scala:157)\n\tat org.apache.spark.sql.catalyst.csv.UnivocityParser.org$apache$spark$sql$catalyst$csv$UnivocityParser$$convert(UnivocityParser.scala:291)\n\t... 26 more\n\nDriver stacktrace:\n\tat org.apache.spark.scheduler.DAGScheduler.failJobAndIndependentStages(DAGScheduler.scala:2258)\n\tat org.apache.spark.scheduler.DAGScheduler.$anonfun$abortStage$2(DAGScheduler.scala:2207)\n\tat org.apache.spark.scheduler.DAGScheduler.$anonfun$abortStage$2$adapted(DAGScheduler.scala:2206)\n\tat scala.collection.mutable.ResizableArray.foreach(ResizableArray.scala:62)\n\tat scala.collection.mutable.ResizableArray.foreach$(ResizableArray.scala:55)\n\tat scala.collection.mutable.ArrayBuffer.foreach(ArrayBuffer.scala:49)\n\tat org.apache.spark.scheduler.DAGScheduler.abortStage(DAGScheduler.scala:2206)\n\tat org.apache.spark.scheduler.DAGScheduler.$anonfun$handleTaskSetFailed$1(DAGScheduler.scala:1079)\n\tat org.apache.spark.scheduler.DAGScheduler.$anonfun$handleTaskSetFailed$1$adapted(DAGScheduler.scala:1079)\n\tat scala.Option.foreach(Option.scala:407)\n\tat org.apache.spark.scheduler.DAGScheduler.handleTaskSetFailed(DAGScheduler.scala:1079)\n\tat org.apache.spark.scheduler.DAGSchedulerEventProcessLoop.doOnReceive(DAGScheduler.scala:2445)\n\tat org.apache.spark.scheduler.DAGSchedulerEventProcessLoop.onReceive(DAGScheduler.scala:2387)\n\tat org.apache.spark.scheduler.DAGSchedulerEventProcessLoop.onReceive(DAGScheduler.scala:2376)\n\tat org.apache.spark.util.EventLoop$$anon$1.run(EventLoop.scala:49)\n\tat org.apache.spark.scheduler.DAGScheduler.runJob(DAGScheduler.scala:868)\n\tat org.apache.spark.SparkContext.runJob(SparkContext.scala:2196)\n\tat org.apache.spark.SparkContext.runJob(SparkContext.scala:2217)\n\tat org.apache.spark.SparkContext.runJob(SparkContext.scala:2236)\n\tat org.apache.spark.sql.execution.SparkPlan.executeTake(SparkPlan.scala:472)\n\tat org.apache.spark.sql.execution.SparkPlan.executeTake(SparkPlan.scala:425)\n\tat org.apache.spark.sql.execution.CollectLimitExec.executeCollect(limit.scala:47)\n\tat org.apache.spark.sql.Dataset.collectFromPlan(Dataset.scala:3696)\n\tat org.apache.spark.sql.Dataset.$anonfun$head$1(Dataset.scala:2722)\n\tat org.apache.spark.sql.Dataset.$anonfun$withAction$1(Dataset.scala:3687)\n\tat org.apache.spark.sql.execution.SQLExecution$.$anonfun$withNewExecutionId$5(SQLExecution.scala:103)\n\tat org.apache.spark.sql.execution.SQLExecution$.withSQLConfPropagated(SQLExecution.scala:163)\n\tat org.apache.spark.sql.execution.SQLExecution$.$anonfun$withNewExecutionId$1(SQLExecution.scala:90)\n\tat org.apache.spark.sql.SparkSession.withActive(SparkSession.scala:775)\n\tat org.apache.spark.sql.execution.SQLExecution$.withNewExecutionId(SQLExecution.scala:64)\n\tat org.apache.spark.sql.Dataset.withAction(Dataset.scala:3685)\n\tat org.apache.spark.sql.Dataset.head(Dataset.scala:2722)\n\tat org.apache.spark.sql.Dataset.take(Dataset.scala:2929)\n\tat org.apache.spark.sql.Dataset.getRows(Dataset.scala:301)\n\tat org.apache.spark.sql.Dataset.showString(Dataset.scala:338)\n\tat sun.reflect.NativeMethodAccessorImpl.invoke0(Native Method)\n\tat sun.reflect.NativeMethodAccessorImpl.invoke(NativeMethodAccessorImpl.java:62)\n\tat sun.reflect.DelegatingMethodAccessorImpl.invoke(DelegatingMethodAccessorImpl.java:43)\n\tat java.lang.reflect.Method.invoke(Method.java:498)\n\tat py4j.reflection.MethodInvoker.invoke(MethodInvoker.java:244)\n\tat py4j.reflection.ReflectionEngine.invoke(ReflectionEngine.java:357)\n\tat py4j.Gateway.invoke(Gateway.java:282)\n\tat py4j.commands.AbstractCommand.invokeMethod(AbstractCommand.java:132)\n\tat py4j.commands.CallCommand.execute(CallCommand.java:79)\n\tat py4j.GatewayConnection.run(GatewayConnection.java:238)\n\tat java.lang.Thread.run(Thread.java:750)\n"
     ]
    }
   ],
   "source": [
    "orderDf.show()"
   ]
  },
  {
   "cell_type": "code",
   "execution_count": null,
   "id": "7417a5d1",
   "metadata": {},
   "outputs": [],
   "source": []
  }
 ],
 "metadata": {
  "kernelspec": {
   "display_name": "Pyspark 3",
   "language": "python",
   "name": "pyspark3"
  },
  "language_info": {
   "codemirror_mode": {
    "name": "ipython",
    "version": 3
   },
   "file_extension": ".py",
   "mimetype": "text/x-python",
   "name": "python",
   "nbconvert_exporter": "python",
   "pygments_lexer": "ipython3",
   "version": "3.6.12"
  }
 },
 "nbformat": 4,
 "nbformat_minor": 5
}
