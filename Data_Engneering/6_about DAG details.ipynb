{
 "cells": [
  {
   "cell_type": "markdown",
   "id": "c6203884",
   "metadata": {},
   "source": [
    "<!--various transformation  -->"
   ]
  },
  {
   "cell_type": "markdown",
   "id": "f3c25d5a",
   "metadata": {},
   "source": [
    "# variousTransformation\n",
    "1st catagory: map, filter, flatmap\n",
    "catagory 2nd: reduceby key, groupby key\n",
    "narrow (no shuffling) and wide xfr (shuffling)(try to minimize)(as later as possible)"
   ]
  },
  {
   "cell_type": "code",
   "execution_count": 1,
   "id": "7cca715d",
   "metadata": {},
   "outputs": [],
   "source": [
    "from pyspark.sql import SparkSession\n",
    "import getpass\n",
    "username = getpass.getuser()\n",
    "spark = SparkSession. \\\n",
    "builder. \\\n",
    "config('spark.ui.port','0'). \\\n",
    "config(\"spark.sql.warehouse.dir\", f\"/user/itv020649/warehouse\"). \\\n",
    "enableHiveSupport(). \\\n",
    "master('yarn'). \\\n",
    "getOrCreate()"
   ]
  },
  {
   "cell_type": "code",
   "execution_count": 2,
   "id": "3575c8d3",
   "metadata": {},
   "outputs": [
    {
     "data": {
      "text/html": [
       "\n",
       "            <div>\n",
       "                <p><b>SparkSession - hive</b></p>\n",
       "                \n",
       "        <div>\n",
       "            <p><b>SparkContext</b></p>\n",
       "\n",
       "            <p><a href=\"http://g01.itversity.com:32825\">Spark UI</a></p>\n",
       "\n",
       "            <dl>\n",
       "              <dt>Version</dt>\n",
       "                <dd><code>v3.1.2</code></dd>\n",
       "              <dt>Master</dt>\n",
       "                <dd><code>yarn</code></dd>\n",
       "              <dt>AppName</dt>\n",
       "                <dd><code>pyspark-shell</code></dd>\n",
       "            </dl>\n",
       "        </div>\n",
       "        \n",
       "            </div>\n",
       "        "
      ],
      "text/plain": [
       "<pyspark.sql.session.SparkSession at 0x7f6999ccc390>"
      ]
     },
     "execution_count": 2,
     "metadata": {},
     "output_type": "execute_result"
    }
   ],
   "source": [
    "spark"
   ]
  },
  {
   "cell_type": "code",
   "execution_count": 3,
   "id": "85499220",
   "metadata": {},
   "outputs": [],
   "source": [
    "orderRdd = spark.sparkContext.textFile(\"/public/trendytech/orders/orders.csv\")"
   ]
  },
  {
   "cell_type": "code",
   "execution_count": 4,
   "id": "3abedb72",
   "metadata": {},
   "outputs": [],
   "source": [
    "orderSplit = orderRdd.map(lambda x:x.split(\",\"))"
   ]
  },
  {
   "cell_type": "code",
   "execution_count": 5,
   "id": "60c450b2",
   "metadata": {},
   "outputs": [],
   "source": [
    "orderPerStatus1 = orderSplit.map(lambda x: (x[3],1))\n"
   ]
  },
  {
   "cell_type": "code",
   "execution_count": 6,
   "id": "0042161b",
   "metadata": {},
   "outputs": [],
   "source": [
    "orderPerStatus = orderPerStatus1.reduceByKey(lambda x,y: x+y)\n"
   ]
  },
  {
   "cell_type": "code",
   "execution_count": 7,
   "id": "0b3534e1",
   "metadata": {},
   "outputs": [
    {
     "data": {
      "text/plain": [
       "[('PENDING', 9512500),\n",
       " ('PROCESSING', 10343750),\n",
       " ('CANCELED', 1785000),\n",
       " ('COMPLETE', 28623750),\n",
       " ('SUSPECTED_FRAUD', 1947500),\n",
       " ('CLOSED', 9445000),\n",
       " ('ON_HOLD', 4747500),\n",
       " ('PAYMENT_REVIEW', 911250),\n",
       " ('PENDING_PAYMENT', 18787500)]"
      ]
     },
     "execution_count": 7,
     "metadata": {},
     "output_type": "execute_result"
    }
   ],
   "source": [
    "orderPerStatus.collect()"
   ]
  },
  {
   "cell_type": "markdown",
   "id": "a44ddd80",
   "metadata": {},
   "source": [
    "no of stages depend on wide xfr + 1\n",
    "check DAG\n",
    "reduceBykey "
   ]
  },
  {
   "cell_type": "markdown",
   "id": "34ee7cec",
   "metadata": {},
   "source": [
    "no of tasks= no of partition= size of block"
   ]
  },
  {
   "cell_type": "markdown",
   "id": "037a00d8",
   "metadata": {},
   "source": [
    "no of job= action"
   ]
  },
  {
   "cell_type": "markdown",
   "id": "1287851e",
   "metadata": {},
   "source": [
    "# DAG visulization for reduce vs reducebykey\n"
   ]
  },
  {
   "cell_type": "markdown",
   "id": "bda5964d",
   "metadata": {},
   "source": [
    "reduce action (single value) and \n",
    "reduce by key xfr(list)\n",
    "normal RDD\n"
   ]
  },
  {
   "cell_type": "code",
   "execution_count": 8,
   "id": "62577e53",
   "metadata": {},
   "outputs": [],
   "source": [
    "myList =[1,12,23,4,5,6]"
   ]
  },
  {
   "cell_type": "code",
   "execution_count": 9,
   "id": "3d2a84e4",
   "metadata": {},
   "outputs": [],
   "source": [
    "baseRdd = spark.sparkContext.parallelize(myList)"
   ]
  },
  {
   "cell_type": "code",
   "execution_count": 10,
   "id": "a4db71c6",
   "metadata": {},
   "outputs": [
    {
     "data": {
      "text/plain": [
       "51"
      ]
     },
     "execution_count": 10,
     "metadata": {},
     "output_type": "execute_result"
    }
   ],
   "source": [
    "baseRdd.reduce(lambda x,y : x+y)"
   ]
  },
  {
   "cell_type": "code",
   "execution_count": null,
   "id": "fd04e857",
   "metadata": {},
   "outputs": [],
   "source": []
  }
 ],
 "metadata": {
  "kernelspec": {
   "display_name": "Pyspark 3",
   "language": "python",
   "name": "pyspark3"
  },
  "language_info": {
   "codemirror_mode": {
    "name": "ipython",
    "version": 3
   },
   "file_extension": ".py",
   "mimetype": "text/x-python",
   "name": "python",
   "nbconvert_exporter": "python",
   "pygments_lexer": "ipython3",
   "version": "3.6.12"
  }
 },
 "nbformat": 4,
 "nbformat_minor": 5
}
