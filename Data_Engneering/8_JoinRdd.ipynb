{
 "cells": [
  {
   "cell_type": "code",
   "execution_count": 1,
   "id": "d37f8b13",
   "metadata": {},
   "outputs": [],
   "source": [
    "from pyspark.sql import SparkSession\n",
    "import getpass\n",
    "username = getpass.getuser()\n",
    "spark = SparkSession. \\\n",
    "builder. \\\n",
    "config('spark.ui.port','0'). \\\n",
    "config(\"spark.sql.warehouse.dir\", f\"/user/itv020649/warehouse\"). \\\n",
    "enableHiveSupport(). \\\n",
    "master('yarn'). \\\n",
    "getOrCreate()"
   ]
  },
  {
   "cell_type": "markdown",
   "id": "8bef94dd",
   "metadata": {},
   "source": [
    "# Normal join"
   ]
  },
  {
   "cell_type": "code",
   "execution_count": 2,
   "id": "ac97af5d",
   "metadata": {},
   "outputs": [
    {
     "data": {
      "text/html": [
       "\n",
       "            <div>\n",
       "                <p><b>SparkSession - hive</b></p>\n",
       "                \n",
       "        <div>\n",
       "            <p><b>SparkContext</b></p>\n",
       "\n",
       "            <p><a href=\"http://g01.itversity.com:38173\">Spark UI</a></p>\n",
       "\n",
       "            <dl>\n",
       "              <dt>Version</dt>\n",
       "                <dd><code>v3.1.2</code></dd>\n",
       "              <dt>Master</dt>\n",
       "                <dd><code>yarn</code></dd>\n",
       "              <dt>AppName</dt>\n",
       "                <dd><code>pyspark-shell</code></dd>\n",
       "            </dl>\n",
       "        </div>\n",
       "        \n",
       "            </div>\n",
       "        "
      ],
      "text/plain": [
       "<pyspark.sql.session.SparkSession at 0x7f49c3cf0438>"
      ]
     },
     "execution_count": 2,
     "metadata": {},
     "output_type": "execute_result"
    }
   ],
   "source": [
    "spark"
   ]
  },
  {
   "cell_type": "code",
   "execution_count": 3,
   "id": "711c1251",
   "metadata": {},
   "outputs": [],
   "source": [
    "orderRdd = spark.sparkContext.textFile(\"/public/trendytech/orders/orders_1gb.csv\")\n",
    "customerRdd = spark.sparkContext.textFile(\"/public/trendytech/retail_db/customers/part-00000\")\n",
    "# order 1gb 8 block 8p\n",
    "#  customers 1 mb -1 block 1p\n",
    "# customer_id PK\n",
    "# data need to shufferled to join data with same key"
   ]
  },
  {
   "cell_type": "code",
   "execution_count": 4,
   "id": "b360518d",
   "metadata": {},
   "outputs": [],
   "source": [
    "orderMapped = orderRdd.map(lambda x: (x.split(\",\")[2],x.split(\",\")[3]))"
   ]
  },
  {
   "cell_type": "code",
   "execution_count": 5,
   "id": "29e06f4f",
   "metadata": {},
   "outputs": [],
   "source": [
    "customerMapped = customerRdd.map(lambda x: (x.split(\",\")[0],x.split(\",\")[0]))"
   ]
  },
  {
   "cell_type": "code",
   "execution_count": 6,
   "id": "87a2a1f9",
   "metadata": {},
   "outputs": [],
   "source": [
    "joinedRdd = customerMapped.join(orderMapped)"
   ]
  },
  {
   "cell_type": "code",
   "execution_count": 7,
   "id": "2e0c7f48",
   "metadata": {},
   "outputs": [],
   "source": [
    "# joinedRdd.saveAsTextFile(\"data/orders_joined\")"
   ]
  },
  {
   "cell_type": "code",
   "execution_count": 8,
   "id": "b8bf4c10",
   "metadata": {},
   "outputs": [],
   "source": [
    "# spark.stop()"
   ]
  },
  {
   "cell_type": "markdown",
   "id": "565c6d5e",
   "metadata": {},
   "source": [
    "# Better way to join"
   ]
  },
  {
   "cell_type": "markdown",
   "id": "659d4fa9",
   "metadata": {},
   "source": [
    "challange: data shuffeled a lot\n",
    "order table big\n",
    "customer small\n",
    "what can be done: customer table can be copied to all npde/partition\n"
   ]
  },
  {
   "cell_type": "markdown",
   "id": "86b2e307",
   "metadata": {},
   "source": [
    "When you call collect() on a pair RDD, Spark automatically treats each tuple as a key-value pair"
   ]
  },
  {
   "cell_type": "code",
   "execution_count": 9,
   "id": "5fa0bf85",
   "metadata": {},
   "outputs": [],
   "source": [
    "customerBroadcast = spark.sparkContext.broadcast(customerMapped.collect())"
   ]
  },
  {
   "cell_type": "code",
   "execution_count": 10,
   "id": "4af15950",
   "metadata": {},
   "outputs": [],
   "source": [
    "def get_pincode(customer_id):\n",
    "    try:\n",
    "        return customerBroadcast.value[customer_id]\n",
    "    except:\n",
    "        return \"-1\"\n",
    "# return customerBroadcast.value[customer_id][0] for tripple value"
   ]
  },
  {
   "cell_type": "code",
   "execution_count": 11,
   "id": "24860ce6",
   "metadata": {},
   "outputs": [],
   "source": [
    "joinRdd = orderMapped.map(lambda x: (get_pincode(int(x[0])),x[1]))"
   ]
  },
  {
   "cell_type": "code",
   "execution_count": 2,
   "id": "37b0af4b",
   "metadata": {},
   "outputs": [
    {
     "ename": "NameError",
     "evalue": "name 'joinRdd' is not defined",
     "output_type": "error",
     "traceback": [
      "\u001b[0;31m---------------------------------------------------------------------------\u001b[0m",
      "\u001b[0;31mNameError\u001b[0m                                 Traceback (most recent call last)",
      "\u001b[0;32m<ipython-input-2-d569903fa165>\u001b[0m in \u001b[0;36m<module>\u001b[0;34m\u001b[0m\n\u001b[0;32m----> 1\u001b[0;31m \u001b[0mjoinRdd\u001b[0m\u001b[0;34m.\u001b[0m\u001b[0msaveAsTextFile\u001b[0m\u001b[0;34m(\u001b[0m\u001b[0;34m\"data/orders_joined1\"\u001b[0m\u001b[0;34m)\u001b[0m\u001b[0;34m\u001b[0m\u001b[0;34m\u001b[0m\u001b[0m\n\u001b[0m",
      "\u001b[0;31mNameError\u001b[0m: name 'joinRdd' is not defined"
     ]
    }
   ],
   "source": [
    "joinRdd.saveAsTextFile(\"data/orders_joined1\")"
   ]
  },
  {
   "cell_type": "code",
   "execution_count": null,
   "id": "f7581034",
   "metadata": {},
   "outputs": [],
   "source": []
  }
 ],
 "metadata": {
  "kernelspec": {
   "display_name": "Pyspark 3",
   "language": "python",
   "name": "pyspark3"
  },
  "language_info": {
   "codemirror_mode": {
    "name": "ipython",
    "version": 3
   },
   "file_extension": ".py",
   "mimetype": "text/x-python",
   "name": "python",
   "nbconvert_exporter": "python",
   "pygments_lexer": "ipython3",
   "version": "3.6.12"
  }
 },
 "nbformat": 4,
 "nbformat_minor": 5
}
