{
 "cells": [
  {
   "cell_type": "markdown",
   "id": "709ef6e8",
   "metadata": {},
   "source": [
    "### Ways to access a column in Pyspark"
   ]
  },
  {
   "cell_type": "code",
   "execution_count": 1,
   "id": "a0557f99",
   "metadata": {},
   "outputs": [],
   "source": [
    "from pyspark.sql import SparkSession"
   ]
  },
  {
   "cell_type": "code",
   "execution_count": 2,
   "id": "a8af36b9",
   "metadata": {},
   "outputs": [],
   "source": [
    "spark = SparkSession. \\\n",
    "builder. \\\n",
    "appName(\"Ways to access a column in Pyspark\"). \\\n",
    "config(\"spark.sql.warehouse.dir\",\"/user/itv020649/warehouse\"). \\\n",
    "enableHiveSupport(). \\\n",
    "master('yarn'). \\\n",
    "getOrCreate()"
   ]
  },
  {
   "cell_type": "code",
   "execution_count": 3,
   "id": "9320ecf2",
   "metadata": {},
   "outputs": [
    {
     "data": {
      "text/html": [
       "\n",
       "            <div>\n",
       "                <p><b>SparkSession - hive</b></p>\n",
       "                \n",
       "        <div>\n",
       "            <p><b>SparkContext</b></p>\n",
       "\n",
       "            <p><a href=\"http://g01.itversity.com:4043\">Spark UI</a></p>\n",
       "\n",
       "            <dl>\n",
       "              <dt>Version</dt>\n",
       "                <dd><code>v2.4.7</code></dd>\n",
       "              <dt>Master</dt>\n",
       "                <dd><code>yarn</code></dd>\n",
       "              <dt>AppName</dt>\n",
       "                <dd><code>Ways to access a column in Pyspark</code></dd>\n",
       "            </dl>\n",
       "        </div>\n",
       "        \n",
       "            </div>\n",
       "        "
      ],
      "text/plain": [
       "<pyspark.sql.session.SparkSession at 0x7f899c877390>"
      ]
     },
     "execution_count": 3,
     "metadata": {},
     "output_type": "execute_result"
    }
   ],
   "source": [
    "spark"
   ]
  },
  {
   "cell_type": "code",
   "execution_count": 4,
   "id": "9020c475",
   "metadata": {},
   "outputs": [],
   "source": [
    "orders_schema = 'order_id long,order_date date,cust_id long,order_status string'"
   ]
  },
  {
   "cell_type": "code",
   "execution_count": 5,
   "id": "b116855d",
   "metadata": {},
   "outputs": [],
   "source": [
    "orders_df = spark.read \\\n",
    ".format(\"csv\") \\\n",
    ".schema(orders_schema) \\\n",
    ".load(\"/public/trendytech/orders/orders_1gb.csv\")"
   ]
  },
  {
   "cell_type": "code",
   "execution_count": 6,
   "id": "74a08946",
   "metadata": {},
   "outputs": [
    {
     "name": "stdout",
     "output_type": "stream",
     "text": [
      "+--------+----------+-------+---------------+\n",
      "|order_id|order_date|cust_id|   order_status|\n",
      "+--------+----------+-------+---------------+\n",
      "|       1|2013-07-25|  11599|         CLOSED|\n",
      "|       2|2013-07-25|    256|PENDING_PAYMENT|\n",
      "|       3|2013-07-25|  12111|       COMPLETE|\n",
      "|       4|2013-07-25|   8827|         CLOSED|\n",
      "|       5|2013-07-25|  11318|       COMPLETE|\n",
      "|       6|2013-07-25|   7130|       COMPLETE|\n",
      "|       7|2013-07-25|   4530|       COMPLETE|\n",
      "|       8|2013-07-25|   2911|     PROCESSING|\n",
      "|       9|2013-07-25|   5657|PENDING_PAYMENT|\n",
      "|      10|2013-07-25|   5648|PENDING_PAYMENT|\n",
      "|      11|2013-07-25|    918| PAYMENT_REVIEW|\n",
      "|      12|2013-07-25|   1837|         CLOSED|\n",
      "|      13|2013-07-25|   9149|PENDING_PAYMENT|\n",
      "|      14|2013-07-25|   9842|     PROCESSING|\n",
      "|      15|2013-07-25|   2568|       COMPLETE|\n",
      "|      16|2013-07-25|   7276|PENDING_PAYMENT|\n",
      "|      17|2013-07-25|   2667|       COMPLETE|\n",
      "|      18|2013-07-25|   1205|         CLOSED|\n",
      "|      19|2013-07-25|   9488|PENDING_PAYMENT|\n",
      "|      20|2013-07-25|   9198|     PROCESSING|\n",
      "+--------+----------+-------+---------------+\n",
      "only showing top 20 rows\n",
      "\n"
     ]
    }
   ],
   "source": [
    "orders_df.show()"
   ]
  },
  {
   "cell_type": "code",
   "execution_count": 7,
   "id": "1afc79d0",
   "metadata": {},
   "outputs": [
    {
     "name": "stdout",
     "output_type": "stream",
     "text": [
      "+--------+----------+\n",
      "|order_id|order_date|\n",
      "+--------+----------+\n",
      "|       1|2013-07-25|\n",
      "|       2|2013-07-25|\n",
      "|       3|2013-07-25|\n",
      "|       4|2013-07-25|\n",
      "|       5|2013-07-25|\n",
      "|       6|2013-07-25|\n",
      "|       7|2013-07-25|\n",
      "|       8|2013-07-25|\n",
      "|       9|2013-07-25|\n",
      "|      10|2013-07-25|\n",
      "|      11|2013-07-25|\n",
      "|      12|2013-07-25|\n",
      "|      13|2013-07-25|\n",
      "|      14|2013-07-25|\n",
      "|      15|2013-07-25|\n",
      "|      16|2013-07-25|\n",
      "|      17|2013-07-25|\n",
      "|      18|2013-07-25|\n",
      "|      19|2013-07-25|\n",
      "|      20|2013-07-25|\n",
      "+--------+----------+\n",
      "only showing top 20 rows\n",
      "\n"
     ]
    }
   ],
   "source": [
    "orders_df.select(\"order_id\",\"order_date\").show()\n",
    "#accessing a column in string notation\"\""
   ]
  },
  {
   "cell_type": "code",
   "execution_count": 8,
   "id": "77c5556d",
   "metadata": {},
   "outputs": [],
   "source": [
    "from pyspark.sql.functions import *"
   ]
  },
  {
   "cell_type": "code",
   "execution_count": 9,
   "id": "7a88dedc",
   "metadata": {},
   "outputs": [
    {
     "name": "stdout",
     "output_type": "stream",
     "text": [
      "+--------+----------+----------+-------+-------+---------------+\n",
      "|order_id|order_date|order_date|cust_id|cust_id|   order_status|\n",
      "+--------+----------+----------+-------+-------+---------------+\n",
      "|       1|2013-07-25|2013-07-25|  11599|  11599|         CLOSED|\n",
      "|       2|2013-07-25|2013-07-25|    256|    256|PENDING_PAYMENT|\n",
      "|       3|2013-07-25|2013-07-25|  12111|  12111|       COMPLETE|\n",
      "|       4|2013-07-25|2013-07-25|   8827|   8827|         CLOSED|\n",
      "|       5|2013-07-25|2013-07-25|  11318|  11318|       COMPLETE|\n",
      "|       6|2013-07-25|2013-07-25|   7130|   7130|       COMPLETE|\n",
      "|       7|2013-07-25|2013-07-25|   4530|   4530|       COMPLETE|\n",
      "|       8|2013-07-25|2013-07-25|   2911|   2911|     PROCESSING|\n",
      "|       9|2013-07-25|2013-07-25|   5657|   5657|PENDING_PAYMENT|\n",
      "|      10|2013-07-25|2013-07-25|   5648|   5648|PENDING_PAYMENT|\n",
      "|      11|2013-07-25|2013-07-25|    918|    918| PAYMENT_REVIEW|\n",
      "|      12|2013-07-25|2013-07-25|   1837|   1837|         CLOSED|\n",
      "|      13|2013-07-25|2013-07-25|   9149|   9149|PENDING_PAYMENT|\n",
      "|      14|2013-07-25|2013-07-25|   9842|   9842|     PROCESSING|\n",
      "|      15|2013-07-25|2013-07-25|   2568|   2568|       COMPLETE|\n",
      "|      16|2013-07-25|2013-07-25|   7276|   7276|PENDING_PAYMENT|\n",
      "|      17|2013-07-25|2013-07-25|   2667|   2667|       COMPLETE|\n",
      "|      18|2013-07-25|2013-07-25|   1205|   1205|         CLOSED|\n",
      "|      19|2013-07-25|2013-07-25|   9488|   9488|PENDING_PAYMENT|\n",
      "|      20|2013-07-25|2013-07-25|   9198|   9198|     PROCESSING|\n",
      "+--------+----------+----------+-------+-------+---------------+\n",
      "only showing top 20 rows\n",
      "\n"
     ]
    }
   ],
   "source": [
    "orders_df.select(\"order_id\",orders_df.order_date,orders_df['order_date'],column('cust_id'),col('cust_id'),expr(\"order_status\")).show()"
   ]
  },
  {
   "cell_type": "markdown",
   "id": "ddcf1c40",
   "metadata": {},
   "source": [
    "1. column string - \"cust_id\"\n",
    "2. column object - col(\"cust_id\")\n",
    "3. column expression - expr()"
   ]
  },
  {
   "cell_type": "markdown",
   "id": "32f0fb4e",
   "metadata": {},
   "source": [
    "1. \"order_id\" - column string\n",
    "2. order_df.order_date - like resolving amgiguity in case of joining tables\n",
    "3. column('cust_id') - column object - .where(col('order_status').like('PENDING%'))\n",
    "4. expr(\"order_status\") - column expression -order_df.select(\"order_id\",expr(\"cust_id + 1 as new_cust_id))"
   ]
  },
  {
   "cell_type": "code",
   "execution_count": 10,
   "id": "b3390dc8",
   "metadata": {},
   "outputs": [
    {
     "name": "stdout",
     "output_type": "stream",
     "text": [
      "+--------+-----------+\n",
      "|order_id|new_cust_id|\n",
      "+--------+-----------+\n",
      "|       1|      11600|\n",
      "|       2|        257|\n",
      "|       3|      12112|\n",
      "|       4|       8828|\n",
      "|       5|      11319|\n",
      "|       6|       7131|\n",
      "|       7|       4531|\n",
      "|       8|       2912|\n",
      "|       9|       5658|\n",
      "|      10|       5649|\n",
      "|      11|        919|\n",
      "|      12|       1838|\n",
      "|      13|       9150|\n",
      "|      14|       9843|\n",
      "|      15|       2569|\n",
      "|      16|       7277|\n",
      "|      17|       2668|\n",
      "|      18|       1206|\n",
      "|      19|       9489|\n",
      "|      20|       9199|\n",
      "+--------+-----------+\n",
      "only showing top 20 rows\n",
      "\n"
     ]
    }
   ],
   "source": [
    "#column expression\n",
    "orders_df.select(\"order_id\",expr(\"cust_id + 1 as new_cust_id\")).show()"
   ]
  },
  {
   "cell_type": "code",
   "execution_count": 11,
   "id": "74dd9585",
   "metadata": {},
   "outputs": [
    {
     "name": "stdout",
     "output_type": "stream",
     "text": [
      "+--------+----------+----------+-------+-------+---------------+\n",
      "|order_id|order_date|order_date|cust_id|cust_id|   order_status|\n",
      "+--------+----------+----------+-------+-------+---------------+\n",
      "|       2|2013-07-25|2013-07-25|    256|    256|PENDING_PAYMENT|\n",
      "|       9|2013-07-25|2013-07-25|   5657|   5657|PENDING_PAYMENT|\n",
      "|      10|2013-07-25|2013-07-25|   5648|   5648|PENDING_PAYMENT|\n",
      "|      13|2013-07-25|2013-07-25|   9149|   9149|PENDING_PAYMENT|\n",
      "|      16|2013-07-25|2013-07-25|   7276|   7276|PENDING_PAYMENT|\n",
      "|      19|2013-07-25|2013-07-25|   9488|   9488|PENDING_PAYMENT|\n",
      "|      21|2013-07-25|2013-07-25|   2711|   2711|        PENDING|\n",
      "|      23|2013-07-25|2013-07-25|   4367|   4367|PENDING_PAYMENT|\n",
      "|      27|2013-07-25|2013-07-25|   3241|   3241|PENDING_PAYMENT|\n",
      "|      30|2013-07-25|2013-07-25|  10039|  10039|PENDING_PAYMENT|\n",
      "|      33|2013-07-25|2013-07-25|   5793|   5793|PENDING_PAYMENT|\n",
      "|      36|2013-07-25|2013-07-25|   5649|   5649|        PENDING|\n",
      "|      39|2013-07-25|2013-07-25|   8214|   8214|        PENDING|\n",
      "|      40|2013-07-25|2013-07-25|  12092|  12092|PENDING_PAYMENT|\n",
      "|      41|2013-07-25|2013-07-25|   8136|   8136|PENDING_PAYMENT|\n",
      "|      42|2013-07-25|2013-07-25|   9776|   9776|        PENDING|\n",
      "|      43|2013-07-25|2013-07-25|   7776|   7776|PENDING_PAYMENT|\n",
      "|      44|2013-07-25|2013-07-25|  10500|  10500|        PENDING|\n",
      "|      47|2013-07-25|2013-07-25|   8487|   8487|PENDING_PAYMENT|\n",
      "|      49|2013-07-25|2013-07-25|   1871|   1871|        PENDING|\n",
      "+--------+----------+----------+-------+-------+---------------+\n",
      "only showing top 20 rows\n",
      "\n"
     ]
    }
   ],
   "source": [
    "#column object\n",
    "orders_df.select(\"order_id\",orders_df.order_date,orders_df['order_date'],column('cust_id'),col('cust_id'),expr(\"order_status\")).where(col('order_status').like('PENDING%')).show()"
   ]
  },
  {
   "cell_type": "markdown",
   "id": "ca9715a8",
   "metadata": {},
   "source": [
    "## Aggregate functions"
   ]
  },
  {
   "cell_type": "markdown",
   "id": "407731ac",
   "metadata": {},
   "source": [
    "1. Simple aggregations - one o/p - count,sum,max,min\n",
    "1. grouping aggregations - group by - catorigical calculation -\n",
    "1. windowing aggregations\n"
   ]
  },
  {
   "cell_type": "code",
   "execution_count": 12,
   "id": "f300e033",
   "metadata": {},
   "outputs": [],
   "source": [
    "orders_df1 = spark.read \\\n",
    ".format(\"csv\") \\\n",
    ".option(\"inferSchema\",\"true\") \\\n",
    ".option(\"header\",\"true\") \\\n",
    ".load(\"/public/trendytech/datasets/order_data.csv\")"
   ]
  },
  {
   "cell_type": "code",
   "execution_count": 13,
   "id": "1e815bbc",
   "metadata": {},
   "outputs": [
    {
     "name": "stdout",
     "output_type": "stream",
     "text": [
      "+---------+---------+--------------------+--------+---------------+---------+----------+--------------+\n",
      "|InvoiceNo|StockCode|         Description|Quantity|    InvoiceDate|UnitPrice|CustomerID|       Country|\n",
      "+---------+---------+--------------------+--------+---------------+---------+----------+--------------+\n",
      "|   536378|     null|PACK OF 60 DINOSA...|      24|01-12-2010 9.37|     0.55|     14688|United Kingdom|\n",
      "|   536378|     null|PACK OF 60 PINK P...|      24|01-12-2010 9.37|     0.55|     14688|United Kingdom|\n",
      "|   536378|    84991|60 TEATIME FAIRY ...|      24|01-12-2010 9.37|     0.55|     14688|United Kingdom|\n",
      "|   536378|   84519A|TOMATO CHARLIE+LO...|       6|01-12-2010 9.37|     2.95|     14688|United Kingdom|\n",
      "|   536378|   85183B|CHARLIE & LOLA WA...|      48|01-12-2010 9.37|     1.25|     14688|United Kingdom|\n",
      "|   536378|   85071B|RED CHARLIE+LOLA ...|      96|01-12-2010 9.37|     0.38|     14688|United Kingdom|\n",
      "|   536378|    21931|JUMBO STORAGE BAG...|      10|01-12-2010 9.37|     1.95|     14688|United Kingdom|\n",
      "|   536378|    21929|JUMBO BAG PINK VI...|      10|01-12-2010 9.37|     1.95|     14688|United Kingdom|\n",
      "|   536380|    22961|JAM MAKING SET PR...|      24|01-12-2010 9.41|     1.45|     17809|United Kingdom|\n",
      "|   536381|    22139|RETROSPOT TEA SET...|      23|01-12-2010 9.41|     4.25|     15311|United Kingdom|\n",
      "|   536381|    84854| GIRLY PINK TOOL SET|       5|01-12-2010 9.41|     4.95|     15311|United Kingdom|\n",
      "|   536381|    22411|JUMBO SHOPPER VIN...|      10|01-12-2010 9.41|     1.95|     15311|United Kingdom|\n",
      "|   536381|    82567|AIRLINE LOUNGE,ME...|       2|01-12-2010 9.41|      2.1|     15311|United Kingdom|\n",
      "|   536381|    21672|WHITE SPOT RED CE...|       6|01-12-2010 9.41|     1.25|     15311|United Kingdom|\n",
      "|   536381|    22774|RED DRAWER KNOB A...|      24|01-12-2010 9.41|     1.25|     15311|United Kingdom|\n",
      "|   536381|    22771|CLEAR DRAWER KNOB...|      24|01-12-2010 9.41|     1.25|     15311|United Kingdom|\n",
      "|   536381|    71270|     PHOTO CLIP LINE|       1|01-12-2010 9.41|     1.25|     15311|United Kingdom|\n",
      "|   536381|    22262|FELT EGG COSY CHI...|       1|01-12-2010 9.41|     0.85|     15311|United Kingdom|\n",
      "|   536381|    22637|PIGGY BANK RETROS...|       1|01-12-2010 9.41|     2.55|     15311|United Kingdom|\n",
      "|   536381|    21934|  SKULL SHOULDER BAG|      10|01-12-2010 9.41|     1.65|     15311|United Kingdom|\n",
      "+---------+---------+--------------------+--------+---------------+---------+----------+--------------+\n",
      "only showing top 20 rows\n",
      "\n"
     ]
    }
   ],
   "source": [
    "orders_df1.show()"
   ]
  },
  {
   "cell_type": "code",
   "execution_count": 14,
   "id": "05617e0a",
   "metadata": {},
   "outputs": [],
   "source": [
    "from pyspark.sql.functions import *"
   ]
  },
  {
   "cell_type": "code",
   "execution_count": 15,
   "id": "5d5ff311",
   "metadata": {},
   "outputs": [
    {
     "name": "stdout",
     "output_type": "stream",
     "text": [
      "+-----------+----------------+------------+-----------------+\n",
      "|total count|distinct invoice|sum quantity|        avg price|\n",
      "+-----------+----------------+------------+-----------------+\n",
      "|     541782|           25858|     5175855|4.611565323321933|\n",
      "+-----------+----------------+------------+-----------------+\n",
      "\n"
     ]
    }
   ],
   "source": [
    "#progamatic style\n",
    "orders_df1.select(count(\"*\").alias(\"total count\"),countDistinct(\"InvoiceNo\").alias(\"distinct invoice\"),sum(\"Quantity\").alias(\"sum quantity\"),avg(\"UnitPrice\").alias(\"avg price\")).show()"
   ]
  },
  {
   "cell_type": "code",
   "execution_count": 16,
   "id": "f1d2de67",
   "metadata": {},
   "outputs": [
    {
     "data": {
      "text/html": [
       "<table border='1'>\n",
       "<tr><th>row_count</th><th>unique_invoice</th><th>sum_quantity</th><th>avgerage</th></tr>\n",
       "<tr><td>541782</td><td>25858</td><td>5175855</td><td>4.611565323321931</td></tr>\n",
       "</table>\n"
      ],
      "text/plain": [
       "+---------+--------------+------------+-----------------+\n",
       "|row_count|unique_invoice|sum_quantity|         avgerage|\n",
       "+---------+--------------+------------+-----------------+\n",
       "|   541782|         25858|     5175855|4.611565323321928|\n",
       "+---------+--------------+------------+-----------------+"
      ]
     },
     "execution_count": 16,
     "metadata": {},
     "output_type": "execute_result"
    }
   ],
   "source": [
    "#sql style in DF\n",
    "orders_df1.selectExpr(\"count(*) as row_count\",\"count(distinct InvoiceNo) as unique_invoice\",\"sum(Quantity) as sum_quantity\",\"avg(UnitPrice) as avgerage\")"
   ]
  },
  {
   "cell_type": "code",
   "execution_count": 17,
   "id": "b284931a",
   "metadata": {},
   "outputs": [],
   "source": [
    "orders_df1.createOrReplaceTempView(\"orders\")"
   ]
  },
  {
   "cell_type": "code",
   "execution_count": 18,
   "id": "3b81cfbd",
   "metadata": {},
   "outputs": [
    {
     "data": {
      "text/html": [
       "<table border='1'>\n",
       "<tr><th>row_count</th><th>unique_invoice</th><th>sum_quantity</th><th>avgerage</th></tr>\n",
       "<tr><td>541782</td><td>25858</td><td>5175855</td><td>4.611565323321925</td></tr>\n",
       "</table>\n"
      ],
      "text/plain": [
       "+---------+--------------+------------+----------------+\n",
       "|row_count|unique_invoice|sum_quantity|        avgerage|\n",
       "+---------+--------------+------------+----------------+\n",
       "|   541782|         25858|     5175855|4.61156532332193|\n",
       "+---------+--------------+------------+----------------+"
      ]
     },
     "execution_count": 18,
     "metadata": {},
     "output_type": "execute_result"
    }
   ],
   "source": [
    "#sql style in table\n",
    "spark.sql(\"select count(*) as row_count,count(distinct InvoiceNo) as unique_invoice,sum(Quantity) as sum_quantity,avg(UnitPrice) as avgerage from orders\")"
   ]
  },
  {
   "cell_type": "code",
   "execution_count": 19,
   "id": "41230f79",
   "metadata": {},
   "outputs": [],
   "source": [
    "from pyspark.sql.functions import *"
   ]
  },
  {
   "cell_type": "markdown",
   "id": "7f084662",
   "metadata": {},
   "source": [
    "when we do count(*) it ignores null, but if we do count(column) is doesnot ignore NULL"
   ]
  },
  {
   "cell_type": "markdown",
   "id": "5e38f6a8",
   "metadata": {},
   "source": [
    "### grouping aggreation"
   ]
  },
  {
   "cell_type": "code",
   "execution_count": 20,
   "id": "9960d7ba",
   "metadata": {},
   "outputs": [],
   "source": [
    "#programatic style\n",
    "summery_df= orders_df1 \\\n",
    ".groupBy(\"country\",\"invoiceno\") \\\n",
    ".agg(sum(\"quantity\").alias(\"total_quantity\"),sum(expr(\"quantity * unitprice\")).alias(\"invoice_value\")).sort(\"invoiceno\")\n",
    "#calculation inside sum need use of \"expr\""
   ]
  },
  {
   "cell_type": "code",
   "execution_count": 21,
   "id": "321f340d",
   "metadata": {},
   "outputs": [
    {
     "name": "stdout",
     "output_type": "stream",
     "text": [
      "+--------------+---------+--------------+------------------+\n",
      "|       country|invoiceno|total_quantity|     invoice_value|\n",
      "+--------------+---------+--------------+------------------+\n",
      "|United Kingdom|   536378|           242|192.78000000000003|\n",
      "|United Kingdom|   536380|            24|              34.8|\n",
      "|United Kingdom|   536381|           198|449.97999999999996|\n",
      "|United Kingdom|   536382|           134|430.59999999999997|\n",
      "|United Kingdom|   536384|           190|             489.6|\n",
      "|United Kingdom|   536385|            53|            130.85|\n",
      "|United Kingdom|   536386|           236|508.20000000000005|\n",
      "|United Kingdom|   536387|          1440|           3193.92|\n",
      "|United Kingdom|   536388|           108|            226.14|\n",
      "|     Australia|   536389|           107|            358.25|\n",
      "|United Kingdom|   536390|          1568|           1825.74|\n",
      "|United Kingdom|   536392|           103|318.14000000000004|\n",
      "|United Kingdom|   536393|             8|              79.6|\n",
      "|United Kingdom|   536394|           544|1024.6800000000003|\n",
      "|United Kingdom|   536395|           260| 507.8800000000001|\n",
      "|United Kingdom|   536396|           102|376.36000000000007|\n",
      "|United Kingdom|   536397|            60|             279.0|\n",
      "|United Kingdom|   536398|           150|426.56000000000006|\n",
      "|United Kingdom|   536399|            12|22.200000000000003|\n",
      "|United Kingdom|   536400|            12|              17.4|\n",
      "+--------------+---------+--------------+------------------+\n",
      "only showing top 20 rows\n",
      "\n"
     ]
    }
   ],
   "source": [
    "summery_df.show()"
   ]
  },
  {
   "cell_type": "code",
   "execution_count": 22,
   "id": "0e27dc53",
   "metadata": {},
   "outputs": [
    {
     "data": {
      "text/html": [
       "<table border='1'>\n",
       "<tr><th>country</th><th>invoiceno</th><th>total_quantity</th><th>invoice_value</th></tr>\n",
       "<tr><td>United Kingdom</td><td>536378</td><td>242</td><td>192.78000000000003</td></tr>\n",
       "<tr><td>United Kingdom</td><td>536380</td><td>24</td><td>34.8</td></tr>\n",
       "<tr><td>United Kingdom</td><td>536381</td><td>198</td><td>449.97999999999996</td></tr>\n",
       "<tr><td>United Kingdom</td><td>536382</td><td>134</td><td>430.59999999999997</td></tr>\n",
       "<tr><td>United Kingdom</td><td>536384</td><td>190</td><td>489.6</td></tr>\n",
       "<tr><td>United Kingdom</td><td>536385</td><td>53</td><td>130.85</td></tr>\n",
       "<tr><td>United Kingdom</td><td>536386</td><td>236</td><td>508.20000000000005</td></tr>\n",
       "<tr><td>United Kingdom</td><td>536387</td><td>1440</td><td>3193.92</td></tr>\n",
       "<tr><td>United Kingdom</td><td>536388</td><td>108</td><td>226.14</td></tr>\n",
       "<tr><td>Australia</td><td>536389</td><td>107</td><td>358.25</td></tr>\n",
       "<tr><td>United Kingdom</td><td>536390</td><td>1568</td><td>1825.74</td></tr>\n",
       "<tr><td>United Kingdom</td><td>536392</td><td>103</td><td>318.14000000000004</td></tr>\n",
       "<tr><td>United Kingdom</td><td>536393</td><td>8</td><td>79.6</td></tr>\n",
       "<tr><td>United Kingdom</td><td>536394</td><td>544</td><td>1024.6800000000003</td></tr>\n",
       "<tr><td>United Kingdom</td><td>536395</td><td>260</td><td>507.8800000000001</td></tr>\n",
       "<tr><td>United Kingdom</td><td>536396</td><td>102</td><td>376.36000000000007</td></tr>\n",
       "<tr><td>United Kingdom</td><td>536397</td><td>60</td><td>279.0</td></tr>\n",
       "<tr><td>United Kingdom</td><td>536398</td><td>150</td><td>426.56000000000006</td></tr>\n",
       "<tr><td>United Kingdom</td><td>536399</td><td>12</td><td>22.200000000000003</td></tr>\n",
       "<tr><td>United Kingdom</td><td>536400</td><td>12</td><td>17.4</td></tr>\n",
       "</table>\n",
       "only showing top 20 rows\n"
      ],
      "text/plain": [
       "+--------------+---------+--------------+------------------+\n",
       "|       country|invoiceno|total_quantity|     invoice_value|\n",
       "+--------------+---------+--------------+------------------+\n",
       "|United Kingdom|   536378|           242|192.78000000000003|\n",
       "|United Kingdom|   536380|            24|              34.8|\n",
       "|United Kingdom|   536381|           198|449.97999999999996|\n",
       "|United Kingdom|   536382|           134|430.59999999999997|\n",
       "|United Kingdom|   536384|           190|             489.6|\n",
       "|United Kingdom|   536385|            53|            130.85|\n",
       "|United Kingdom|   536386|           236|508.20000000000005|\n",
       "|United Kingdom|   536387|          1440|           3193.92|\n",
       "|United Kingdom|   536388|           108|            226.14|\n",
       "|     Australia|   536389|           107|            358.25|\n",
       "|United Kingdom|   536390|          1568|           1825.74|\n",
       "|United Kingdom|   536392|           103|318.14000000000004|\n",
       "|United Kingdom|   536393|             8|              79.6|\n",
       "|United Kingdom|   536394|           544|1024.6800000000003|\n",
       "|United Kingdom|   536395|           260| 507.8800000000001|\n",
       "|United Kingdom|   536396|           102|376.36000000000007|\n",
       "|United Kingdom|   536397|            60|             279.0|\n",
       "|United Kingdom|   536398|           150|426.56000000000006|\n",
       "|United Kingdom|   536399|            12|22.200000000000003|\n",
       "|United Kingdom|   536400|            12|              17.4|\n",
       "+--------------+---------+--------------+------------------+\n",
       "only showing top 20 rows"
      ]
     },
     "execution_count": 22,
     "metadata": {},
     "output_type": "execute_result"
    }
   ],
   "source": [
    "#sql style\n",
    "orders_df1 \\\n",
    ".groupBy(\"country\",\"invoiceno\") \\\n",
    ".agg(expr(\"sum(quantity) as total_quantity\"), expr(\"sum(quantity * unitprice) as invoice_value\")).sort(\"invoiceno\")"
   ]
  },
  {
   "cell_type": "code",
   "execution_count": 23,
   "id": "b4b149be",
   "metadata": {},
   "outputs": [],
   "source": [
    "#spark sql\n",
    "orders_df1.createOrReplaceTempView(\"orders2\")"
   ]
  },
  {
   "cell_type": "code",
   "execution_count": 24,
   "id": "b40f30f5",
   "metadata": {},
   "outputs": [
    {
     "name": "stdout",
     "output_type": "stream",
     "text": [
      "+--------------+---------+--------------+------------------+\n",
      "|       country|invoiceno|total_quantity|     invoice_value|\n",
      "+--------------+---------+--------------+------------------+\n",
      "|United Kingdom|   536446|           329|            440.89|\n",
      "|United Kingdom|   536508|           216|            155.52|\n",
      "|United Kingdom|   537811|            74|            268.86|\n",
      "|United Kingdom|   538895|           370|            247.38|\n",
      "|United Kingdom|   540453|           341|302.44999999999993|\n",
      "|United Kingdom|   541291|           217|305.81000000000006|\n",
      "|United Kingdom|   542551|            -1|               0.0|\n",
      "|United Kingdom|   542576|            -1|               0.0|\n",
      "|United Kingdom|   542628|             9|            132.35|\n",
      "|United Kingdom|   542886|           199| 320.5099999999998|\n",
      "|United Kingdom|   542907|            75|            313.85|\n",
      "|United Kingdom|   543131|           134|             164.1|\n",
      "|United Kingdom|   543189|           102|            153.94|\n",
      "|United Kingdom|   543265|            -4|               0.0|\n",
      "|        Cyprus|   544574|           173|            320.69|\n",
      "|United Kingdom|   545077|            24|             10.08|\n",
      "|United Kingdom|   545300|           116|            323.16|\n",
      "|United Kingdom|   545347|            72| 76.32000000000001|\n",
      "|United Kingdom|   545418|            10|              85.0|\n",
      "|United Kingdom|   545897|           577|1762.2200000000018|\n",
      "+--------------+---------+--------------+------------------+\n",
      "only showing top 20 rows\n",
      "\n"
     ]
    }
   ],
   "source": [
    "spark.sql(\"\"\"select country, invoiceno\n",
    ",sum(quantity) as total_quantity\n",
    ",sum(quantity * unitprice) as invoice_value from orders2 \n",
    "group by country, invoiceno\"\"\").show()\n",
    "#use \"\"\" \"\"\" to run in multiple line in spark sql"
   ]
  },
  {
   "cell_type": "markdown",
   "id": "3a57f567",
   "metadata": {},
   "source": [
    "### Windowing aggrgerate"
   ]
  },
  {
   "cell_type": "code",
   "execution_count": 25,
   "id": "bf435c33",
   "metadata": {},
   "outputs": [],
   "source": [
    "orders_df3 = spark.read \\\n",
    ".format(\"csv\") \\\n",
    ".option(\"inferSchema\",\"true\") \\\n",
    ".option(\"header\",\"true\") \\\n",
    ".load(\"/public/trendytech/datasets/windowdata.csv\")"
   ]
  },
  {
   "cell_type": "code",
   "execution_count": 26,
   "id": "05670378",
   "metadata": {},
   "outputs": [
    {
     "name": "stdout",
     "output_type": "stream",
     "text": [
      "+---------------+-------+-----------+-------------+------------+\n",
      "|        country|weeknum|numinvoices|totalquantity|invoicevalue|\n",
      "+---------------+-------+-----------+-------------+------------+\n",
      "|      Australia|     49|          1|          214|       258.9|\n",
      "|      Australia|     48|          1|          107|      358.25|\n",
      "|      Australia|     50|          2|          133|      387.95|\n",
      "|        Austria|     50|          2|            3|      257.04|\n",
      "|        Bahrain|     51|          1|           54|      205.74|\n",
      "|        Belgium|     48|          1|          528|       346.1|\n",
      "|        Belgium|     50|          2|          285|      625.16|\n",
      "|        Belgium|     51|          2|          942|      838.65|\n",
      "|Channel Islands|     49|          1|           80|      363.53|\n",
      "|         Cyprus|     50|          1|          917|     1590.82|\n",
      "|        Denmark|     49|          1|          454|      1281.5|\n",
      "|        Finland|     50|          1|         1254|       892.8|\n",
      "|         France|     49|          9|         2303|     4527.01|\n",
      "|         France|     48|          4|         1299|     2808.16|\n",
      "|         France|     51|          5|          847|     1702.87|\n",
      "|         France|     50|          6|          529|      537.32|\n",
      "|        Germany|     48|         11|         1795|     3309.75|\n",
      "|        Germany|     50|         15|         1973|     5065.79|\n",
      "|        Germany|     49|         12|         1852|     4521.39|\n",
      "|        Germany|     51|          5|         1103|     1665.91|\n",
      "+---------------+-------+-----------+-------------+------------+\n",
      "only showing top 20 rows\n",
      "\n"
     ]
    }
   ],
   "source": [
    "orders_df3.sort(\"country\").show()"
   ]
  },
  {
   "cell_type": "markdown",
   "id": "b630503a",
   "metadata": {},
   "source": [
    "|        Germany|     48|         11|         1795|     3309.75|\n",
    "\n",
    "|        Germany|     49|         12|         1852|     4521.39|\n",
    "\n",
    "|        Germany|     50|         15|         1973|     5065.79|\n",
    "\n",
    "|        Germany|     51|          5|         1103|     1665.91|\n",
    "\n",
    "1. Partition by country : Window.partitionBy(\"country\") \\\n",
    "2. sort based on week : .orderBy(\"weeknum\") \\\n",
    "3. window size: .rowsBetween(Window.unboundedPreceding,Window.currentRow) \n"
   ]
  },
  {
   "cell_type": "code",
   "execution_count": 27,
   "id": "f2193528",
   "metadata": {},
   "outputs": [],
   "source": [
    "from pyspark.sql import *\n",
    "#running tatal"
   ]
  },
  {
   "cell_type": "code",
   "execution_count": 28,
   "id": "c7118658",
   "metadata": {},
   "outputs": [],
   "source": [
    "my_window = Window.partitionBy(\"country\") \\\n",
    ".orderBy(\"weeknum\") \\\n",
    ".rowsBetween(Window.unboundedPreceding,Window.currentRow) \n",
    "#unboundedPreceding first row of the group\n",
    "#.rowsBetween(-2,Window.currentRow) - this means current row and two previous row\n"
   ]
  },
  {
   "cell_type": "code",
   "execution_count": 29,
   "id": "f6de08f5",
   "metadata": {},
   "outputs": [],
   "source": [
    "results_df = orders_df3.withColumn(\"running_column\",sum(\"invoicevalue\").over(my_window))"
   ]
  },
  {
   "cell_type": "code",
   "execution_count": 30,
   "id": "c22ec5e5",
   "metadata": {},
   "outputs": [
    {
     "name": "stdout",
     "output_type": "stream",
     "text": [
      "+-------+-------+-----------+-------------+------------+------------------+\n",
      "|country|weeknum|numinvoices|totalquantity|invoicevalue|    running_column|\n",
      "+-------+-------+-----------+-------------+------------+------------------+\n",
      "| Sweden|     50|          3|         3714|      2646.3|            2646.3|\n",
      "|Germany|     48|         11|         1795|     3309.75|           3309.75|\n",
      "|Germany|     49|         12|         1852|     4521.39|           7831.14|\n",
      "|Germany|     50|         15|         1973|     5065.79|          12896.93|\n",
      "|Germany|     51|          5|         1103|     1665.91|          14562.84|\n",
      "| France|     48|          4|         1299|     2808.16|           2808.16|\n",
      "| France|     49|          9|         2303|     4527.01|           7335.17|\n",
      "| France|     50|          6|          529|      537.32|           7872.49|\n",
      "| France|     51|          5|          847|     1702.87|           9575.36|\n",
      "|Belgium|     48|          1|          528|       346.1|             346.1|\n",
      "|Belgium|     50|          2|          285|      625.16|            971.26|\n",
      "|Belgium|     51|          2|          942|      838.65|1809.9099999999999|\n",
      "|Finland|     50|          1|         1254|       892.8|             892.8|\n",
      "|  India|     48|          7|         2822|     3147.23|           3147.23|\n",
      "|  India|     49|          5|         1280|      3284.1|           6431.33|\n",
      "|  India|     50|          5|         1184|     2321.78|           8753.11|\n",
      "|  India|     51|          5|           95|      276.84|           9029.95|\n",
      "|  Italy|     48|          1|          164|       427.8|             427.8|\n",
      "|  Italy|     49|          1|           -2|       -17.0|             410.8|\n",
      "|  Italy|     51|          1|          131|       383.7|             794.5|\n",
      "+-------+-------+-----------+-------------+------------+------------------+\n",
      "only showing top 20 rows\n",
      "\n"
     ]
    }
   ],
   "source": [
    "results_df.show()"
   ]
  },
  {
   "cell_type": "markdown",
   "id": "262b87a8",
   "metadata": {},
   "source": [
    "#### More in windowing funtion"
   ]
  },
  {
   "cell_type": "markdown",
   "id": "fc8c3ca4",
   "metadata": {},
   "source": [
    "1. rank\n",
    "1. dense rank\n",
    "1. rwo number\n",
    "1. lead\n",
    "1. lag"
   ]
  },
  {
   "cell_type": "code",
   "execution_count": 31,
   "id": "ac70edeb",
   "metadata": {},
   "outputs": [
    {
     "data": {
      "text/html": [
       "\n",
       "            <div>\n",
       "                <p><b>SparkSession - hive</b></p>\n",
       "                \n",
       "        <div>\n",
       "            <p><b>SparkContext</b></p>\n",
       "\n",
       "            <p><a href=\"http://g01.itversity.com:4043\">Spark UI</a></p>\n",
       "\n",
       "            <dl>\n",
       "              <dt>Version</dt>\n",
       "                <dd><code>v2.4.7</code></dd>\n",
       "              <dt>Master</dt>\n",
       "                <dd><code>yarn</code></dd>\n",
       "              <dt>AppName</dt>\n",
       "                <dd><code>Ways to access a column in Pyspark</code></dd>\n",
       "            </dl>\n",
       "        </div>\n",
       "        \n",
       "            </div>\n",
       "        "
      ],
      "text/plain": [
       "<pyspark.sql.session.SparkSession at 0x7f899c877390>"
      ]
     },
     "execution_count": 31,
     "metadata": {},
     "output_type": "execute_result"
    }
   ],
   "source": [
    "spark"
   ]
  },
  {
   "cell_type": "code",
   "execution_count": 32,
   "id": "18dad625",
   "metadata": {},
   "outputs": [],
   "source": [
    "orders_df4 = spark.read \\\n",
    ".format(\"csv\") \\\n",
    ".option(\"inferSchema\",\"true\") \\\n",
    ".option(\"header\",\"true\") \\\n",
    ".load(\"/public/trendytech/datasets/windowdatamodified.csv\")"
   ]
  },
  {
   "cell_type": "code",
   "execution_count": 33,
   "id": "e32aa9f4",
   "metadata": {},
   "outputs": [
    {
     "name": "stdout",
     "output_type": "stream",
     "text": [
      "+---------------+-------+-----------+-------------+------------+\n",
      "|        country|weeknum|numinvoices|totalquantity|invoicevalue|\n",
      "+---------------+-------+-----------+-------------+------------+\n",
      "|      Australia|     49|          1|          214|       258.9|\n",
      "|      Australia|     48|          1|          107|      358.25|\n",
      "|      Australia|     50|          2|          133|      387.95|\n",
      "|        Austria|     50|          2|            3|      257.04|\n",
      "|        Bahrain|     51|          1|           54|      205.74|\n",
      "|        Belgium|     50|          2|          285|      625.16|\n",
      "|        Belgium|     51|          2|          942|       800.0|\n",
      "|        Belgium|     48|          1|          528|       800.0|\n",
      "|Channel Islands|     49|          1|           80|      363.53|\n",
      "|         Cyprus|     50|          1|          917|     1590.82|\n",
      "|        Denmark|     49|          1|          454|      1281.5|\n",
      "|        Finland|     50|          1|         1254|       892.8|\n",
      "|         France|     48|          4|         1299|       500.0|\n",
      "|         France|     51|          5|          847|       500.0|\n",
      "|         France|     49|          9|         2303|       500.0|\n",
      "|         France|     50|          6|          529|      537.32|\n",
      "|        Germany|     51|          5|         1103|      1600.0|\n",
      "|        Germany|     48|         11|         1795|      1600.0|\n",
      "|        Germany|     49|         12|         1852|      1800.0|\n",
      "|        Germany|     50|         15|         1973|      1800.0|\n",
      "|        Iceland|     49|          1|          319|      711.79|\n",
      "|          India|     51|          5|           95|       300.0|\n",
      "|          India|     48|          7|         2822|       300.0|\n",
      "|          India|     50|          5|         1184|     2321.78|\n",
      "|          India|     49|          5|         1280|      3284.1|\n",
      "|         Israel|     50|          1|          -56|     -227.44|\n",
      "|          Italy|     49|          1|           -2|       -17.0|\n",
      "|          Italy|     51|          1|          131|       383.7|\n",
      "|          Italy|     48|          1|          164|       427.8|\n",
      "|          Japan|     48|          1|          196|      320.08|\n",
      "|          Japan|     49|          2|         3897|     7384.99|\n",
      "|      Lithuania|     49|          1|           30|        63.0|\n",
      "|      Lithuania|     48|          3|          622|     1598.06|\n",
      "|    Netherlands|     48|          1|           97|       192.6|\n",
      "|    Netherlands|     51|          2|         6714|     8591.88|\n",
      "|         Norway|     49|          1|         1730|     1867.98|\n",
      "|         Norway|     48|          1|         1852|     1919.14|\n",
      "|         Poland|     48|          1|          140|      248.16|\n",
      "|       Portugal|     48|          1|           65|       131.8|\n",
      "|       Portugal|     50|          3|          154|      403.65|\n",
      "|       Portugal|     49|          4|          726|     1844.67|\n",
      "|          Spain|     49|          1|           67|      174.72|\n",
      "|          Spain|     48|          1|          400|       620.0|\n",
      "|          Spain|     50|          2|          400|     1049.01|\n",
      "|         Sweden|     50|          3|         3714|      2646.3|\n",
      "|    Switzerland|     48|          1|          110|       303.4|\n",
      "|    Switzerland|     51|          1|          604|     1001.52|\n",
      "| United Kingdom|     51|        200|        28782|    75103.46|\n",
      "| United Kingdom|     48|        478|        68865|   166116.72|\n",
      "| United Kingdom|     50|        530|        94956|   191501.99|\n",
      "+---------------+-------+-----------+-------------+------------+\n",
      "only showing top 50 rows\n",
      "\n"
     ]
    }
   ],
   "source": [
    "orders_df4.orderBy(\"country\",\"invoicevalue\").show(50)"
   ]
  },
  {
   "cell_type": "code",
   "execution_count": 34,
   "id": "8fe25637",
   "metadata": {},
   "outputs": [],
   "source": [
    "#running total defing window= first row to current row\n",
    "my_window1 = Window.partitionBy(\"country\") \\\n",
    ".orderBy(\"weeknum\") \\\n",
    ".rowsBetween(Window.unboundedPreceding,Window.currentRow)"
   ]
  },
  {
   "cell_type": "code",
   "execution_count": 35,
   "id": "8dfd8328",
   "metadata": {},
   "outputs": [],
   "source": [
    "results4 = orders_df4.withColumn(\"running_total\",sum(\"invoicevalue\").over(my_window1))"
   ]
  },
  {
   "cell_type": "code",
   "execution_count": 36,
   "id": "684fed7a",
   "metadata": {},
   "outputs": [
    {
     "name": "stdout",
     "output_type": "stream",
     "text": [
      "+-------+-------+-----------+-------------+------------+------------------+\n",
      "|country|weeknum|numinvoices|totalquantity|invoicevalue|     running_total|\n",
      "+-------+-------+-----------+-------------+------------+------------------+\n",
      "| Sweden|     50|          3|         3714|      2646.3|            2646.3|\n",
      "|Germany|     48|         11|         1795|      1600.0|            1600.0|\n",
      "|Germany|     49|         12|         1852|      1800.0|            3400.0|\n",
      "|Germany|     50|         15|         1973|      1800.0|            5200.0|\n",
      "|Germany|     51|          5|         1103|      1600.0|            6800.0|\n",
      "| France|     48|          4|         1299|       500.0|             500.0|\n",
      "| France|     49|          9|         2303|       500.0|            1000.0|\n",
      "| France|     50|          6|          529|      537.32|1537.3200000000002|\n",
      "| France|     51|          5|          847|       500.0|2037.3200000000002|\n",
      "|Belgium|     48|          1|          528|       800.0|             800.0|\n",
      "|Belgium|     50|          2|          285|      625.16|1425.1599999999999|\n",
      "|Belgium|     51|          2|          942|       800.0|           2225.16|\n",
      "|Finland|     50|          1|         1254|       892.8|             892.8|\n",
      "|  India|     48|          7|         2822|       300.0|             300.0|\n",
      "|  India|     49|          5|         1280|      3284.1|            3584.1|\n",
      "|  India|     50|          5|         1184|     2321.78|           5905.88|\n",
      "|  India|     51|          5|           95|       300.0|           6205.88|\n",
      "|  Italy|     48|          1|          164|       427.8|             427.8|\n",
      "|  Italy|     49|          1|           -2|       -17.0|             410.8|\n",
      "|  Italy|     51|          1|          131|       383.7|             794.5|\n",
      "+-------+-------+-----------+-------------+------------+------------------+\n",
      "only showing top 20 rows\n",
      "\n"
     ]
    }
   ],
   "source": [
    "results4.show()"
   ]
  },
  {
   "cell_type": "code",
   "execution_count": 37,
   "id": "1e81ec52",
   "metadata": {},
   "outputs": [],
   "source": [
    "my_window5 = Window.partitionBy(\"country\") \\\n",
    ".orderBy(desc(\"invoicevalue\"))"
   ]
  },
  {
   "cell_type": "code",
   "execution_count": 38,
   "id": "0585be62",
   "metadata": {},
   "outputs": [],
   "source": [
    "rank_result = orders_df4.withColumn(\"rank\",rank().over(my_window5))\n",
    "#rank we skip when tie"
   ]
  },
  {
   "cell_type": "code",
   "execution_count": 39,
   "id": "4d6a2c9d",
   "metadata": {},
   "outputs": [
    {
     "name": "stdout",
     "output_type": "stream",
     "text": [
      "+-------+-------+-----------+-------------+------------+----+\n",
      "|country|weeknum|numinvoices|totalquantity|invoicevalue|rank|\n",
      "+-------+-------+-----------+-------------+------------+----+\n",
      "| Sweden|     50|          3|         3714|      2646.3|   1|\n",
      "|Germany|     49|         12|         1852|      1800.0|   1|\n",
      "|Germany|     50|         15|         1973|      1800.0|   1|\n",
      "|Germany|     48|         11|         1795|      1600.0|   3|\n",
      "|Germany|     51|          5|         1103|      1600.0|   3|\n",
      "| France|     50|          6|          529|      537.32|   1|\n",
      "| France|     51|          5|          847|       500.0|   2|\n",
      "| France|     49|          9|         2303|       500.0|   2|\n",
      "| France|     48|          4|         1299|       500.0|   2|\n",
      "|Belgium|     48|          1|          528|       800.0|   1|\n",
      "|Belgium|     51|          2|          942|       800.0|   1|\n",
      "|Belgium|     50|          2|          285|      625.16|   3|\n",
      "|Finland|     50|          1|         1254|       892.8|   1|\n",
      "|  India|     49|          5|         1280|      3284.1|   1|\n",
      "|  India|     50|          5|         1184|     2321.78|   2|\n",
      "|  India|     51|          5|           95|       300.0|   3|\n",
      "|  India|     48|          7|         2822|       300.0|   3|\n",
      "|  Italy|     48|          1|          164|       427.8|   1|\n",
      "|  Italy|     51|          1|          131|       383.7|   2|\n",
      "|  Italy|     49|          1|           -2|       -17.0|   3|\n",
      "+-------+-------+-----------+-------------+------------+----+\n",
      "only showing top 20 rows\n",
      "\n"
     ]
    }
   ],
   "source": [
    "rank_result.show()"
   ]
  },
  {
   "cell_type": "code",
   "execution_count": 40,
   "id": "ccdab687",
   "metadata": {},
   "outputs": [],
   "source": [
    "rownumber_result = orders_df4.withColumn(\"rank\",row_number().over(my_window5))\n",
    "#row number for top nth"
   ]
  },
  {
   "cell_type": "code",
   "execution_count": 41,
   "id": "fa61fa52",
   "metadata": {},
   "outputs": [
    {
     "data": {
      "text/plain": [
       "<bound method DataFrame.show of +---------------+-------+-----------+-------------+------------+\n",
       "|        country|weeknum|numinvoices|totalquantity|invoicevalue|\n",
       "+---------------+-------+-----------+-------------+------------+\n",
       "|      Australia|     50|          2|          133|      387.95|\n",
       "|        Austria|     50|          2|            3|      257.04|\n",
       "|        Bahrain|     51|          1|           54|      205.74|\n",
       "|        Belgium|     48|          1|          528|       800.0|\n",
       "|Channel Islands|     49|          1|           80|      363.53|\n",
       "|         Cyprus|     50|          1|          917|     1590.82|\n",
       "|        Denmark|     49|          1|          454|      1281.5|\n",
       "|        Finland|     50|          1|         1254|       892.8|\n",
       "|         France|     50|          6|          529|      537.32|\n",
       "|        Germany|     49|         12|         1852|      1800.0|\n",
       "|        Iceland|     49|          1|          319|      711.79|\n",
       "|          India|     49|          5|         1280|      3284.1|\n",
       "|         Israel|     50|          1|          -56|     -227.44|\n",
       "|          Italy|     48|          1|          164|       427.8|\n",
       "|          Japan|     49|          2|         3897|     7384.99|\n",
       "|      Lithuania|     48|          3|          622|     1598.06|\n",
       "|    Netherlands|     51|          2|         6714|     8591.88|\n",
       "|         Norway|     48|          1|         1852|     1919.14|\n",
       "|         Poland|     48|          1|          140|      248.16|\n",
       "|       Portugal|     49|          4|          726|     1844.67|\n",
       "+---------------+-------+-----------+-------------+------------+\n",
       "only showing top 20 rows\n",
       ">"
      ]
     },
     "execution_count": 41,
     "metadata": {},
     "output_type": "execute_result"
    }
   ],
   "source": [
    "rownumber_result.select(\"*\").where(\"rank==1\").drop(\"rank\").sort(\"country\").show"
   ]
  },
  {
   "cell_type": "markdown",
   "id": "8f225e04",
   "metadata": {},
   "source": [
    "### understanding lag lead"
   ]
  },
  {
   "cell_type": "code",
   "execution_count": 42,
   "id": "e0bab1c2",
   "metadata": {},
   "outputs": [],
   "source": [
    "my_window6 = Window.partitionBy(\"country\") \\\n",
    ".orderBy(\"weeknum\")"
   ]
  },
  {
   "cell_type": "code",
   "execution_count": 43,
   "id": "273d25a0",
   "metadata": {},
   "outputs": [],
   "source": [
    "result_lag = orders_df4.withColumn(\"previous_week\",lag(\"invoicevalue\").over(my_window6))"
   ]
  },
  {
   "cell_type": "code",
   "execution_count": 44,
   "id": "52d0500d",
   "metadata": {},
   "outputs": [
    {
     "data": {
      "text/html": [
       "<table border='1'>\n",
       "<tr><th>country</th><th>weeknum</th><th>numinvoices</th><th>totalquantity</th><th>invoicevalue</th><th>previous_week</th><th>invoice_diff</th></tr>\n",
       "<tr><td>Sweden</td><td>50</td><td>3</td><td>3714</td><td>2646.3</td><td>null</td><td>null</td></tr>\n",
       "<tr><td>Germany</td><td>48</td><td>11</td><td>1795</td><td>1600.0</td><td>null</td><td>null</td></tr>\n",
       "<tr><td>Germany</td><td>49</td><td>12</td><td>1852</td><td>1800.0</td><td>1600.0</td><td>200.0</td></tr>\n",
       "<tr><td>Germany</td><td>50</td><td>15</td><td>1973</td><td>1800.0</td><td>1800.0</td><td>0.0</td></tr>\n",
       "<tr><td>Germany</td><td>51</td><td>5</td><td>1103</td><td>1600.0</td><td>1800.0</td><td>-200.0</td></tr>\n",
       "<tr><td>France</td><td>48</td><td>4</td><td>1299</td><td>500.0</td><td>null</td><td>null</td></tr>\n",
       "<tr><td>France</td><td>49</td><td>9</td><td>2303</td><td>500.0</td><td>500.0</td><td>0.0</td></tr>\n",
       "<tr><td>France</td><td>50</td><td>6</td><td>529</td><td>537.32</td><td>500.0</td><td>37.32000000000005</td></tr>\n",
       "<tr><td>France</td><td>51</td><td>5</td><td>847</td><td>500.0</td><td>537.32</td><td>-37.32000000000005</td></tr>\n",
       "<tr><td>Belgium</td><td>48</td><td>1</td><td>528</td><td>800.0</td><td>null</td><td>null</td></tr>\n",
       "<tr><td>Belgium</td><td>50</td><td>2</td><td>285</td><td>625.16</td><td>800.0</td><td>-174.84000000000003</td></tr>\n",
       "<tr><td>Belgium</td><td>51</td><td>2</td><td>942</td><td>800.0</td><td>625.16</td><td>174.84000000000003</td></tr>\n",
       "<tr><td>Finland</td><td>50</td><td>1</td><td>1254</td><td>892.8</td><td>null</td><td>null</td></tr>\n",
       "<tr><td>India</td><td>48</td><td>7</td><td>2822</td><td>300.0</td><td>null</td><td>null</td></tr>\n",
       "<tr><td>India</td><td>49</td><td>5</td><td>1280</td><td>3284.1</td><td>300.0</td><td>2984.1</td></tr>\n",
       "<tr><td>India</td><td>50</td><td>5</td><td>1184</td><td>2321.78</td><td>3284.1</td><td>-962.3199999999997</td></tr>\n",
       "<tr><td>India</td><td>51</td><td>5</td><td>95</td><td>300.0</td><td>2321.78</td><td>-2021.7800000000002</td></tr>\n",
       "<tr><td>Italy</td><td>48</td><td>1</td><td>164</td><td>427.8</td><td>null</td><td>null</td></tr>\n",
       "<tr><td>Italy</td><td>49</td><td>1</td><td>-2</td><td>-17.0</td><td>427.8</td><td>-444.8</td></tr>\n",
       "<tr><td>Italy</td><td>51</td><td>1</td><td>131</td><td>383.7</td><td>-17.0</td><td>400.7</td></tr>\n",
       "</table>\n",
       "only showing top 20 rows\n"
      ],
      "text/plain": [
       "+-------+-------+-----------+-------------+------------+-------------+-------------------+\n",
       "|country|weeknum|numinvoices|totalquantity|invoicevalue|previous_week|       invoice_diff|\n",
       "+-------+-------+-----------+-------------+------------+-------------+-------------------+\n",
       "| Sweden|     50|          3|         3714|      2646.3|         null|               null|\n",
       "|Germany|     48|         11|         1795|      1600.0|         null|               null|\n",
       "|Germany|     49|         12|         1852|      1800.0|       1600.0|              200.0|\n",
       "|Germany|     50|         15|         1973|      1800.0|       1800.0|                0.0|\n",
       "|Germany|     51|          5|         1103|      1600.0|       1800.0|             -200.0|\n",
       "| France|     48|          4|         1299|       500.0|         null|               null|\n",
       "| France|     49|          9|         2303|       500.0|        500.0|                0.0|\n",
       "| France|     50|          6|          529|      537.32|        500.0|  37.32000000000005|\n",
       "| France|     51|          5|          847|       500.0|       537.32| -37.32000000000005|\n",
       "|Belgium|     48|          1|          528|       800.0|         null|               null|\n",
       "|Belgium|     50|          2|          285|      625.16|        800.0|-174.84000000000003|\n",
       "|Belgium|     51|          2|          942|       800.0|       625.16| 174.84000000000003|\n",
       "|Finland|     50|          1|         1254|       892.8|         null|               null|\n",
       "|  India|     48|          7|         2822|       300.0|         null|               null|\n",
       "|  India|     49|          5|         1280|      3284.1|        300.0|             2984.1|\n",
       "|  India|     50|          5|         1184|     2321.78|       3284.1| -962.3199999999997|\n",
       "|  India|     51|          5|           95|       300.0|      2321.78|-2021.7800000000002|\n",
       "|  Italy|     48|          1|          164|       427.8|         null|               null|\n",
       "|  Italy|     49|          1|           -2|       -17.0|        427.8|             -444.8|\n",
       "|  Italy|     51|          1|          131|       383.7|        -17.0|              400.7|\n",
       "+-------+-------+-----------+-------------+------------+-------------+-------------------+\n",
       "only showing top 20 rows"
      ]
     },
     "execution_count": 44,
     "metadata": {},
     "output_type": "execute_result"
    }
   ],
   "source": [
    "result_lag.withColumn(\"invoice_diff\",expr(\"invoicevalue - previous_week\"))"
   ]
  },
  {
   "cell_type": "code",
   "execution_count": 45,
   "id": "a9a1ca5f",
   "metadata": {},
   "outputs": [
    {
     "name": "stdout",
     "output_type": "stream",
     "text": [
      "+-------+-------+-----------+-------------+------------+-------------+\n",
      "|country|weeknum|numinvoices|totalquantity|invoicevalue|previous_week|\n",
      "+-------+-------+-----------+-------------+------------+-------------+\n",
      "| Sweden|     50|          3|         3714|      2646.3|         null|\n",
      "|Germany|     48|         11|         1795|      1600.0|         null|\n",
      "|Germany|     49|         12|         1852|      1800.0|       1600.0|\n",
      "|Germany|     50|         15|         1973|      1800.0|       1800.0|\n",
      "|Germany|     51|          5|         1103|      1600.0|       1800.0|\n",
      "| France|     48|          4|         1299|       500.0|         null|\n",
      "| France|     49|          9|         2303|       500.0|        500.0|\n",
      "| France|     50|          6|          529|      537.32|        500.0|\n",
      "| France|     51|          5|          847|       500.0|       537.32|\n",
      "|Belgium|     48|          1|          528|       800.0|         null|\n",
      "|Belgium|     50|          2|          285|      625.16|        800.0|\n",
      "|Belgium|     51|          2|          942|       800.0|       625.16|\n",
      "|Finland|     50|          1|         1254|       892.8|         null|\n",
      "|  India|     48|          7|         2822|       300.0|         null|\n",
      "|  India|     49|          5|         1280|      3284.1|        300.0|\n",
      "|  India|     50|          5|         1184|     2321.78|       3284.1|\n",
      "|  India|     51|          5|           95|       300.0|      2321.78|\n",
      "|  Italy|     48|          1|          164|       427.8|         null|\n",
      "|  Italy|     49|          1|           -2|       -17.0|        427.8|\n",
      "|  Italy|     51|          1|          131|       383.7|        -17.0|\n",
      "+-------+-------+-----------+-------------+------------+-------------+\n",
      "only showing top 20 rows\n",
      "\n"
     ]
    }
   ],
   "source": [
    "result_lag.show()"
   ]
  },
  {
   "cell_type": "code",
   "execution_count": 46,
   "id": "38fca489",
   "metadata": {},
   "outputs": [],
   "source": [
    "result_lead = orders_df4.withColumn(\"next_week\",lag(\"invoicevalue\").over(my_window6))"
   ]
  },
  {
   "cell_type": "code",
   "execution_count": 47,
   "id": "8fa7673e",
   "metadata": {},
   "outputs": [
    {
     "name": "stdout",
     "output_type": "stream",
     "text": [
      "+-------+-------+-----------+-------------+------------+---------+\n",
      "|country|weeknum|numinvoices|totalquantity|invoicevalue|next_week|\n",
      "+-------+-------+-----------+-------------+------------+---------+\n",
      "| Sweden|     50|          3|         3714|      2646.3|     null|\n",
      "|Germany|     48|         11|         1795|      1600.0|     null|\n",
      "|Germany|     49|         12|         1852|      1800.0|   1600.0|\n",
      "|Germany|     50|         15|         1973|      1800.0|   1800.0|\n",
      "|Germany|     51|          5|         1103|      1600.0|   1800.0|\n",
      "| France|     48|          4|         1299|       500.0|     null|\n",
      "| France|     49|          9|         2303|       500.0|    500.0|\n",
      "| France|     50|          6|          529|      537.32|    500.0|\n",
      "| France|     51|          5|          847|       500.0|   537.32|\n",
      "|Belgium|     48|          1|          528|       800.0|     null|\n",
      "|Belgium|     50|          2|          285|      625.16|    800.0|\n",
      "|Belgium|     51|          2|          942|       800.0|   625.16|\n",
      "|Finland|     50|          1|         1254|       892.8|     null|\n",
      "|  India|     48|          7|         2822|       300.0|     null|\n",
      "|  India|     49|          5|         1280|      3284.1|    300.0|\n",
      "|  India|     50|          5|         1184|     2321.78|   3284.1|\n",
      "|  India|     51|          5|           95|       300.0|  2321.78|\n",
      "|  Italy|     48|          1|          164|       427.8|     null|\n",
      "|  Italy|     49|          1|           -2|       -17.0|    427.8|\n",
      "|  Italy|     51|          1|          131|       383.7|    -17.0|\n",
      "+-------+-------+-----------+-------------+------------+---------+\n",
      "only showing top 20 rows\n",
      "\n"
     ]
    }
   ],
   "source": [
    "result_lead.show()"
   ]
  },
  {
   "cell_type": "markdown",
   "id": "6d0568b4",
   "metadata": {},
   "source": [
    "#### Analyzing log files"
   ]
  },
  {
   "cell_type": "markdown",
   "id": "8969f9f1",
   "metadata": {},
   "source": [
    "log data files stored in HDFS\n",
    "\n",
    "/public/trendytech/datasets/logdata1m.csv\n",
    "\n",
    "we need to analyse these logs to find some inference\n",
    "\n",
    "January error 10000\n",
    "\n",
    "December 20000\n",
    "\n",
    "12 months\n",
    "\n",
    "Five different levels\n",
    "\n",
    "60 output rows"
   ]
  },
  {
   "cell_type": "code",
   "execution_count": 48,
   "id": "93cac62a",
   "metadata": {},
   "outputs": [
    {
     "name": "stdout",
     "output_type": "stream",
     "text": [
      "INFO,2015-8-8 20:49:22\n",
      "WARN,2015-1-14 20:05:00\n",
      "INFO,2017-6-14 00:08:35\n",
      "INFO,2016-1-18 11:50:14\n",
      "DEBUG,2017-7-1 12:55:02\n",
      "INFO,2014-2-26 12:34:21\n",
      "INFO,2015-7-12 11:13:47\n",
      "INFO,2017-4-15 01:20:18\n",
      "DEBUG,2016-11-2 20:19:23\n",
      "INFO,2012-8-20 10:09:44\n",
      "DEBUG,2014-4-22 21:30:49\n",
      "WARN,2013-12-6 17:54:15\n",
      "DEBUG,2017-1-12 10:47:02\n",
      "DEBUG,2016-6-25 11:06:42\n",
      "ERROR,2015-6-28 19:25:05\n",
      "DEBUG,2012-6-24 01:06:37\n",
      "INFO,2014-12-9 09:53:54\n",
      "DEBUG,2015-11-8 19:20:08\n",
      "INFO,2017-7-21 18:34:18\n",
      "DEBUG,2014-12-26 06:38:42\n",
      "DEBUG,2013-1-6 16:56:43\n",
      "INFO,2015-10-8 11:33:25\n",
      "INFO,2016-11-18 09:47:31\n",
      "DEBUG,2015-2-6 16:24:07\n",
      "WARN,2016-7-26 18:54:43\n",
      "INFO,2012-10-18 14:35:19\n",
      "DEBUG,2012-4-26 14:26:50\n",
      "DEBUG,2013-9-28 20:27:13\n",
      "INFO,2017-8-20 13:17:27\n",
      "INFO,2015-4-13 09:28:17\n",
      "DEBUG,2015-7-17 00:49:27\n",
      "DEBUG,2014-7-26 02:33:09\n",
      "INFO,2016-1-13 09:51:57\n",
      "DEBUG,2015-1-14 08:55:30\n",
      "DEBUG,2016-1-20 03:47:06\n",
      "DEBUG,2013-7-8 21:00:50\n",
      "DEBUG,2012-5-22 11:43:57\n",
      "DEBUG,2013-3-20 06:14:50\n",
      "DEBUG,2017-7-13 15:35:11\n",
      "DEBUG,2013-1-21 20:20:25\n",
      "DEBU"
     ]
    }
   ],
   "source": [
    "! hdfs dfs -head /public/trendytech/datasets/logdata1m.csv"
   ]
  },
  {
   "cell_type": "code",
   "execution_count": 49,
   "id": "addce1cf",
   "metadata": {},
   "outputs": [],
   "source": [
    "logs_data = [\n",
    "    ('INFO', '2015-8-8 20:49:22'),\n",
    "    ('WARN', '2015-1-14 20:05:00'),\n",
    "    ('INFO', '2017-6-14 00:08:35'),\n",
    "    ('INFO', '2016-1-18 11:50:14'),\n",
    "    ('DEBUG', '2017-7-1 12:55:02'),\n",
    "    ('INFO', '2014-2-26 12:34:21'),\n",
    "    ('INFO', '2015-7-12 11:13:47'),\n",
    "    ('INFO', '2017-4-15 01:20:18'),\n",
    "    ('DEBUG', '2016-11-2 20:19:23'),\n",
    "    ('INFO', '2012-8-20 10:09:44'),\n",
    "    ('DEBUG', '2014-4-22 21:30:49'),\n",
    "    ('WARN', '2013-12-6 17:54:15')\n",
    "]\n"
   ]
  },
  {
   "cell_type": "code",
   "execution_count": 50,
   "id": "307b0e14",
   "metadata": {},
   "outputs": [],
   "source": [
    "log_df = spark.createDataFrame(logs_data).toDF('loglevel','logtime')"
   ]
  },
  {
   "cell_type": "code",
   "execution_count": 51,
   "id": "72cb2177",
   "metadata": {},
   "outputs": [
    {
     "name": "stdout",
     "output_type": "stream",
     "text": [
      "+--------+------------------+\n",
      "|loglevel|           logtime|\n",
      "+--------+------------------+\n",
      "|    INFO| 2015-8-8 20:49:22|\n",
      "|    WARN|2015-1-14 20:05:00|\n",
      "|    INFO|2017-6-14 00:08:35|\n",
      "|    INFO|2016-1-18 11:50:14|\n",
      "|   DEBUG| 2017-7-1 12:55:02|\n",
      "|    INFO|2014-2-26 12:34:21|\n",
      "|    INFO|2015-7-12 11:13:47|\n",
      "|    INFO|2017-4-15 01:20:18|\n",
      "|   DEBUG|2016-11-2 20:19:23|\n",
      "|    INFO|2012-8-20 10:09:44|\n",
      "|   DEBUG|2014-4-22 21:30:49|\n",
      "|    WARN|2013-12-6 17:54:15|\n",
      "+--------+------------------+\n",
      "\n"
     ]
    }
   ],
   "source": [
    "log_df.show()"
   ]
  },
  {
   "cell_type": "code",
   "execution_count": 52,
   "id": "5b9bd6ab",
   "metadata": {},
   "outputs": [
    {
     "name": "stdout",
     "output_type": "stream",
     "text": [
      "root\n",
      " |-- loglevel: string (nullable = true)\n",
      " |-- logtime: string (nullable = true)\n",
      "\n"
     ]
    }
   ],
   "source": [
    "log_df.printSchema()"
   ]
  },
  {
   "cell_type": "code",
   "execution_count": 53,
   "id": "544c4745",
   "metadata": {},
   "outputs": [],
   "source": [
    "from pyspark.sql.functions import *"
   ]
  },
  {
   "cell_type": "code",
   "execution_count": 54,
   "id": "aa3a8d34",
   "metadata": {},
   "outputs": [],
   "source": [
    "new_log_df = log_df.withColumn(\"logtime\",to_timestamp(\"logtime\"))"
   ]
  },
  {
   "cell_type": "code",
   "execution_count": 55,
   "id": "89e80a47",
   "metadata": {},
   "outputs": [
    {
     "name": "stdout",
     "output_type": "stream",
     "text": [
      "root\n",
      " |-- loglevel: string (nullable = true)\n",
      " |-- logtime: timestamp (nullable = true)\n",
      "\n"
     ]
    }
   ],
   "source": [
    "new_log_df.printSchema()"
   ]
  },
  {
   "cell_type": "code",
   "execution_count": 56,
   "id": "06d6d5bb",
   "metadata": {},
   "outputs": [],
   "source": [
    "new_log_df.createOrReplaceTempView(\"serverLogs\")"
   ]
  },
  {
   "cell_type": "code",
   "execution_count": 57,
   "id": "e99bd383",
   "metadata": {},
   "outputs": [
    {
     "name": "stdout",
     "output_type": "stream",
     "text": [
      "+--------+-------------------+\n",
      "|loglevel|            logtime|\n",
      "+--------+-------------------+\n",
      "|    INFO|2015-08-08 20:49:22|\n",
      "|    WARN|2015-01-14 20:05:00|\n",
      "|    INFO|2017-06-14 00:08:35|\n",
      "|    INFO|2016-01-18 11:50:14|\n",
      "|   DEBUG|2017-07-01 12:55:02|\n",
      "|    INFO|2014-02-26 12:34:21|\n",
      "|    INFO|2015-07-12 11:13:47|\n",
      "|    INFO|2017-04-15 01:20:18|\n",
      "|   DEBUG|2016-11-02 20:19:23|\n",
      "|    INFO|2012-08-20 10:09:44|\n",
      "|   DEBUG|2014-04-22 21:30:49|\n",
      "|    WARN|2013-12-06 17:54:15|\n",
      "+--------+-------------------+\n",
      "\n"
     ]
    }
   ],
   "source": [
    "spark.sql(\"select * from serverLogs\").show()"
   ]
  },
  {
   "cell_type": "code",
   "execution_count": 58,
   "id": "9f23ae86",
   "metadata": {},
   "outputs": [
    {
     "name": "stdout",
     "output_type": "stream",
     "text": [
      "+--------+--------+\n",
      "|loglevel|   MONTH|\n",
      "+--------+--------+\n",
      "|    INFO|  August|\n",
      "|    WARN| January|\n",
      "|    INFO|    June|\n",
      "|    INFO| January|\n",
      "|   DEBUG|    July|\n",
      "|    INFO|February|\n",
      "|    INFO|    July|\n",
      "|    INFO|   April|\n",
      "|   DEBUG|November|\n",
      "|    INFO|  August|\n",
      "|   DEBUG|   April|\n",
      "|    WARN|December|\n",
      "+--------+--------+\n",
      "\n"
     ]
    }
   ],
   "source": [
    "spark.sql(\"select loglevel, date_format(logtime, 'MMMM') AS MONTH FROM serverlogs\").show()"
   ]
  },
  {
   "cell_type": "markdown",
   "id": "b192fca5",
   "metadata": {},
   "source": [
    "appling aggregation"
   ]
  },
  {
   "cell_type": "code",
   "execution_count": 59,
   "id": "9e079b1d",
   "metadata": {},
   "outputs": [
    {
     "name": "stdout",
     "output_type": "stream",
     "text": [
      "+--------+--------+---------------+\n",
      "|loglevel|   MONTH|total_occurence|\n",
      "+--------+--------+---------------+\n",
      "|    INFO|    June|              1|\n",
      "|    WARN|December|              1|\n",
      "|   DEBUG|    July|              1|\n",
      "|    INFO|February|              1|\n",
      "|    WARN| January|              1|\n",
      "|    INFO|  August|              2|\n",
      "|   DEBUG|November|              1|\n",
      "|    INFO|   April|              1|\n",
      "|    INFO| January|              1|\n",
      "|   DEBUG|   April|              1|\n",
      "|    INFO|    July|              1|\n",
      "+--------+--------+---------------+\n",
      "\n"
     ]
    }
   ],
   "source": [
    "spark.sql(\"select loglevel, date_format(logtime, 'MMMM') AS MONTH,count(*) as total_occurence FROM serverlogs group by loglevel,month\").show()"
   ]
  },
  {
   "cell_type": "code",
   "execution_count": 60,
   "id": "31ee7f94",
   "metadata": {},
   "outputs": [],
   "source": [
    "logschema = \"loglevel string, logtime timestamp\""
   ]
  },
  {
   "cell_type": "code",
   "execution_count": 61,
   "id": "237d8e00",
   "metadata": {},
   "outputs": [],
   "source": [
    "log_df = spark.read \\\n",
    ".format(\"csv\") \\\n",
    ".schema(logschema) \\\n",
    ".load(\"/public/trendytech/datasets/logdata1m.csv\")"
   ]
  },
  {
   "cell_type": "code",
   "execution_count": 62,
   "id": "ac3a6a01",
   "metadata": {},
   "outputs": [
    {
     "name": "stdout",
     "output_type": "stream",
     "text": [
      "+--------+-------------------+\n",
      "|loglevel|            logtime|\n",
      "+--------+-------------------+\n",
      "|    INFO|2015-08-08 20:49:22|\n",
      "|    WARN|2015-01-14 20:05:00|\n",
      "|    INFO|2017-06-14 00:08:35|\n",
      "|    INFO|2016-01-18 11:50:14|\n",
      "|   DEBUG|2017-07-01 12:55:02|\n",
      "|    INFO|2014-02-26 12:34:21|\n",
      "|    INFO|2015-07-12 11:13:47|\n",
      "|    INFO|2017-04-15 01:20:18|\n",
      "|   DEBUG|2016-11-02 20:19:23|\n",
      "|    INFO|2012-08-20 10:09:44|\n",
      "|   DEBUG|2014-04-22 21:30:49|\n",
      "|    WARN|2013-12-06 17:54:15|\n",
      "|   DEBUG|2017-01-12 10:47:02|\n",
      "|   DEBUG|2016-06-25 11:06:42|\n",
      "|   ERROR|2015-06-28 19:25:05|\n",
      "|   DEBUG|2012-06-24 01:06:37|\n",
      "|    INFO|2014-12-09 09:53:54|\n",
      "|   DEBUG|2015-11-08 19:20:08|\n",
      "|    INFO|2017-07-21 18:34:18|\n",
      "|   DEBUG|2014-12-26 06:38:42|\n",
      "+--------+-------------------+\n",
      "only showing top 20 rows\n",
      "\n"
     ]
    }
   ],
   "source": [
    "log_df.show()"
   ]
  },
  {
   "cell_type": "code",
   "execution_count": 63,
   "id": "20a1dbe3",
   "metadata": {},
   "outputs": [
    {
     "data": {
      "text/plain": [
       "1000000"
      ]
     },
     "execution_count": 63,
     "metadata": {},
     "output_type": "execute_result"
    }
   ],
   "source": [
    "log_df.count()"
   ]
  },
  {
   "cell_type": "code",
   "execution_count": 68,
   "id": "7526349c",
   "metadata": {},
   "outputs": [],
   "source": [
    "log_df.createOrReplaceTempView(\"serverlog\")"
   ]
  },
  {
   "cell_type": "code",
   "execution_count": 69,
   "id": "c97b0a55",
   "metadata": {},
   "outputs": [
    {
     "name": "stdout",
     "output_type": "stream",
     "text": [
      "+--------+--------+---------+---------------+\n",
      "|loglevel|   MONTH|month_num|total_occurence|\n",
      "+--------+--------+---------+---------------+\n",
      "|    WARN| January|        1|           8217|\n",
      "|   DEBUG| January|        1|          41961|\n",
      "|   FATAL| January|        1|             94|\n",
      "|    INFO| January|        1|          29119|\n",
      "|   ERROR| January|        1|           4054|\n",
      "|    INFO|February|        2|          28983|\n",
      "|   DEBUG|February|        2|          41734|\n",
      "|    WARN|February|        2|           8266|\n",
      "|   FATAL|February|        2|             72|\n",
      "|   ERROR|February|        2|           4013|\n",
      "|    INFO|   March|        3|          29095|\n",
      "|   FATAL|   March|        3|             70|\n",
      "|   ERROR|   March|        3|           4122|\n",
      "|   DEBUG|   March|        3|          41652|\n",
      "|    WARN|   March|        3|           8165|\n",
      "|   DEBUG|   April|        4|          41869|\n",
      "|   ERROR|   April|        4|           4107|\n",
      "|    INFO|   April|        4|          29302|\n",
      "|    WARN|   April|        4|           8277|\n",
      "|   FATAL|   April|        4|             83|\n",
      "+--------+--------+---------+---------------+\n",
      "only showing top 20 rows\n",
      "\n"
     ]
    }
   ],
   "source": [
    "spark.sql(\"\"\"select loglevel, \n",
    "date_format(logtime, 'MMMM') AS MONTH, \n",
    "int(date_format(logtime,'M')) as month_num, \n",
    "count(*) as total_occurence \n",
    "FROM serverlog group by loglevel,month,month_num order by month_num\"\"\").show(20)\n",
    "#we need to cast month num to intiger bydefault its string and sorting is done as per ASCII"
   ]
  },
  {
   "cell_type": "code",
   "execution_count": 71,
   "id": "03d7f48a",
   "metadata": {},
   "outputs": [],
   "source": [
    "#use month_num as aggregate\n",
    "result_df = spark.sql(\"\"\"select loglevel, \n",
    "date_format(logtime, 'MMMM') AS MONTH, \n",
    "first(date_format(logtime,'M')) as month_num, \n",
    "count(*) as total_occurence \n",
    "FROM serverlog group by loglevel,month order by month_num\"\"\")\n"
   ]
  },
  {
   "cell_type": "code",
   "execution_count": 72,
   "id": "328e709b",
   "metadata": {},
   "outputs": [],
   "source": [
    "final_df = result_df.drop(\"month_num\")"
   ]
  },
  {
   "cell_type": "code",
   "execution_count": 73,
   "id": "08af9611",
   "metadata": {},
   "outputs": [
    {
     "name": "stdout",
     "output_type": "stream",
     "text": [
      "+--------+--------+---------------+\n",
      "|loglevel|   MONTH|total_occurence|\n",
      "+--------+--------+---------------+\n",
      "|    INFO| January|          29119|\n",
      "|   DEBUG| January|          41961|\n",
      "|   FATAL| January|             94|\n",
      "|   ERROR| January|           4054|\n",
      "|    WARN| January|           8217|\n",
      "|   DEBUG| October|          41936|\n",
      "|   FATAL| October|             92|\n",
      "|    INFO| October|          29018|\n",
      "|    WARN| October|           8226|\n",
      "|   ERROR| October|           4040|\n",
      "|   DEBUG|November|          33366|\n",
      "|   ERROR|November|           3389|\n",
      "|    INFO|November|          23301|\n",
      "|   FATAL|November|          16797|\n",
      "|    WARN|November|           6616|\n",
      "|    WARN|December|           8328|\n",
      "|   ERROR|December|           4106|\n",
      "|   FATAL|December|             94|\n",
      "|    INFO|December|          28874|\n",
      "|   DEBUG|December|          41749|\n",
      "+--------+--------+---------------+\n",
      "only showing top 20 rows\n",
      "\n"
     ]
    }
   ],
   "source": [
    "final_df.show()"
   ]
  },
  {
   "cell_type": "markdown",
   "id": "5f076220",
   "metadata": {},
   "source": [
    "#### Pivot table"
   ]
  },
  {
   "cell_type": "code",
   "execution_count": 76,
   "id": "04193219",
   "metadata": {},
   "outputs": [
    {
     "name": "stdout",
     "output_type": "stream",
     "text": [
      "+--------+-----+-----+-----+-----+-----+-----+-----+-----+-----+-----+-----+-----+\n",
      "|loglevel|   01|   02|   03|   04|   05|   06|   07|   08|   09|   10|   11|   12|\n",
      "+--------+-----+-----+-----+-----+-----+-----+-----+-----+-----+-----+-----+-----+\n",
      "|    INFO|29119|28983|29095|29302|28900|29143|29300|28993|29038|29018|23301|28874|\n",
      "|   ERROR| 4054| 4013| 4122| 4107| 4086| 4059| 3976| 3987| 4161| 4040| 3389| 4106|\n",
      "|    WARN| 8217| 8266| 8165| 8277| 8403| 8191| 8222| 8381| 8352| 8226| 6616| 8328|\n",
      "|   DEBUG|41961|41734|41652|41869|41785|41774|42085|42147|41433|41936|33366|41749|\n",
      "|   FATAL|   94|   72|   70|   83|   60|   78|   98|   80|   81|   92|16797|   94|\n",
      "+--------+-----+-----+-----+-----+-----+-----+-----+-----+-----+-----+-----+-----+\n",
      "\n"
     ]
    }
   ],
   "source": [
    "spark.sql(\"\"\"select loglevel, date_format(logtime, 'MM') AS MONTH\n",
    "FROM serverlog\"\"\").groupBy('loglevel').pivot('month').count().show()\n",
    "#groupby as row, pivot as column"
   ]
  },
  {
   "cell_type": "code",
   "execution_count": 78,
   "id": "aa8c9f93",
   "metadata": {},
   "outputs": [],
   "source": [
    "months_list = [\n",
    "    \"January\",\n",
    "    \"February\",\n",
    "    \"March\",\n",
    "    \"April\",\n",
    "    \"May\",\n",
    "    \"June\",\n",
    "    \"July\",\n",
    "    \"August\",\n",
    "    \"September\",\n",
    "    \"October\",\n",
    "    \"November\",\n",
    "    \"December\"\n",
    "]\n"
   ]
  },
  {
   "cell_type": "code",
   "execution_count": 81,
   "id": "18473a36",
   "metadata": {},
   "outputs": [
    {
     "name": "stdout",
     "output_type": "stream",
     "text": [
      "+--------+-------+--------+-----+-----+-----+-----+-----+------+---------+-------+--------+--------+\n",
      "|loglevel|January|February|March|April|  May| June| July|August|September|October|November|December|\n",
      "+--------+-------+--------+-----+-----+-----+-----+-----+------+---------+-------+--------+--------+\n",
      "|    INFO|  29119|   28983|29095|29302|28900|29143|29300| 28993|    29038|  29018|   23301|   28874|\n",
      "|   ERROR|   4054|    4013| 4122| 4107| 4086| 4059| 3976|  3987|     4161|   4040|    3389|    4106|\n",
      "|    WARN|   8217|    8266| 8165| 8277| 8403| 8191| 8222|  8381|     8352|   8226|    6616|    8328|\n",
      "|   FATAL|     94|      72|   70|   83|   60|   78|   98|    80|       81|     92|   16797|      94|\n",
      "|   DEBUG|  41961|   41734|41652|41869|41785|41774|42085| 42147|    41433|  41936|   33366|   41749|\n",
      "+--------+-------+--------+-----+-----+-----+-----+-----+------+---------+-------+--------+--------+\n",
      "\n"
     ]
    }
   ],
   "source": [
    "spark.sql(\"\"\"select loglevel, date_format(logtime, 'MMMM') AS MONTH\n",
    "FROM serverlog\"\"\").groupBy('loglevel').pivot('month',months_list).count().show()\n",
    "#optimization: define a piviot list"
   ]
  },
  {
   "cell_type": "code",
   "execution_count": null,
   "id": "7f4e792a",
   "metadata": {},
   "outputs": [],
   "source": []
  }
 ],
 "metadata": {
  "kernelspec": {
   "display_name": "Pyspark 2",
   "language": "python",
   "name": "pyspark2"
  },
  "language_info": {
   "codemirror_mode": {
    "name": "ipython",
    "version": 3
   },
   "file_extension": ".py",
   "mimetype": "text/x-python",
   "name": "python",
   "nbconvert_exporter": "python",
   "pygments_lexer": "ipython3",
   "version": "3.6.12"
  }
 },
 "nbformat": 4,
 "nbformat_minor": 5
}
