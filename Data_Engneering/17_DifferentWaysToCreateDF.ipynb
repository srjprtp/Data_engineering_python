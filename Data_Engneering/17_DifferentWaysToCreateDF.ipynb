{
 "cells": [
  {
   "cell_type": "code",
   "execution_count": 1,
   "id": "fce8531d",
   "metadata": {},
   "outputs": [],
   "source": [
    "from pyspark.sql import SparkSession\n",
    "import getpass\n",
    "username = getpass.getuser()\n",
    "spark = SparkSession. \\\n",
    "builder. \\\n",
    "config('spark.ui.port','0'). \\\n",
    "config(\"spark.sql.warehouse.dir\", f\"/user/itv020649/warehouse\"). \\\n",
    "enableHiveSupport(). \\\n",
    "master('yarn'). \\\n",
    "getOrCreate()"
   ]
  },
  {
   "cell_type": "code",
   "execution_count": 2,
   "id": "fca2a4f0",
   "metadata": {},
   "outputs": [
    {
     "data": {
      "text/html": [
       "\n",
       "            <div>\n",
       "                <p><b>SparkSession - hive</b></p>\n",
       "                \n",
       "        <div>\n",
       "            <p><b>SparkContext</b></p>\n",
       "\n",
       "            <p><a href=\"http://g01.itversity.com:35907\">Spark UI</a></p>\n",
       "\n",
       "            <dl>\n",
       "              <dt>Version</dt>\n",
       "                <dd><code>v3.1.2</code></dd>\n",
       "              <dt>Master</dt>\n",
       "                <dd><code>yarn</code></dd>\n",
       "              <dt>AppName</dt>\n",
       "                <dd><code>pyspark-shell</code></dd>\n",
       "            </dl>\n",
       "        </div>\n",
       "        \n",
       "            </div>\n",
       "        "
      ],
      "text/plain": [
       "<pyspark.sql.session.SparkSession at 0x7f553c813400>"
      ]
     },
     "execution_count": 2,
     "metadata": {},
     "output_type": "execute_result"
    }
   ],
   "source": [
    "spark"
   ]
  },
  {
   "cell_type": "code",
   "execution_count": 3,
   "id": "c43464a6",
   "metadata": {},
   "outputs": [],
   "source": [
    "order_schema = 'order_id long,order_date date,cust_id long,order_status string'"
   ]
  },
  {
   "cell_type": "code",
   "execution_count": 4,
   "id": "6f985450",
   "metadata": {},
   "outputs": [],
   "source": [
    "df = spark.read \\\n",
    ".format(\"csv\") \\\n",
    ".schema(order_schema) \\\n",
    ".option(\"dateFormat\",\"mm-dd-yyyy\") \\\n",
    ".load(\"/public/trendytech/datasets/orders_sample2.csv\")"
   ]
  },
  {
   "cell_type": "code",
   "execution_count": 5,
   "id": "a8bf7650",
   "metadata": {},
   "outputs": [
    {
     "name": "stdout",
     "output_type": "stream",
     "text": [
      "+--------+----------+-------+---------------+\n",
      "|order_id|order_date|cust_id|   order_status|\n",
      "+--------+----------+-------+---------------+\n",
      "|       1|2013-01-25|  11599|         CLOSED|\n",
      "|       2|2013-01-25|    256|PENDING_PAYMENT|\n",
      "|       3|2013-01-25|  12111|       COMPLETE|\n",
      "|       4|2013-01-25|   8827|         CLOSED|\n",
      "|       5|2013-01-25|  11318|       COMPLETE|\n",
      "|       6|2013-01-25|   7130|       COMPLETE|\n",
      "|       7|2013-01-25|   4530|       COMPLETE|\n",
      "|       8|2013-01-25|   2911|     PROCESSING|\n",
      "|       9|2013-01-25|   5657|PENDING_PAYMENT|\n",
      "|      10|2013-01-25|   5648|PENDING_PAYMENT|\n",
      "+--------+----------+-------+---------------+\n",
      "\n"
     ]
    }
   ],
   "source": [
    "df.show()"
   ]
  },
  {
   "cell_type": "markdown",
   "id": "a9d0be0f",
   "metadata": {},
   "source": [
    "#### ways to create DF"
   ]
  },
  {
   "cell_type": "markdown",
   "id": "4cfe899c",
   "metadata": {},
   "source": [
    "spark.read spark.sql() spark.table() spark.range()"
   ]
  },
  {
   "cell_type": "code",
   "execution_count": 6,
   "id": "db0ac01e",
   "metadata": {},
   "outputs": [
    {
     "data": {
      "text/html": [
       "<table border='1'>\n",
       "<tr><th>namespace</th></tr>\n",
       "<tr><td>sukum16_retail</td></tr>\n",
       "</table>\n"
      ],
      "text/plain": [
       "+--------------+\n",
       "|     namespace|\n",
       "+--------------+\n",
       "|sukum16_retail|\n",
       "+--------------+"
      ]
     },
     "execution_count": 6,
     "metadata": {},
     "output_type": "execute_result"
    }
   ],
   "source": [
    "spark.sql(\"show databases\").filter(\"namespace like '%sukum16%'\")"
   ]
  },
  {
   "cell_type": "code",
   "execution_count": 7,
   "id": "d2078468",
   "metadata": {},
   "outputs": [
    {
     "data": {
      "text/html": [
       "<table border='1'>\n",
       "<tr><th></th></tr>\n",
       "</table>\n"
      ],
      "text/plain": [
       "++\n",
       "||\n",
       "++\n",
       "++"
      ]
     },
     "execution_count": 7,
     "metadata": {},
     "output_type": "execute_result"
    }
   ],
   "source": [
    "spark.sql(\"use sukum16_retail\")"
   ]
  },
  {
   "cell_type": "code",
   "execution_count": 8,
   "id": "ed25ec9e",
   "metadata": {},
   "outputs": [
    {
     "data": {
      "text/html": [
       "<table border='1'>\n",
       "<tr><th>database</th><th>tableName</th><th>isTemporary</th></tr>\n",
       "<tr><td>sukum16_retail</td><td>orders</td><td>false</td></tr>\n",
       "<tr><td>sukum16_retail</td><td>orders_ext</td><td>false</td></tr>\n",
       "</table>\n"
      ],
      "text/plain": [
       "+--------------+----------+-----------+\n",
       "|      database| tableName|isTemporary|\n",
       "+--------------+----------+-----------+\n",
       "|sukum16_retail|    orders|      false|\n",
       "|sukum16_retail|orders_ext|      false|\n",
       "+--------------+----------+-----------+"
      ]
     },
     "execution_count": 8,
     "metadata": {},
     "output_type": "execute_result"
    }
   ],
   "source": [
    "spark.sql(\"show tables\")"
   ]
  },
  {
   "cell_type": "code",
   "execution_count": 9,
   "id": "3bd72048",
   "metadata": {},
   "outputs": [],
   "source": [
    "df = spark.sql(\"select * from orders\")"
   ]
  },
  {
   "cell_type": "code",
   "execution_count": 10,
   "id": "63f087e1",
   "metadata": {},
   "outputs": [
    {
     "name": "stdout",
     "output_type": "stream",
     "text": [
      "+--------+--------------------+-----------+---------------+\n",
      "|order_id|          order_date|customer_id|   order_status|\n",
      "+--------+--------------------+-----------+---------------+\n",
      "|       1|2013-07-25 00:00:...|      11599|         CLOSED|\n",
      "|       2|2013-07-25 00:00:...|        256|PENDING_PAYMENT|\n",
      "|       3|2013-07-25 00:00:...|      12111|       COMPLETE|\n",
      "|       4|2013-07-25 00:00:...|       8827|         CLOSED|\n",
      "|       5|2013-07-25 00:00:...|      11318|       COMPLETE|\n",
      "|       6|2013-07-25 00:00:...|       7130|       COMPLETE|\n",
      "|       7|2013-07-25 00:00:...|       4530|       COMPLETE|\n",
      "|       8|2013-07-25 00:00:...|       2911|     PROCESSING|\n",
      "|       9|2013-07-25 00:00:...|       5657|PENDING_PAYMENT|\n",
      "|      10|2013-07-25 00:00:...|       5648|PENDING_PAYMENT|\n",
      "|      11|2013-07-25 00:00:...|        918| PAYMENT_REVIEW|\n",
      "|      12|2013-07-25 00:00:...|       1837|         CLOSED|\n",
      "|      13|2013-07-25 00:00:...|       9149|PENDING_PAYMENT|\n",
      "|      14|2013-07-25 00:00:...|       9842|     PROCESSING|\n",
      "|      15|2013-07-25 00:00:...|       2568|       COMPLETE|\n",
      "|      16|2013-07-25 00:00:...|       7276|PENDING_PAYMENT|\n",
      "|      17|2013-07-25 00:00:...|       2667|       COMPLETE|\n",
      "|      18|2013-07-25 00:00:...|       1205|         CLOSED|\n",
      "|      19|2013-07-25 00:00:...|       9488|PENDING_PAYMENT|\n",
      "|      20|2013-07-25 00:00:...|       9198|     PROCESSING|\n",
      "+--------+--------------------+-----------+---------------+\n",
      "only showing top 20 rows\n",
      "\n"
     ]
    }
   ],
   "source": [
    "df.show()"
   ]
  },
  {
   "cell_type": "code",
   "execution_count": 11,
   "id": "afeab4f2",
   "metadata": {},
   "outputs": [
    {
     "data": {
      "text/html": [
       "<table border='1'>\n",
       "<tr><th>order_id</th><th>order_date</th><th>customer_id</th><th>order_status</th></tr>\n",
       "<tr><td>1</td><td>2013-07-25 00:00:...</td><td>11599</td><td>CLOSED</td></tr>\n",
       "<tr><td>2</td><td>2013-07-25 00:00:...</td><td>256</td><td>PENDING_PAYMENT</td></tr>\n",
       "<tr><td>3</td><td>2013-07-25 00:00:...</td><td>12111</td><td>COMPLETE</td></tr>\n",
       "<tr><td>4</td><td>2013-07-25 00:00:...</td><td>8827</td><td>CLOSED</td></tr>\n",
       "<tr><td>5</td><td>2013-07-25 00:00:...</td><td>11318</td><td>COMPLETE</td></tr>\n",
       "<tr><td>6</td><td>2013-07-25 00:00:...</td><td>7130</td><td>COMPLETE</td></tr>\n",
       "<tr><td>7</td><td>2013-07-25 00:00:...</td><td>4530</td><td>COMPLETE</td></tr>\n",
       "<tr><td>8</td><td>2013-07-25 00:00:...</td><td>2911</td><td>PROCESSING</td></tr>\n",
       "<tr><td>9</td><td>2013-07-25 00:00:...</td><td>5657</td><td>PENDING_PAYMENT</td></tr>\n",
       "<tr><td>10</td><td>2013-07-25 00:00:...</td><td>5648</td><td>PENDING_PAYMENT</td></tr>\n",
       "<tr><td>11</td><td>2013-07-25 00:00:...</td><td>918</td><td>PAYMENT_REVIEW</td></tr>\n",
       "<tr><td>12</td><td>2013-07-25 00:00:...</td><td>1837</td><td>CLOSED</td></tr>\n",
       "<tr><td>13</td><td>2013-07-25 00:00:...</td><td>9149</td><td>PENDING_PAYMENT</td></tr>\n",
       "<tr><td>14</td><td>2013-07-25 00:00:...</td><td>9842</td><td>PROCESSING</td></tr>\n",
       "<tr><td>15</td><td>2013-07-25 00:00:...</td><td>2568</td><td>COMPLETE</td></tr>\n",
       "<tr><td>16</td><td>2013-07-25 00:00:...</td><td>7276</td><td>PENDING_PAYMENT</td></tr>\n",
       "<tr><td>17</td><td>2013-07-25 00:00:...</td><td>2667</td><td>COMPLETE</td></tr>\n",
       "<tr><td>18</td><td>2013-07-25 00:00:...</td><td>1205</td><td>CLOSED</td></tr>\n",
       "<tr><td>19</td><td>2013-07-25 00:00:...</td><td>9488</td><td>PENDING_PAYMENT</td></tr>\n",
       "<tr><td>20</td><td>2013-07-25 00:00:...</td><td>9198</td><td>PROCESSING</td></tr>\n",
       "</table>\n",
       "only showing top 20 rows\n"
      ],
      "text/plain": [
       "+--------+--------------------+-----------+---------------+\n",
       "|order_id|          order_date|customer_id|   order_status|\n",
       "+--------+--------------------+-----------+---------------+\n",
       "|       1|2013-07-25 00:00:...|      11599|         CLOSED|\n",
       "|       2|2013-07-25 00:00:...|        256|PENDING_PAYMENT|\n",
       "|       3|2013-07-25 00:00:...|      12111|       COMPLETE|\n",
       "|       4|2013-07-25 00:00:...|       8827|         CLOSED|\n",
       "|       5|2013-07-25 00:00:...|      11318|       COMPLETE|\n",
       "|       6|2013-07-25 00:00:...|       7130|       COMPLETE|\n",
       "|       7|2013-07-25 00:00:...|       4530|       COMPLETE|\n",
       "|       8|2013-07-25 00:00:...|       2911|     PROCESSING|\n",
       "|       9|2013-07-25 00:00:...|       5657|PENDING_PAYMENT|\n",
       "|      10|2013-07-25 00:00:...|       5648|PENDING_PAYMENT|\n",
       "|      11|2013-07-25 00:00:...|        918| PAYMENT_REVIEW|\n",
       "|      12|2013-07-25 00:00:...|       1837|         CLOSED|\n",
       "|      13|2013-07-25 00:00:...|       9149|PENDING_PAYMENT|\n",
       "|      14|2013-07-25 00:00:...|       9842|     PROCESSING|\n",
       "|      15|2013-07-25 00:00:...|       2568|       COMPLETE|\n",
       "|      16|2013-07-25 00:00:...|       7276|PENDING_PAYMENT|\n",
       "|      17|2013-07-25 00:00:...|       2667|       COMPLETE|\n",
       "|      18|2013-07-25 00:00:...|       1205|         CLOSED|\n",
       "|      19|2013-07-25 00:00:...|       9488|PENDING_PAYMENT|\n",
       "|      20|2013-07-25 00:00:...|       9198|     PROCESSING|\n",
       "+--------+--------------------+-----------+---------------+\n",
       "only showing top 20 rows"
      ]
     },
     "execution_count": 11,
     "metadata": {},
     "output_type": "execute_result"
    }
   ],
   "source": [
    "spark.table(\"sukum16_retail.orders\")"
   ]
  },
  {
   "cell_type": "code",
   "execution_count": 12,
   "id": "7865857d",
   "metadata": {},
   "outputs": [
    {
     "data": {
      "text/html": [
       "<table border='1'>\n",
       "<tr><th>id</th></tr>\n",
       "<tr><td>0</td></tr>\n",
       "<tr><td>1</td></tr>\n",
       "<tr><td>2</td></tr>\n",
       "<tr><td>3</td></tr>\n",
       "<tr><td>4</td></tr>\n",
       "</table>\n"
      ],
      "text/plain": [
       "+---+\n",
       "| id|\n",
       "+---+\n",
       "|  0|\n",
       "|  1|\n",
       "|  2|\n",
       "|  3|\n",
       "|  4|\n",
       "+---+"
      ]
     },
     "execution_count": 12,
     "metadata": {},
     "output_type": "execute_result"
    }
   ],
   "source": [
    "spark.range(5)"
   ]
  },
  {
   "cell_type": "code",
   "execution_count": 13,
   "id": "90273c57",
   "metadata": {},
   "outputs": [
    {
     "data": {
      "text/html": [
       "<table border='1'>\n",
       "<tr><th>id</th></tr>\n",
       "<tr><td>0</td></tr>\n",
       "<tr><td>2</td></tr>\n",
       "<tr><td>4</td></tr>\n",
       "<tr><td>6</td></tr>\n",
       "</table>\n"
      ],
      "text/plain": [
       "+---+\n",
       "| id|\n",
       "+---+\n",
       "|  0|\n",
       "|  2|\n",
       "|  4|\n",
       "|  6|\n",
       "+---+"
      ]
     },
     "execution_count": 13,
     "metadata": {},
     "output_type": "execute_result"
    }
   ],
   "source": [
    "spark.range(0,8)\n",
    "spark.range(0,8,2)"
   ]
  },
  {
   "cell_type": "markdown",
   "id": "06933b77",
   "metadata": {},
   "source": [
    "to create a (mostly dummy)data frame from local list\n",
    "spark.createDataFrame(list)\n",
    "like to create a rdd from local list\n",
    "spark.sparkContext.parallelize(list)\n",
    "[]--list\n",
    "()--tuple\n",
    "like:\n",
    "[(),\n",
    "(),\n",
    "()]\n",
    "\n",
    "distrubting and structuring"
   ]
  },
  {
   "cell_type": "code",
   "execution_count": 14,
   "id": "76d394af",
   "metadata": {},
   "outputs": [
    {
     "name": "stdout",
     "output_type": "stream",
     "text": [
      "1,2013-07-25 00:00:00.0,11599,CLOSED\n",
      "2,2013-07-25 00:00:00.0,256,PENDING_PAYMENT\n",
      "3,2013-07-25 00:00:00.0,12111,COMPLETE\n",
      "4,2013-07-25 00:00:00.0,8827,CLOSED\n",
      "5,2013-07-25 00:00:00.0,11318,COMPLETE\n",
      "6,2013-07-25 00:00:00.0,7130,COMPLETE\n",
      "7,2013-07-25 00:00:00.0,4530,COMPLETE\n",
      "8,2013-07-25 00:00:00.0,2911,PROCESSING\n",
      "9,2013-07-25 00:00:00.0,5657,PENDING_PAYMENT\n",
      "10,2013-07-25 00:00:00.0,5648,PENDING_PAYMENT\n",
      "cat: Unable to write to output stream.\n"
     ]
    }
   ],
   "source": [
    "! hadoop fs -cat /public/trendytech/retail_db/orders/part-00000 |head\n",
    "#spark.createDataFrame"
   ]
  },
  {
   "cell_type": "code",
   "execution_count": 15,
   "id": "00c808e6",
   "metadata": {},
   "outputs": [],
   "source": [
    "orders_list = [(1,'2013-07-25 00:00:00.0',11599,'CLOSED'),\n",
    "(2,'2013-07-25 00:00:00.0',256,'PENDING_PAYMENT'),\n",
    "(3,'2013-07-25 00:00:00.0',12111,'COMPLETE')]"
   ]
  },
  {
   "cell_type": "code",
   "execution_count": 16,
   "id": "5d5df7a3",
   "metadata": {},
   "outputs": [],
   "source": [
    "orders_raw_df = spark.createDataFrame(orders_list)"
   ]
  },
  {
   "cell_type": "code",
   "execution_count": 17,
   "id": "7f35ac9b",
   "metadata": {},
   "outputs": [
    {
     "name": "stdout",
     "output_type": "stream",
     "text": [
      "+---+--------------------+-----+---------------+\n",
      "| _1|                  _2|   _3|             _4|\n",
      "+---+--------------------+-----+---------------+\n",
      "|  1|2013-07-25 00:00:...|11599|         CLOSED|\n",
      "|  2|2013-07-25 00:00:...|  256|PENDING_PAYMENT|\n",
      "|  3|2013-07-25 00:00:...|12111|       COMPLETE|\n",
      "+---+--------------------+-----+---------------+\n",
      "\n"
     ]
    }
   ],
   "source": [
    "orders_raw_df.show()"
   ]
  },
  {
   "cell_type": "code",
   "execution_count": 18,
   "id": "edd98a3a",
   "metadata": {},
   "outputs": [
    {
     "name": "stdout",
     "output_type": "stream",
     "text": [
      "root\n",
      " |-- _1: long (nullable = true)\n",
      " |-- _2: string (nullable = true)\n",
      " |-- _3: long (nullable = true)\n",
      " |-- _4: string (nullable = true)\n",
      "\n"
     ]
    }
   ],
   "source": [
    "orders_raw_df.printSchema()"
   ]
  },
  {
   "cell_type": "markdown",
   "id": "e274ff0f",
   "metadata": {},
   "source": [
    "how to fix the column names and how to inforce schema/datatype"
   ]
  },
  {
   "cell_type": "code",
   "execution_count": 19,
   "id": "2bc2f75b",
   "metadata": {},
   "outputs": [],
   "source": [
    "orders_raw_df = spark.createDataFrame(orders_list)"
   ]
  },
  {
   "cell_type": "code",
   "execution_count": 20,
   "id": "d3cf5d5b",
   "metadata": {},
   "outputs": [],
   "source": [
    "orders_df = orders_raw_df.toDF('order_id','order_date','customer_id','order_status')"
   ]
  },
  {
   "cell_type": "code",
   "execution_count": 21,
   "id": "812cf310",
   "metadata": {},
   "outputs": [
    {
     "name": "stdout",
     "output_type": "stream",
     "text": [
      "+--------+--------------------+-----------+---------------+\n",
      "|order_id|          order_date|customer_id|   order_status|\n",
      "+--------+--------------------+-----------+---------------+\n",
      "|       1|2013-07-25 00:00:...|      11599|         CLOSED|\n",
      "|       2|2013-07-25 00:00:...|        256|PENDING_PAYMENT|\n",
      "|       3|2013-07-25 00:00:...|      12111|       COMPLETE|\n",
      "+--------+--------------------+-----------+---------------+\n",
      "\n"
     ]
    }
   ],
   "source": [
    "orders_df.show()"
   ]
  },
  {
   "cell_type": "code",
   "execution_count": 22,
   "id": "0f514b31",
   "metadata": {},
   "outputs": [],
   "source": [
    "orders_schema = [\"order_id\",\"order_date\",\"customer_id\",\"order_status\"]"
   ]
  },
  {
   "cell_type": "code",
   "execution_count": 23,
   "id": "e7ca778c",
   "metadata": {},
   "outputs": [],
   "source": [
    "orders_raw_df = spark.createDataFrame(orders_list,orders_schema)"
   ]
  },
  {
   "cell_type": "code",
   "execution_count": 24,
   "id": "ea0055b5",
   "metadata": {},
   "outputs": [
    {
     "name": "stdout",
     "output_type": "stream",
     "text": [
      "+--------+--------------------+-----------+---------------+\n",
      "|order_id|          order_date|customer_id|   order_status|\n",
      "+--------+--------------------+-----------+---------------+\n",
      "|       1|2013-07-25 00:00:...|      11599|         CLOSED|\n",
      "|       2|2013-07-25 00:00:...|        256|PENDING_PAYMENT|\n",
      "|       3|2013-07-25 00:00:...|      12111|       COMPLETE|\n",
      "+--------+--------------------+-----------+---------------+\n",
      "\n"
     ]
    }
   ],
   "source": [
    "orders_raw_df.show()"
   ]
  },
  {
   "cell_type": "code",
   "execution_count": 25,
   "id": "4c25b036",
   "metadata": {},
   "outputs": [
    {
     "name": "stdout",
     "output_type": "stream",
     "text": [
      "root\n",
      " |-- order_id: long (nullable = true)\n",
      " |-- order_date: string (nullable = true)\n",
      " |-- customer_id: long (nullable = true)\n",
      " |-- order_status: string (nullable = true)\n",
      "\n"
     ]
    }
   ],
   "source": [
    "orders_raw_df.printSchema()"
   ]
  },
  {
   "cell_type": "code",
   "execution_count": 26,
   "id": "c99c6b51",
   "metadata": {},
   "outputs": [],
   "source": [
    "order_schema = 'order_id string,order_date string,cust_id int,order_status string'"
   ]
  },
  {
   "cell_type": "code",
   "execution_count": 27,
   "id": "3b4593f4",
   "metadata": {},
   "outputs": [],
   "source": [
    "orders_raw_df = spark.createDataFrame(orders_list,orders_schema)"
   ]
  },
  {
   "cell_type": "code",
   "execution_count": 28,
   "id": "ac0a4c8d",
   "metadata": {},
   "outputs": [
    {
     "name": "stdout",
     "output_type": "stream",
     "text": [
      "root\n",
      " |-- order_id: long (nullable = true)\n",
      " |-- order_date: string (nullable = true)\n",
      " |-- customer_id: long (nullable = true)\n",
      " |-- order_status: string (nullable = true)\n",
      "\n"
     ]
    }
   ],
   "source": [
    "orders_raw_df.printSchema()"
   ]
  },
  {
   "cell_type": "code",
   "execution_count": 29,
   "id": "3d1f25d4",
   "metadata": {},
   "outputs": [
    {
     "name": "stdout",
     "output_type": "stream",
     "text": [
      "+--------+--------------------+-----------+---------------+\n",
      "|order_id|          order_date|customer_id|   order_status|\n",
      "+--------+--------------------+-----------+---------------+\n",
      "|       1|2013-07-25 00:00:...|      11599|         CLOSED|\n",
      "|       2|2013-07-25 00:00:...|        256|PENDING_PAYMENT|\n",
      "|       3|2013-07-25 00:00:...|      12111|       COMPLETE|\n",
      "+--------+--------------------+-----------+---------------+\n",
      "\n"
     ]
    }
   ],
   "source": [
    "orders_raw_df.show()"
   ]
  },
  {
   "cell_type": "code",
   "execution_count": 30,
   "id": "efef50f7",
   "metadata": {},
   "outputs": [],
   "source": [
    "from pyspark.sql.functions import to_timestamp"
   ]
  },
  {
   "cell_type": "code",
   "execution_count": 31,
   "id": "f5c8816f",
   "metadata": {},
   "outputs": [],
   "source": [
    "df = orders_raw_df.withColumn(\"order_date\",to_timestamp('order_date'))"
   ]
  },
  {
   "cell_type": "code",
   "execution_count": 32,
   "id": "9cefd0b1",
   "metadata": {},
   "outputs": [
    {
     "name": "stdout",
     "output_type": "stream",
     "text": [
      "+--------+-------------------+-----------+---------------+\n",
      "|order_id|         order_date|customer_id|   order_status|\n",
      "+--------+-------------------+-----------+---------------+\n",
      "|       1|2013-07-25 00:00:00|      11599|         CLOSED|\n",
      "|       2|2013-07-25 00:00:00|        256|PENDING_PAYMENT|\n",
      "|       3|2013-07-25 00:00:00|      12111|       COMPLETE|\n",
      "+--------+-------------------+-----------+---------------+\n",
      "\n"
     ]
    }
   ],
   "source": [
    "df.show()"
   ]
  },
  {
   "cell_type": "code",
   "execution_count": 33,
   "id": "50f2f690",
   "metadata": {},
   "outputs": [
    {
     "name": "stdout",
     "output_type": "stream",
     "text": [
      "root\n",
      " |-- order_id: long (nullable = true)\n",
      " |-- order_date: timestamp (nullable = true)\n",
      " |-- customer_id: long (nullable = true)\n",
      " |-- order_status: string (nullable = true)\n",
      "\n"
     ]
    }
   ],
   "source": [
    "df.printSchema()"
   ]
  },
  {
   "cell_type": "markdown",
   "id": "6ab7a75e",
   "metadata": {},
   "source": [
    "### Converting RDD to data Frame\n",
    "\n",
    "RDD already distrubted we are now structuring"
   ]
  },
  {
   "cell_type": "code",
   "execution_count": 34,
   "id": "2860c5fd",
   "metadata": {},
   "outputs": [],
   "source": [
    "orderRdd = spark.sparkContext.textFile(\"/public/trendytech/orders/orders.csv\")"
   ]
  },
  {
   "cell_type": "code",
   "execution_count": 35,
   "id": "1b62e15e",
   "metadata": {},
   "outputs": [
    {
     "data": {
      "text/plain": [
       "['1,2013-07-25 00:00:00.0,11599,CLOSED',\n",
       " '2,2013-07-25 00:00:00.0,256,PENDING_PAYMENT',\n",
       " '3,2013-07-25 00:00:00.0,12111,COMPLETE',\n",
       " '4,2013-07-25 00:00:00.0,8827,CLOSED',\n",
       " '5,2013-07-25 00:00:00.0,11318,COMPLETE']"
      ]
     },
     "execution_count": 35,
     "metadata": {},
     "output_type": "execute_result"
    }
   ],
   "source": [
    "orderRdd.take(5)"
   ]
  },
  {
   "cell_type": "code",
   "execution_count": 36,
   "id": "b12410a7",
   "metadata": {},
   "outputs": [],
   "source": [
    "new_orderRdd = orderRdd.map(lambda x: (int(x.split(\",\")[0]),x.split(\",\")[1],int(x.split(\",\")[2]),x.split(\",\")[3]))"
   ]
  },
  {
   "cell_type": "code",
   "execution_count": 37,
   "id": "fc8f4582",
   "metadata": {},
   "outputs": [
    {
     "data": {
      "text/plain": [
       "[(1, '2013-07-25 00:00:00.0', 11599, 'CLOSED'),\n",
       " (2, '2013-07-25 00:00:00.0', 256, 'PENDING_PAYMENT'),\n",
       " (3, '2013-07-25 00:00:00.0', 12111, 'COMPLETE'),\n",
       " (4, '2013-07-25 00:00:00.0', 8827, 'CLOSED'),\n",
       " (5, '2013-07-25 00:00:00.0', 11318, 'COMPLETE')]"
      ]
     },
     "execution_count": 37,
     "metadata": {},
     "output_type": "execute_result"
    }
   ],
   "source": [
    "new_orderRdd.take(5)"
   ]
  },
  {
   "cell_type": "code",
   "execution_count": 38,
   "id": "b126cb40",
   "metadata": {},
   "outputs": [],
   "source": [
    "order_schema = 'order_id string,order_date string,cust_id int,order_status string'"
   ]
  },
  {
   "cell_type": "code",
   "execution_count": 39,
   "id": "c44563aa",
   "metadata": {},
   "outputs": [],
   "source": [
    "df = spark.createDataFrame(new_orderRdd,order_schema)"
   ]
  },
  {
   "cell_type": "code",
   "execution_count": 40,
   "id": "da0d6b21",
   "metadata": {},
   "outputs": [
    {
     "name": "stdout",
     "output_type": "stream",
     "text": [
      "+--------+--------------------+-------+---------------+\n",
      "|order_id|          order_date|cust_id|   order_status|\n",
      "+--------+--------------------+-------+---------------+\n",
      "|       1|2013-07-25 00:00:...|  11599|         CLOSED|\n",
      "|       2|2013-07-25 00:00:...|    256|PENDING_PAYMENT|\n",
      "|       3|2013-07-25 00:00:...|  12111|       COMPLETE|\n",
      "|       4|2013-07-25 00:00:...|   8827|         CLOSED|\n",
      "|       5|2013-07-25 00:00:...|  11318|       COMPLETE|\n",
      "|       6|2013-07-25 00:00:...|   7130|       COMPLETE|\n",
      "|       7|2013-07-25 00:00:...|   4530|       COMPLETE|\n",
      "|       8|2013-07-25 00:00:...|   2911|     PROCESSING|\n",
      "|       9|2013-07-25 00:00:...|   5657|PENDING_PAYMENT|\n",
      "|      10|2013-07-25 00:00:...|   5648|PENDING_PAYMENT|\n",
      "|      11|2013-07-25 00:00:...|    918| PAYMENT_REVIEW|\n",
      "|      12|2013-07-25 00:00:...|   1837|         CLOSED|\n",
      "|      13|2013-07-25 00:00:...|   9149|PENDING_PAYMENT|\n",
      "|      14|2013-07-25 00:00:...|   9842|     PROCESSING|\n",
      "|      15|2013-07-25 00:00:...|   2568|       COMPLETE|\n",
      "|      16|2013-07-25 00:00:...|   7276|PENDING_PAYMENT|\n",
      "|      17|2013-07-25 00:00:...|   2667|       COMPLETE|\n",
      "|      18|2013-07-25 00:00:...|   1205|         CLOSED|\n",
      "|      19|2013-07-25 00:00:...|   9488|PENDING_PAYMENT|\n",
      "|      20|2013-07-25 00:00:...|   9198|     PROCESSING|\n",
      "+--------+--------------------+-------+---------------+\n",
      "only showing top 20 rows\n",
      "\n"
     ]
    }
   ],
   "source": [
    "df.show()"
   ]
  },
  {
   "cell_type": "code",
   "execution_count": 41,
   "id": "b57a2766",
   "metadata": {},
   "outputs": [
    {
     "name": "stdout",
     "output_type": "stream",
     "text": [
      "root\n",
      " |-- order_id: string (nullable = true)\n",
      " |-- order_date: string (nullable = true)\n",
      " |-- cust_id: integer (nullable = true)\n",
      " |-- order_status: string (nullable = true)\n",
      "\n"
     ]
    }
   ],
   "source": [
    "df.printSchema()"
   ]
  },
  {
   "cell_type": "code",
   "execution_count": 42,
   "id": "d7ac6ce1",
   "metadata": {},
   "outputs": [],
   "source": [
    "df1 = new_orderRdd.toDF(order_schema)"
   ]
  },
  {
   "cell_type": "code",
   "execution_count": 43,
   "id": "1f954a71",
   "metadata": {},
   "outputs": [
    {
     "name": "stdout",
     "output_type": "stream",
     "text": [
      "root\n",
      " |-- order_id: string (nullable = true)\n",
      " |-- order_date: string (nullable = true)\n",
      " |-- cust_id: integer (nullable = true)\n",
      " |-- order_status: string (nullable = true)\n",
      "\n"
     ]
    }
   ],
   "source": [
    "df1.printSchema()"
   ]
  },
  {
   "cell_type": "markdown",
   "id": "d5a022cb",
   "metadata": {},
   "source": [
    "### Nested Schema"
   ]
  },
  {
   "cell_type": "code",
   "execution_count": 44,
   "id": "b6e54355",
   "metadata": {},
   "outputs": [
    {
     "name": "stdout",
     "output_type": "stream",
     "text": [
      "Found 3 items\n",
      "-rw-r--r--   3 itv005857 supergroup          0 2023-05-18 17:40 /public/trendytech/datasets/customer_nested/_SUCCESS\n",
      "-rw-r--r--   3 itv005857 supergroup         90 2023-05-18 17:40 /public/trendytech/datasets/customer_nested/part-00000-950ffc21-f8aa-4e00-8181-8ab726051097-c000.json\n",
      "-rw-r--r--   3 itv005857 supergroup        173 2023-05-18 17:40 /public/trendytech/datasets/customer_nested/part-00001-950ffc21-f8aa-4e00-8181-8ab726051097-c000.json\n"
     ]
    }
   ],
   "source": [
    "! hadoop fs -ls /public/trendytech/datasets/customer_nested/"
   ]
  },
  {
   "cell_type": "code",
   "execution_count": 45,
   "id": "baa1ccff",
   "metadata": {},
   "outputs": [
    {
     "name": "stdout",
     "output_type": "stream",
     "text": [
      "{\"customer_id\":2,\"fullname\":{\"firstname\":\"ram\",\"lastname\":\"kumar\"},\"city\":\"hyderabad\"}\n",
      "{\"customer_id\":3,\"fullname\":{\"firstname\":\"vijay\",\"lastname\":\"shankar\"},\"city\":\"pune\"}\n"
     ]
    }
   ],
   "source": [
    "! hadoop fs -cat /public/trendytech/datasets/customer_nested/part-00001-950ffc21-f8aa-4e00-8181-8ab726051097-c000.json| head"
   ]
  },
  {
   "cell_type": "code",
   "execution_count": 46,
   "id": "80445260",
   "metadata": {},
   "outputs": [],
   "source": [
    "#schema DDL\n",
    "ddlSchema = \"customer_id long,fullname struct<firstname:string,lastname:string>,city string\"\n"
   ]
  },
  {
   "cell_type": "code",
   "execution_count": 47,
   "id": "b155bca6",
   "metadata": {},
   "outputs": [],
   "source": [
    "df = spark.read \\\n",
    ".format(\"json\") \\\n",
    ".schema(ddlSchema) \\\n",
    ".load(\"/public/trendytech/datasets/customer_nested\")"
   ]
  },
  {
   "cell_type": "code",
   "execution_count": 48,
   "id": "ee62f3ea",
   "metadata": {},
   "outputs": [
    {
     "name": "stdout",
     "output_type": "stream",
     "text": [
      "+-----------+----------------+---------+\n",
      "|customer_id|        fullname|     city|\n",
      "+-----------+----------------+---------+\n",
      "|          2|    {ram, kumar}|hyderabad|\n",
      "|          3|{vijay, shankar}|     pune|\n",
      "|          1| {sumit, mittal}|bangalore|\n",
      "+-----------+----------------+---------+\n",
      "\n"
     ]
    }
   ],
   "source": [
    "df.show()"
   ]
  },
  {
   "cell_type": "code",
   "execution_count": 49,
   "id": "049d1f4a",
   "metadata": {},
   "outputs": [],
   "source": [
    "from pyspark.sql.types import *"
   ]
  },
  {
   "cell_type": "code",
   "execution_count": 50,
   "id": "fe42e636",
   "metadata": {},
   "outputs": [],
   "source": [
    "#struct type\n",
    "customer_schema =StructType([\n",
    "    StructField(\"customer_id\",LongType()),\n",
    "    StructField(\"fullname\",StructType([StructField(\"firstname\",StringType()),StructField(\"lastname\",StringType())])),\n",
    "    StructField(\"city\",StringType())\n",
    "])"
   ]
  },
  {
   "cell_type": "code",
   "execution_count": 51,
   "id": "351b4d48",
   "metadata": {},
   "outputs": [],
   "source": [
    "df = spark.read \\\n",
    ".format(\"json\") \\\n",
    ".schema(customer_schema) \\\n",
    ".load(\"/public/trendytech/datasets/customer_nested/*\")"
   ]
  },
  {
   "cell_type": "code",
   "execution_count": 52,
   "id": "0fbf32df",
   "metadata": {},
   "outputs": [
    {
     "name": "stdout",
     "output_type": "stream",
     "text": [
      "+-----------+----------------+---------+\n",
      "|customer_id|        fullname|     city|\n",
      "+-----------+----------------+---------+\n",
      "|          2|    {ram, kumar}|hyderabad|\n",
      "|          3|{vijay, shankar}|     pune|\n",
      "|          1| {sumit, mittal}|bangalore|\n",
      "+-----------+----------------+---------+\n",
      "\n"
     ]
    }
   ],
   "source": [
    "df.show()"
   ]
  },
  {
   "cell_type": "code",
   "execution_count": 53,
   "id": "13fe9665",
   "metadata": {},
   "outputs": [
    {
     "name": "stdout",
     "output_type": "stream",
     "text": [
      "root\n",
      " |-- customer_id: long (nullable = true)\n",
      " |-- fullname: struct (nullable = true)\n",
      " |    |-- firstname: string (nullable = true)\n",
      " |    |-- lastname: string (nullable = true)\n",
      " |-- city: string (nullable = true)\n",
      "\n"
     ]
    }
   ],
   "source": [
    "df.printSchema()"
   ]
  },
  {
   "cell_type": "code",
   "execution_count": 54,
   "id": "05fc5830",
   "metadata": {},
   "outputs": [],
   "source": [
    "customer_list = [\n",
    "    (1,(\"suraj\",\"kumar\"),\"deoghar\"),\n",
    "    (2,(\"kunal\",\"kumar\"),\"gurugram\")]"
   ]
  },
  {
   "cell_type": "code",
   "execution_count": 55,
   "id": "922e37b2",
   "metadata": {},
   "outputs": [],
   "source": [
    "ddlSchema = \"customer_id long,fullname struct<firstname:string,lastname:string>,city string\"\n"
   ]
  },
  {
   "cell_type": "code",
   "execution_count": 56,
   "id": "2b001b6f",
   "metadata": {},
   "outputs": [],
   "source": [
    "df = spark.createDataFrame(customer_list,customer_schema)"
   ]
  },
  {
   "cell_type": "code",
   "execution_count": 57,
   "id": "b06bfe4e",
   "metadata": {},
   "outputs": [
    {
     "name": "stdout",
     "output_type": "stream",
     "text": [
      "+-----------+--------------+--------+\n",
      "|customer_id|      fullname|    city|\n",
      "+-----------+--------------+--------+\n",
      "|          1|{suraj, kumar}| deoghar|\n",
      "|          2|{kunal, kumar}|gurugram|\n",
      "+-----------+--------------+--------+\n",
      "\n"
     ]
    }
   ],
   "source": [
    "df.show()"
   ]
  },
  {
   "cell_type": "code",
   "execution_count": 58,
   "id": "8fbf9116",
   "metadata": {},
   "outputs": [
    {
     "name": "stdout",
     "output_type": "stream",
     "text": [
      "root\n",
      " |-- customer_id: long (nullable = true)\n",
      " |-- fullname: struct (nullable = true)\n",
      " |    |-- firstname: string (nullable = true)\n",
      " |    |-- lastname: string (nullable = true)\n",
      " |-- city: string (nullable = true)\n",
      "\n"
     ]
    }
   ],
   "source": [
    "df.printSchema()"
   ]
  },
  {
   "cell_type": "markdown",
   "id": "02f19a09",
   "metadata": {},
   "source": [
    "### Dataframe Transformations | select Vs selectExpr"
   ]
  },
  {
   "cell_type": "markdown",
   "id": "bd8f8ece",
   "metadata": {},
   "source": [
    "to add a column: withColumn\n",
    "\n",
    "to rename existing column: WithColumnRenamed\n",
    "\n",
    "to drop a column: drop\n",
    "\n",
    "select vs selectExpr"
   ]
  },
  {
   "cell_type": "code",
   "execution_count": 59,
   "id": "d78afa19",
   "metadata": {},
   "outputs": [],
   "source": [
    "raw_df = spark.read \\\n",
    ".format(\"csv\") \\\n",
    ".option(\"inferschema\",\"true\") \\\n",
    ".load(\"/public/trendytech/retail_db/order_items/part-00000\")"
   ]
  },
  {
   "cell_type": "code",
   "execution_count": 60,
   "id": "a7852879",
   "metadata": {},
   "outputs": [
    {
     "name": "stdout",
     "output_type": "stream",
     "text": [
      "1,1,957,1,299.98,299.98\n",
      "2,2,1073,1,199.99,199.99\n",
      "3,2,502,5,250.0,50.0\n",
      "4,2,403,1,129.99,129.99\n",
      "5,4,897,2,49.98,24.99\n",
      "6,4,365,5,299.95,59.99\n",
      "7,4,502,3,150.0,50.0\n",
      "8,4,1014,4,199.92,49.98\n",
      "9,5,957,1,299.98,299.98\n",
      "10,5,365,5,299.95,59.99\n",
      "cat: Unable to write to output stream.\n"
     ]
    }
   ],
   "source": [
    "! hadoop fs -cat /public/trendytech/retail_db/order_items/part-00000|head"
   ]
  },
  {
   "cell_type": "code",
   "execution_count": 61,
   "id": "a9d7f690",
   "metadata": {},
   "outputs": [
    {
     "name": "stdout",
     "output_type": "stream",
     "text": [
      "+---+---+----+---+------+------+\n",
      "|_c0|_c1| _c2|_c3|   _c4|   _c5|\n",
      "+---+---+----+---+------+------+\n",
      "|  1|  1| 957|  1|299.98|299.98|\n",
      "|  2|  2|1073|  1|199.99|199.99|\n",
      "|  3|  2| 502|  5| 250.0|  50.0|\n",
      "|  4|  2| 403|  1|129.99|129.99|\n",
      "|  5|  4| 897|  2| 49.98| 24.99|\n",
      "|  6|  4| 365|  5|299.95| 59.99|\n",
      "|  7|  4| 502|  3| 150.0|  50.0|\n",
      "|  8|  4|1014|  4|199.92| 49.98|\n",
      "|  9|  5| 957|  1|299.98|299.98|\n",
      "| 10|  5| 365|  5|299.95| 59.99|\n",
      "| 11|  5|1014|  2| 99.96| 49.98|\n",
      "| 12|  5| 957|  1|299.98|299.98|\n",
      "| 13|  5| 403|  1|129.99|129.99|\n",
      "| 14|  7|1073|  1|199.99|199.99|\n",
      "| 15|  7| 957|  1|299.98|299.98|\n",
      "| 16|  7| 926|  5| 79.95| 15.99|\n",
      "| 17|  8| 365|  3|179.97| 59.99|\n",
      "| 18|  8| 365|  5|299.95| 59.99|\n",
      "| 19|  8|1014|  4|199.92| 49.98|\n",
      "| 20|  8| 502|  1|  50.0|  50.0|\n",
      "+---+---+----+---+------+------+\n",
      "only showing top 20 rows\n",
      "\n"
     ]
    }
   ],
   "source": [
    "raw_df.show()"
   ]
  },
  {
   "cell_type": "code",
   "execution_count": 62,
   "id": "1e7e21e7",
   "metadata": {},
   "outputs": [
    {
     "name": "stdout",
     "output_type": "stream",
     "text": [
      "root\n",
      " |-- _c0: integer (nullable = true)\n",
      " |-- _c1: integer (nullable = true)\n",
      " |-- _c2: integer (nullable = true)\n",
      " |-- _c3: integer (nullable = true)\n",
      " |-- _c4: double (nullable = true)\n",
      " |-- _c5: double (nullable = true)\n",
      "\n"
     ]
    }
   ],
   "source": [
    "raw_df.printSchema()"
   ]
  },
  {
   "cell_type": "code",
   "execution_count": 63,
   "id": "210803db",
   "metadata": {},
   "outputs": [],
   "source": [
    "refined_df = raw_df.toDF(\"order_item_id\",\"order_id\",\"product_id\",\"quantity\",\"subtotal\",\"product_price\")"
   ]
  },
  {
   "cell_type": "code",
   "execution_count": 64,
   "id": "0ef2b8f5",
   "metadata": {},
   "outputs": [
    {
     "name": "stdout",
     "output_type": "stream",
     "text": [
      "+-------------+--------+----------+--------+--------+-------------+\n",
      "|order_item_id|order_id|product_id|quantity|subtotal|product_price|\n",
      "+-------------+--------+----------+--------+--------+-------------+\n",
      "|            1|       1|       957|       1|  299.98|       299.98|\n",
      "|            2|       2|      1073|       1|  199.99|       199.99|\n",
      "|            3|       2|       502|       5|   250.0|         50.0|\n",
      "|            4|       2|       403|       1|  129.99|       129.99|\n",
      "|            5|       4|       897|       2|   49.98|        24.99|\n",
      "|            6|       4|       365|       5|  299.95|        59.99|\n",
      "|            7|       4|       502|       3|   150.0|         50.0|\n",
      "|            8|       4|      1014|       4|  199.92|        49.98|\n",
      "|            9|       5|       957|       1|  299.98|       299.98|\n",
      "|           10|       5|       365|       5|  299.95|        59.99|\n",
      "|           11|       5|      1014|       2|   99.96|        49.98|\n",
      "|           12|       5|       957|       1|  299.98|       299.98|\n",
      "|           13|       5|       403|       1|  129.99|       129.99|\n",
      "|           14|       7|      1073|       1|  199.99|       199.99|\n",
      "|           15|       7|       957|       1|  299.98|       299.98|\n",
      "|           16|       7|       926|       5|   79.95|        15.99|\n",
      "|           17|       8|       365|       3|  179.97|        59.99|\n",
      "|           18|       8|       365|       5|  299.95|        59.99|\n",
      "|           19|       8|      1014|       4|  199.92|        49.98|\n",
      "|           20|       8|       502|       1|    50.0|         50.0|\n",
      "+-------------+--------+----------+--------+--------+-------------+\n",
      "only showing top 20 rows\n",
      "\n"
     ]
    }
   ],
   "source": [
    "refined_df.show()"
   ]
  },
  {
   "cell_type": "code",
   "execution_count": 65,
   "id": "15309006",
   "metadata": {},
   "outputs": [],
   "source": [
    "df1 = refined_df.drop(\"subtotal\")"
   ]
  },
  {
   "cell_type": "code",
   "execution_count": 66,
   "id": "b2c46414",
   "metadata": {},
   "outputs": [
    {
     "name": "stdout",
     "output_type": "stream",
     "text": [
      "+-------------+--------+----------+--------+-------------+\n",
      "|order_item_id|order_id|product_id|quantity|product_price|\n",
      "+-------------+--------+----------+--------+-------------+\n",
      "|            1|       1|       957|       1|       299.98|\n",
      "|            2|       2|      1073|       1|       199.99|\n",
      "|            3|       2|       502|       5|         50.0|\n",
      "|            4|       2|       403|       1|       129.99|\n",
      "|            5|       4|       897|       2|        24.99|\n",
      "|            6|       4|       365|       5|        59.99|\n",
      "|            7|       4|       502|       3|         50.0|\n",
      "|            8|       4|      1014|       4|        49.98|\n",
      "|            9|       5|       957|       1|       299.98|\n",
      "|           10|       5|       365|       5|        59.99|\n",
      "|           11|       5|      1014|       2|        49.98|\n",
      "|           12|       5|       957|       1|       299.98|\n",
      "|           13|       5|       403|       1|       129.99|\n",
      "|           14|       7|      1073|       1|       199.99|\n",
      "|           15|       7|       957|       1|       299.98|\n",
      "|           16|       7|       926|       5|        15.99|\n",
      "|           17|       8|       365|       3|        59.99|\n",
      "|           18|       8|       365|       5|        59.99|\n",
      "|           19|       8|      1014|       4|        49.98|\n",
      "|           20|       8|       502|       1|         50.0|\n",
      "+-------------+--------+----------+--------+-------------+\n",
      "only showing top 20 rows\n",
      "\n"
     ]
    }
   ],
   "source": [
    "df1.show()"
   ]
  },
  {
   "cell_type": "code",
   "execution_count": 67,
   "id": "c90e59e3",
   "metadata": {},
   "outputs": [
    {
     "name": "stdout",
     "output_type": "stream",
     "text": [
      "+-------------+--------+----------+\n",
      "|order_item_id|order_id|product_id|\n",
      "+-------------+--------+----------+\n",
      "|            1|       1|       957|\n",
      "|            2|       2|      1073|\n",
      "|            3|       2|       502|\n",
      "|            4|       2|       403|\n",
      "|            5|       4|       897|\n",
      "|            6|       4|       365|\n",
      "|            7|       4|       502|\n",
      "|            8|       4|      1014|\n",
      "|            9|       5|       957|\n",
      "|           10|       5|       365|\n",
      "|           11|       5|      1014|\n",
      "|           12|       5|       957|\n",
      "|           13|       5|       403|\n",
      "|           14|       7|      1073|\n",
      "|           15|       7|       957|\n",
      "|           16|       7|       926|\n",
      "|           17|       8|       365|\n",
      "|           18|       8|       365|\n",
      "|           19|       8|      1014|\n",
      "|           20|       8|       502|\n",
      "+-------------+--------+----------+\n",
      "only showing top 20 rows\n",
      "\n"
     ]
    }
   ],
   "source": [
    "df1.select(\"order_item_id\",\"order_id\",\"product_id\").show()"
   ]
  },
  {
   "cell_type": "code",
   "execution_count": 68,
   "id": "d2849ab6",
   "metadata": {},
   "outputs": [],
   "source": [
    "from pyspark.sql.functions import expr"
   ]
  },
  {
   "cell_type": "code",
   "execution_count": 69,
   "id": "91483e69",
   "metadata": {},
   "outputs": [
    {
     "name": "stdout",
     "output_type": "stream",
     "text": [
      "+-------------+--------+----------+--------+-------------+--------+\n",
      "|order_item_id|order_id|product_id|quantity|product_price|subtotal|\n",
      "+-------------+--------+----------+--------+-------------+--------+\n",
      "|            1|       1|       957|       1|       299.98|  299.98|\n",
      "|            2|       2|      1073|       1|       199.99|  199.99|\n",
      "|            3|       2|       502|       5|         50.0|   250.0|\n",
      "|            4|       2|       403|       1|       129.99|  129.99|\n",
      "|            5|       4|       897|       2|        24.99|   49.98|\n",
      "|            6|       4|       365|       5|        59.99|  299.95|\n",
      "|            7|       4|       502|       3|         50.0|   150.0|\n",
      "|            8|       4|      1014|       4|        49.98|  199.92|\n",
      "|            9|       5|       957|       1|       299.98|  299.98|\n",
      "|           10|       5|       365|       5|        59.99|  299.95|\n",
      "|           11|       5|      1014|       2|        49.98|   99.96|\n",
      "|           12|       5|       957|       1|       299.98|  299.98|\n",
      "|           13|       5|       403|       1|       129.99|  129.99|\n",
      "|           14|       7|      1073|       1|       199.99|  199.99|\n",
      "|           15|       7|       957|       1|       299.98|  299.98|\n",
      "|           16|       7|       926|       5|        15.99|   79.95|\n",
      "|           17|       8|       365|       3|        59.99|  179.97|\n",
      "|           18|       8|       365|       5|        59.99|  299.95|\n",
      "|           19|       8|      1014|       4|        49.98|  199.92|\n",
      "|           20|       8|       502|       1|         50.0|    50.0|\n",
      "+-------------+--------+----------+--------+-------------+--------+\n",
      "only showing top 20 rows\n",
      "\n"
     ]
    }
   ],
   "source": [
    "#df1.select(\"*\",\"product_price * quantity as subtotal\") --wrong\n",
    "df1.select(\"*\",expr(\"product_price * quantity as subtotal\")).show()"
   ]
  },
  {
   "cell_type": "code",
   "execution_count": 70,
   "id": "66f9d93c",
   "metadata": {},
   "outputs": [
    {
     "name": "stdout",
     "output_type": "stream",
     "text": [
      "+-------------+--------+----------+--------+-------------+--------+\n",
      "|order_item_id|order_id|product_id|quantity|product_price|subtotal|\n",
      "+-------------+--------+----------+--------+-------------+--------+\n",
      "|            1|       1|       957|       1|       299.98|  299.98|\n",
      "|            2|       2|      1073|       1|       199.99|  199.99|\n",
      "|            3|       2|       502|       5|         50.0|   250.0|\n",
      "|            4|       2|       403|       1|       129.99|  129.99|\n",
      "|            5|       4|       897|       2|        24.99|   49.98|\n",
      "|            6|       4|       365|       5|        59.99|  299.95|\n",
      "|            7|       4|       502|       3|         50.0|   150.0|\n",
      "|            8|       4|      1014|       4|        49.98|  199.92|\n",
      "|            9|       5|       957|       1|       299.98|  299.98|\n",
      "|           10|       5|       365|       5|        59.99|  299.95|\n",
      "|           11|       5|      1014|       2|        49.98|   99.96|\n",
      "|           12|       5|       957|       1|       299.98|  299.98|\n",
      "|           13|       5|       403|       1|       129.99|  129.99|\n",
      "|           14|       7|      1073|       1|       199.99|  199.99|\n",
      "|           15|       7|       957|       1|       299.98|  299.98|\n",
      "|           16|       7|       926|       5|        15.99|   79.95|\n",
      "|           17|       8|       365|       3|        59.99|  179.97|\n",
      "|           18|       8|       365|       5|        59.99|  299.95|\n",
      "|           19|       8|      1014|       4|        49.98|  199.92|\n",
      "|           20|       8|       502|       1|         50.0|    50.0|\n",
      "+-------------+--------+----------+--------+-------------+--------+\n",
      "only showing top 20 rows\n",
      "\n"
     ]
    }
   ],
   "source": [
    "#selectExpr to consider calculation\n",
    "df1.selectExpr(\"*\",\"product_price * quantity as subtotal\").show()"
   ]
  },
  {
   "cell_type": "code",
   "execution_count": 71,
   "id": "d31e0897",
   "metadata": {},
   "outputs": [],
   "source": [
    "raw_df = spark.read \\\n",
    ".format(\"csv\") \\\n",
    ".option(\"inferschema\",\"true\") \\\n",
    ".load(\"/public/trendytech/retail_db/products/part-00000\")"
   ]
  },
  {
   "cell_type": "code",
   "execution_count": 72,
   "id": "8ccadf2e",
   "metadata": {},
   "outputs": [
    {
     "name": "stdout",
     "output_type": "stream",
     "text": [
      "+---+---+--------------------+----+------+--------------------+\n",
      "|_c0|_c1|                 _c2| _c3|   _c4|                 _c5|\n",
      "+---+---+--------------------+----+------+--------------------+\n",
      "|  1|  2|Quest Q64 10 FT. ...|null| 59.98|http://images.acm...|\n",
      "|  2|  2|Under Armour Men'...|null|129.99|http://images.acm...|\n",
      "|  3|  2|Under Armour Men'...|null| 89.99|http://images.acm...|\n",
      "|  4|  2|Under Armour Men'...|null| 89.99|http://images.acm...|\n",
      "|  5|  2|Riddell Youth Rev...|null|199.99|http://images.acm...|\n",
      "|  6|  2|Jordan Men's VI R...|null|134.99|http://images.acm...|\n",
      "|  7|  2|Schutt Youth Recr...|null| 99.99|http://images.acm...|\n",
      "|  8|  2|Nike Men's Vapor ...|null|129.99|http://images.acm...|\n",
      "|  9|  2|Nike Adult Vapor ...|null|  50.0|http://images.acm...|\n",
      "| 10|  2|Under Armour Men'...|null|129.99|http://images.acm...|\n",
      "| 11|  2|Fitness Gear 300 ...|null|209.99|http://images.acm...|\n",
      "| 12|  2|Under Armour Men'...|null|139.99|http://images.acm...|\n",
      "| 13|  2|Under Armour Men'...|null| 89.99|http://images.acm...|\n",
      "| 14|  2|Quik Shade Summit...|null|199.99|http://images.acm...|\n",
      "| 15|  2|Under Armour Kids...|null| 59.99|http://images.acm...|\n",
      "| 16|  2|Riddell Youth 360...|null|299.99|http://images.acm...|\n",
      "| 17|  2|Under Armour Men'...|null|129.99|http://images.acm...|\n",
      "| 18|  2|Reebok Men's Full...|null| 29.97|http://images.acm...|\n",
      "| 19|  2|Nike Men's Finger...|null|124.99|http://images.acm...|\n",
      "| 20|  2|Under Armour Men'...|null|129.99|http://images.acm...|\n",
      "+---+---+--------------------+----+------+--------------------+\n",
      "only showing top 20 rows\n",
      "\n"
     ]
    }
   ],
   "source": [
    "raw_df.show()"
   ]
  },
  {
   "cell_type": "code",
   "execution_count": 73,
   "id": "08aea295",
   "metadata": {},
   "outputs": [],
   "source": [
    "df1 = raw_df.toDF(\"product_id\",\"product_catagory_id\",\"product_name\",\"product_desc\",\"product_price\",\"product_image\")"
   ]
  },
  {
   "cell_type": "code",
   "execution_count": 74,
   "id": "f949c5ad",
   "metadata": {},
   "outputs": [
    {
     "name": "stdout",
     "output_type": "stream",
     "text": [
      "root\n",
      " |-- product_id: integer (nullable = true)\n",
      " |-- product_catagory_id: integer (nullable = true)\n",
      " |-- product_name: string (nullable = true)\n",
      " |-- product_desc: string (nullable = true)\n",
      " |-- product_price: double (nullable = true)\n",
      " |-- product_image: string (nullable = true)\n",
      "\n"
     ]
    }
   ],
   "source": [
    "df1.printSchema()"
   ]
  },
  {
   "cell_type": "code",
   "execution_count": 75,
   "id": "fe60e9cd",
   "metadata": {},
   "outputs": [],
   "source": [
    "#to transform existing column\n",
    "df2 = df1.withColumn(\"product_price\",expr(\"product_price * 1.2\"))"
   ]
  },
  {
   "cell_type": "code",
   "execution_count": 76,
   "id": "3b983edf",
   "metadata": {},
   "outputs": [
    {
     "name": "stdout",
     "output_type": "stream",
     "text": [
      "+----------+-------------------+--------------------+------------+------------------+--------------------+\n",
      "|product_id|product_catagory_id|        product_name|product_desc|     product_price|       product_image|\n",
      "+----------+-------------------+--------------------+------------+------------------+--------------------+\n",
      "|         1|                  2|Quest Q64 10 FT. ...|        null|            71.976|http://images.acm...|\n",
      "|         2|                  2|Under Armour Men'...|        null|           155.988|http://images.acm...|\n",
      "|         3|                  2|Under Armour Men'...|        null|107.98799999999999|http://images.acm...|\n",
      "|         4|                  2|Under Armour Men'...|        null|107.98799999999999|http://images.acm...|\n",
      "|         5|                  2|Riddell Youth Rev...|        null|           239.988|http://images.acm...|\n",
      "|         6|                  2|Jordan Men's VI R...|        null|           161.988|http://images.acm...|\n",
      "|         7|                  2|Schutt Youth Recr...|        null|119.98799999999999|http://images.acm...|\n",
      "|         8|                  2|Nike Men's Vapor ...|        null|           155.988|http://images.acm...|\n",
      "|         9|                  2|Nike Adult Vapor ...|        null|              60.0|http://images.acm...|\n",
      "|        10|                  2|Under Armour Men'...|        null|           155.988|http://images.acm...|\n",
      "|        11|                  2|Fitness Gear 300 ...|        null|           251.988|http://images.acm...|\n",
      "|        12|                  2|Under Armour Men'...|        null|           167.988|http://images.acm...|\n",
      "|        13|                  2|Under Armour Men'...|        null|107.98799999999999|http://images.acm...|\n",
      "|        14|                  2|Quik Shade Summit...|        null|           239.988|http://images.acm...|\n",
      "|        15|                  2|Under Armour Kids...|        null|            71.988|http://images.acm...|\n",
      "|        16|                  2|Riddell Youth 360...|        null|           359.988|http://images.acm...|\n",
      "|        17|                  2|Under Armour Men'...|        null|           155.988|http://images.acm...|\n",
      "|        18|                  2|Reebok Men's Full...|        null|            35.964|http://images.acm...|\n",
      "|        19|                  2|Nike Men's Finger...|        null|           149.988|http://images.acm...|\n",
      "|        20|                  2|Under Armour Men'...|        null|           155.988|http://images.acm...|\n",
      "+----------+-------------------+--------------------+------------+------------------+--------------------+\n",
      "only showing top 20 rows\n",
      "\n"
     ]
    }
   ],
   "source": [
    "df2.show()"
   ]
  },
  {
   "cell_type": "markdown",
   "id": "bb0a6e63",
   "metadata": {},
   "source": [
    "Nike 20%\n",
    "\n",
    "Armour 10$\n",
    "\n",
    "other 0%"
   ]
  },
  {
   "cell_type": "code",
   "execution_count": 77,
   "id": "2ae4b952",
   "metadata": {},
   "outputs": [],
   "source": [
    "df2 = df1.withColumn(\"PRODUCT_PRICE\",expr(\"CASE WHEN product_name LIKE '%Nike%' THEN product_price * 1.2 WHEN product_name like '%Armour%' then product_price * 1.1 else product_price end\"))"
   ]
  },
  {
   "cell_type": "code",
   "execution_count": 78,
   "id": "a01ec6da",
   "metadata": {},
   "outputs": [
    {
     "name": "stdout",
     "output_type": "stream",
     "text": [
      "+----------+-------------------+--------------------+------------+------------------+--------------------+\n",
      "|product_id|product_catagory_id|        product_name|product_desc|     PRODUCT_PRICE|       product_image|\n",
      "+----------+-------------------+--------------------+------------+------------------+--------------------+\n",
      "|         1|                  2|Quest Q64 10 FT. ...|        null|             59.98|http://images.acm...|\n",
      "|         2|                  2|Under Armour Men'...|        null|142.98900000000003|http://images.acm...|\n",
      "|         3|                  2|Under Armour Men'...|        null|            98.989|http://images.acm...|\n",
      "|         4|                  2|Under Armour Men'...|        null|            98.989|http://images.acm...|\n",
      "|         5|                  2|Riddell Youth Rev...|        null|            199.99|http://images.acm...|\n",
      "|         6|                  2|Jordan Men's VI R...|        null|            134.99|http://images.acm...|\n",
      "|         7|                  2|Schutt Youth Recr...|        null|             99.99|http://images.acm...|\n",
      "|         8|                  2|Nike Men's Vapor ...|        null|           155.988|http://images.acm...|\n",
      "|         9|                  2|Nike Adult Vapor ...|        null|              60.0|http://images.acm...|\n",
      "|        10|                  2|Under Armour Men'...|        null|142.98900000000003|http://images.acm...|\n",
      "|        11|                  2|Fitness Gear 300 ...|        null|            209.99|http://images.acm...|\n",
      "|        12|                  2|Under Armour Men'...|        null|153.98900000000003|http://images.acm...|\n",
      "|        13|                  2|Under Armour Men'...|        null|            98.989|http://images.acm...|\n",
      "|        14|                  2|Quik Shade Summit...|        null|            199.99|http://images.acm...|\n",
      "|        15|                  2|Under Armour Kids...|        null|            65.989|http://images.acm...|\n",
      "|        16|                  2|Riddell Youth 360...|        null|            299.99|http://images.acm...|\n",
      "|        17|                  2|Under Armour Men'...|        null|142.98900000000003|http://images.acm...|\n",
      "|        18|                  2|Reebok Men's Full...|        null|             29.97|http://images.acm...|\n",
      "|        19|                  2|Nike Men's Finger...|        null|           149.988|http://images.acm...|\n",
      "|        20|                  2|Under Armour Men'...|        null|142.98900000000003|http://images.acm...|\n",
      "+----------+-------------------+--------------------+------------+------------------+--------------------+\n",
      "only showing top 20 rows\n",
      "\n"
     ]
    }
   ],
   "source": [
    "df2.show()"
   ]
  },
  {
   "cell_type": "code",
   "execution_count": 81,
   "id": "25a026b3",
   "metadata": {},
   "outputs": [],
   "source": [
    "df2 = df1.withColumnRenamed(\"product_name\",\"product_name1\")"
   ]
  },
  {
   "cell_type": "code",
   "execution_count": 82,
   "id": "5fac83cd",
   "metadata": {},
   "outputs": [
    {
     "name": "stdout",
     "output_type": "stream",
     "text": [
      "+----------+-------------------+--------------------+------------+-------------+--------------------+\n",
      "|product_id|product_catagory_id|       product_name1|product_desc|product_price|       product_image|\n",
      "+----------+-------------------+--------------------+------------+-------------+--------------------+\n",
      "|         1|                  2|Quest Q64 10 FT. ...|        null|        59.98|http://images.acm...|\n",
      "|         2|                  2|Under Armour Men'...|        null|       129.99|http://images.acm...|\n",
      "|         3|                  2|Under Armour Men'...|        null|        89.99|http://images.acm...|\n",
      "|         4|                  2|Under Armour Men'...|        null|        89.99|http://images.acm...|\n",
      "|         5|                  2|Riddell Youth Rev...|        null|       199.99|http://images.acm...|\n",
      "|         6|                  2|Jordan Men's VI R...|        null|       134.99|http://images.acm...|\n",
      "|         7|                  2|Schutt Youth Recr...|        null|        99.99|http://images.acm...|\n",
      "|         8|                  2|Nike Men's Vapor ...|        null|       129.99|http://images.acm...|\n",
      "|         9|                  2|Nike Adult Vapor ...|        null|         50.0|http://images.acm...|\n",
      "|        10|                  2|Under Armour Men'...|        null|       129.99|http://images.acm...|\n",
      "|        11|                  2|Fitness Gear 300 ...|        null|       209.99|http://images.acm...|\n",
      "|        12|                  2|Under Armour Men'...|        null|       139.99|http://images.acm...|\n",
      "|        13|                  2|Under Armour Men'...|        null|        89.99|http://images.acm...|\n",
      "|        14|                  2|Quik Shade Summit...|        null|       199.99|http://images.acm...|\n",
      "|        15|                  2|Under Armour Kids...|        null|        59.99|http://images.acm...|\n",
      "|        16|                  2|Riddell Youth 360...|        null|       299.99|http://images.acm...|\n",
      "|        17|                  2|Under Armour Men'...|        null|       129.99|http://images.acm...|\n",
      "|        18|                  2|Reebok Men's Full...|        null|        29.97|http://images.acm...|\n",
      "|        19|                  2|Nike Men's Finger...|        null|       124.99|http://images.acm...|\n",
      "|        20|                  2|Under Armour Men'...|        null|       129.99|http://images.acm...|\n",
      "+----------+-------------------+--------------------+------------+-------------+--------------------+\n",
      "only showing top 20 rows\n",
      "\n"
     ]
    }
   ],
   "source": [
    "df2.show()"
   ]
  },
  {
   "cell_type": "markdown",
   "id": "f2f31c11",
   "metadata": {},
   "source": [
    "### Remove dups from DF"
   ]
  },
  {
   "cell_type": "markdown",
   "id": "74919ee7",
   "metadata": {},
   "source": [
    "distinct()\n",
    "\n",
    "dropDuplicates()"
   ]
  },
  {
   "cell_type": "code",
   "execution_count": 83,
   "id": "621c65c1",
   "metadata": {},
   "outputs": [],
   "source": [
    "mylist = [\n",
    "    (1,\"kapil\",34),\n",
    "    (1,\"kapil\",34),\n",
    "    (1,\"satish\",26),\n",
    "    (2,\"satish\",26)\n",
    "]"
   ]
  },
  {
   "cell_type": "code",
   "execution_count": 84,
   "id": "f3656ada",
   "metadata": {},
   "outputs": [],
   "source": [
    "df = spark.createDataFrame(mylist).toDF(\"id\",\"name\",\"age\")"
   ]
  },
  {
   "cell_type": "code",
   "execution_count": 85,
   "id": "2bfc336c",
   "metadata": {},
   "outputs": [
    {
     "name": "stdout",
     "output_type": "stream",
     "text": [
      "+---+------+---+\n",
      "| id|  name|age|\n",
      "+---+------+---+\n",
      "|  1| kapil| 34|\n",
      "|  1| kapil| 34|\n",
      "|  1|satish| 26|\n",
      "|  2|satish| 26|\n",
      "+---+------+---+\n",
      "\n"
     ]
    }
   ],
   "source": [
    "df.show()"
   ]
  },
  {
   "cell_type": "code",
   "execution_count": 93,
   "id": "cdd1628b",
   "metadata": {},
   "outputs": [],
   "source": [
    "#transformation distinct (to be used if the whole record is duplicate)\n",
    "#df1 = df.distinct() --considring all column\n",
    "#df1 = df.select(\"id\").distinct()---only selecting the id\n",
    "#transformation dropDuplicate\n",
    "#new_df = df.dropDuplicates()---same as distinct---more flexible\n",
    "new_df = df.dropDuplicates([\"name\",\"age\"])"
   ]
  },
  {
   "cell_type": "code",
   "execution_count": 94,
   "id": "41e282fd",
   "metadata": {},
   "outputs": [
    {
     "name": "stdout",
     "output_type": "stream",
     "text": [
      "+---+------+---+\n",
      "| id|  name|age|\n",
      "+---+------+---+\n",
      "|  1| kapil| 34|\n",
      "|  1|satish| 26|\n",
      "+---+------+---+\n",
      "\n"
     ]
    }
   ],
   "source": [
    "new_df.show()"
   ]
  },
  {
   "cell_type": "code",
   "execution_count": 95,
   "id": "1b6e99a3",
   "metadata": {},
   "outputs": [
    {
     "data": {
      "text/html": [
       "<table border='1'>\n",
       "<tr><th>id</th><th>name</th><th>age</th></tr>\n",
       "<tr><td>1</td><td>kapil</td><td>34</td></tr>\n",
       "<tr><td>2</td><td>satish</td><td>26</td></tr>\n",
       "</table>\n"
      ],
      "text/plain": [
       "+---+------+---+\n",
       "| id|  name|age|\n",
       "+---+------+---+\n",
       "|  1| kapil| 34|\n",
       "|  2|satish| 26|\n",
       "+---+------+---+"
      ]
     },
     "execution_count": 95,
     "metadata": {},
     "output_type": "execute_result"
    }
   ],
   "source": [
    "df.dropDuplicates([\"id\"])"
   ]
  },
  {
   "cell_type": "code",
   "execution_count": null,
   "id": "2c2e4ccf",
   "metadata": {},
   "outputs": [],
   "source": []
  }
 ],
 "metadata": {
  "kernelspec": {
   "display_name": "Pyspark 3",
   "language": "python",
   "name": "pyspark3"
  },
  "language_info": {
   "codemirror_mode": {
    "name": "ipython",
    "version": 3
   },
   "file_extension": ".py",
   "mimetype": "text/x-python",
   "name": "python",
   "nbconvert_exporter": "python",
   "pygments_lexer": "ipython3",
   "version": "3.6.12"
  }
 },
 "nbformat": 4,
 "nbformat_minor": 5
}
