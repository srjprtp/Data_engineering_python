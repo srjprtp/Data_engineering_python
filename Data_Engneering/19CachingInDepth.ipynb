{
 "cells": [
  {
   "cell_type": "markdown",
   "id": "b1faa06f",
   "metadata": {},
   "source": [
    "#### Spark UI"
   ]
  },
  {
   "cell_type": "markdown",
   "id": "4d895a61",
   "metadata": {},
   "source": [
    "how to access the spark UI\n",
    "\n",
    "YARN Resource manager and Spark UI"
   ]
  },
  {
   "cell_type": "code",
   "execution_count": 1,
   "id": "6ce863bc",
   "metadata": {},
   "outputs": [],
   "source": [
    "from pyspark.sql import SparkSession"
   ]
  },
  {
   "cell_type": "code",
   "execution_count": 2,
   "id": "25e29354",
   "metadata": {},
   "outputs": [],
   "source": [
    "spark = SparkSession. \\\n",
    "builder. \\\n",
    "appName(\"caching session demo4\"). \\\n",
    "config(\"spark.sql.warehouse.dir\",\"/user/itv020649/warehouse\"). \\\n",
    "enableHiveSupport(). \\\n",
    "master('yarn'). \\\n",
    "getOrCreate()"
   ]
  },
  {
   "cell_type": "code",
   "execution_count": 3,
   "id": "17f14c1b",
   "metadata": {},
   "outputs": [
    {
     "data": {
      "text/html": [
       "\n",
       "            <div>\n",
       "                <p><b>SparkSession - hive</b></p>\n",
       "                \n",
       "        <div>\n",
       "            <p><b>SparkContext</b></p>\n",
       "\n",
       "            <p><a href=\"http://g01.itversity.com:4040\">Spark UI</a></p>\n",
       "\n",
       "            <dl>\n",
       "              <dt>Version</dt>\n",
       "                <dd><code>v2.4.7</code></dd>\n",
       "              <dt>Master</dt>\n",
       "                <dd><code>yarn</code></dd>\n",
       "              <dt>AppName</dt>\n",
       "                <dd><code>caching session demo4</code></dd>\n",
       "            </dl>\n",
       "        </div>\n",
       "        \n",
       "            </div>\n",
       "        "
      ],
      "text/plain": [
       "<pyspark.sql.session.SparkSession at 0x7fb0e357f390>"
      ]
     },
     "execution_count": 3,
     "metadata": {},
     "output_type": "execute_result"
    }
   ],
   "source": [
    "spark"
   ]
  },
  {
   "cell_type": "markdown",
   "id": "3ca0ca82",
   "metadata": {},
   "source": [
    "#### Cashe and Persist"
   ]
  },
  {
   "cell_type": "markdown",
   "id": "a55c59ae",
   "metadata": {},
   "source": [
    "spark is already in memory than why cache()?\n",
    "\n",
    "df1 = read a order file from disk -- if i fee this df1 will be reused again and again we can cache it.\n",
    "\n",
    "df2 = df1.xfr1  df3 = df2.xfr2\n",
    "\n",
    "df3.show() --- all stages will run from begning from read.\n",
    "\n",
    "this is solved in cache() (it is lazy)\n",
    "\n",
    "should not cache() large DF or it can make issue\n",
    "\n",
    "RDD - cache in memory\n",
    "\n",
    "DF or sql table - it cache in memory and disk\n",
    "\n",
    "10 GB file- 128 block size- 80 blocks-not enough memrory (only 50 are in memory)-remaining 50 in disk- this disk part is skipped in RDD\n",
    "\n",
    "Disk has 2 parts - worker node-hdfs / local disk(little faster)\n",
    "\n",
    "persist- memory and disk as option\n",
    "\n",
    "cache- memory+disk by default"
   ]
  },
  {
   "cell_type": "markdown",
   "id": "3e1eda46",
   "metadata": {},
   "source": [
    "### Cache praticals"
   ]
  },
  {
   "cell_type": "code",
   "execution_count": 4,
   "id": "b007de4a",
   "metadata": {},
   "outputs": [],
   "source": [
    "orders_schema = 'order_id long,order_date date,cust_id long,order_status string'"
   ]
  },
  {
   "cell_type": "code",
   "execution_count": 21,
   "id": "3d630aa8",
   "metadata": {},
   "outputs": [],
   "source": [
    "raw_df = spark.read \\\n",
    ".format(\"csv\") \\\n",
    ".schema(orders_schema) \\\n",
    ".load(\"/public/trendytech/orders/orders_1gb.csv\")"
   ]
  },
  {
   "cell_type": "code",
   "execution_count": 22,
   "id": "855e7c0f",
   "metadata": {},
   "outputs": [
    {
     "name": "stdout",
     "output_type": "stream",
     "text": [
      "+--------+----------+-------+---------------+\n",
      "|order_id|order_date|cust_id|   order_status|\n",
      "+--------+----------+-------+---------------+\n",
      "|       1|2013-07-25|  11599|         CLOSED|\n",
      "|       2|2013-07-25|    256|PENDING_PAYMENT|\n",
      "|       3|2013-07-25|  12111|       COMPLETE|\n",
      "|       4|2013-07-25|   8827|         CLOSED|\n",
      "|       5|2013-07-25|  11318|       COMPLETE|\n",
      "|       6|2013-07-25|   7130|       COMPLETE|\n",
      "|       7|2013-07-25|   4530|       COMPLETE|\n",
      "|       8|2013-07-25|   2911|     PROCESSING|\n",
      "|       9|2013-07-25|   5657|PENDING_PAYMENT|\n",
      "|      10|2013-07-25|   5648|PENDING_PAYMENT|\n",
      "|      11|2013-07-25|    918| PAYMENT_REVIEW|\n",
      "|      12|2013-07-25|   1837|         CLOSED|\n",
      "|      13|2013-07-25|   9149|PENDING_PAYMENT|\n",
      "|      14|2013-07-25|   9842|     PROCESSING|\n",
      "|      15|2013-07-25|   2568|       COMPLETE|\n",
      "|      16|2013-07-25|   7276|PENDING_PAYMENT|\n",
      "|      17|2013-07-25|   2667|       COMPLETE|\n",
      "|      18|2013-07-25|   1205|         CLOSED|\n",
      "|      19|2013-07-25|   9488|PENDING_PAYMENT|\n",
      "|      20|2013-07-25|   9198|     PROCESSING|\n",
      "+--------+----------+-------+---------------+\n",
      "only showing top 20 rows\n",
      "\n"
     ]
    }
   ],
   "source": [
    "raw_df.show()"
   ]
  },
  {
   "cell_type": "code",
   "execution_count": 7,
   "id": "f117bea5",
   "metadata": {},
   "outputs": [
    {
     "name": "stdout",
     "output_type": "stream",
     "text": [
      "root\n",
      " |-- order_id: long (nullable = true)\n",
      " |-- order_date: date (nullable = true)\n",
      " |-- cust_id: long (nullable = true)\n",
      " |-- order_status: string (nullable = true)\n",
      "\n"
     ]
    }
   ],
   "source": [
    "raw_df.printSchema()"
   ]
  },
  {
   "cell_type": "code",
   "execution_count": 8,
   "id": "f33821d6",
   "metadata": {},
   "outputs": [
    {
     "data": {
      "text/plain": [
       "25831125"
      ]
     },
     "execution_count": 8,
     "metadata": {},
     "output_type": "execute_result"
    }
   ],
   "source": [
    "raw_df.count()"
   ]
  },
  {
   "cell_type": "markdown",
   "id": "fc99e0c7",
   "metadata": {},
   "source": [
    "1.1gb\n",
    "\n",
    "9 blocks in hdfs\n",
    "\n",
    "count\n",
    "\n",
    "9 partition in your data frame\n",
    "\n",
    "9 task\n",
    "task1 -> 1000\n",
    "task2 -> 2000\n",
    "task3 -> 1500\n",
    "\n",
    "1 from each executor and sum"
   ]
  },
  {
   "cell_type": "code",
   "execution_count": 9,
   "id": "80eb2a54",
   "metadata": {},
   "outputs": [],
   "source": [
    "order_df_cached = raw_df.cache()"
   ]
  },
  {
   "cell_type": "code",
   "execution_count": 10,
   "id": "3a9beb4d",
   "metadata": {},
   "outputs": [
    {
     "name": "stdout",
     "output_type": "stream",
     "text": [
      "+--------+----------+-------+---------------+\n",
      "|order_id|order_date|cust_id|   order_status|\n",
      "+--------+----------+-------+---------------+\n",
      "|       1|2013-07-25|  11599|         CLOSED|\n",
      "|       2|2013-07-25|    256|PENDING_PAYMENT|\n",
      "|       3|2013-07-25|  12111|       COMPLETE|\n",
      "|       4|2013-07-25|   8827|         CLOSED|\n",
      "|       5|2013-07-25|  11318|       COMPLETE|\n",
      "|       6|2013-07-25|   7130|       COMPLETE|\n",
      "|       7|2013-07-25|   4530|       COMPLETE|\n",
      "|       8|2013-07-25|   2911|     PROCESSING|\n",
      "|       9|2013-07-25|   5657|PENDING_PAYMENT|\n",
      "|      10|2013-07-25|   5648|PENDING_PAYMENT|\n",
      "|      11|2013-07-25|    918| PAYMENT_REVIEW|\n",
      "|      12|2013-07-25|   1837|         CLOSED|\n",
      "|      13|2013-07-25|   9149|PENDING_PAYMENT|\n",
      "|      14|2013-07-25|   9842|     PROCESSING|\n",
      "|      15|2013-07-25|   2568|       COMPLETE|\n",
      "|      16|2013-07-25|   7276|PENDING_PAYMENT|\n",
      "|      17|2013-07-25|   2667|       COMPLETE|\n",
      "|      18|2013-07-25|   1205|         CLOSED|\n",
      "|      19|2013-07-25|   9488|PENDING_PAYMENT|\n",
      "|      20|2013-07-25|   9198|     PROCESSING|\n",
      "+--------+----------+-------+---------------+\n",
      "only showing top 20 rows\n",
      "\n"
     ]
    }
   ],
   "source": [
    "order_df_cached.show()"
   ]
  },
  {
   "cell_type": "markdown",
   "id": "7bf4afa9",
   "metadata": {},
   "source": [
    "for show it only cached 1st partition 11% same for head-- check storage\n",
    "\n",
    "for tail it will cache will be cached"
   ]
  },
  {
   "cell_type": "code",
   "execution_count": 11,
   "id": "e93f6512",
   "metadata": {},
   "outputs": [
    {
     "ename": "AttributeError",
     "evalue": "'DataFrame' object has no attribute 'tail'",
     "output_type": "error",
     "traceback": [
      "\u001b[0;31m---------------------------------------------------------------------------\u001b[0m",
      "\u001b[0;31mAttributeError\u001b[0m                            Traceback (most recent call last)",
      "\u001b[0;32m<ipython-input-11-09292406728c>\u001b[0m in \u001b[0;36m<module>\u001b[0;34m\u001b[0m\n\u001b[0;32m----> 1\u001b[0;31m \u001b[0morder_df_cached\u001b[0m\u001b[0;34m.\u001b[0m\u001b[0mtail\u001b[0m\u001b[0;34m(\u001b[0m\u001b[0;36m10\u001b[0m\u001b[0;34m)\u001b[0m\u001b[0;34m\u001b[0m\u001b[0;34m\u001b[0m\u001b[0m\n\u001b[0m",
      "\u001b[0;32m/opt/spark-2.4.7-bin-hadoop2.7/python/pyspark/sql/dataframe.py\u001b[0m in \u001b[0;36m__getattr__\u001b[0;34m(self, name)\u001b[0m\n\u001b[1;32m   1303\u001b[0m         \u001b[0;32mif\u001b[0m \u001b[0mname\u001b[0m \u001b[0;32mnot\u001b[0m \u001b[0;32min\u001b[0m \u001b[0mself\u001b[0m\u001b[0;34m.\u001b[0m\u001b[0mcolumns\u001b[0m\u001b[0;34m:\u001b[0m\u001b[0;34m\u001b[0m\u001b[0;34m\u001b[0m\u001b[0m\n\u001b[1;32m   1304\u001b[0m             raise AttributeError(\n\u001b[0;32m-> 1305\u001b[0;31m                 \"'%s' object has no attribute '%s'\" % (self.__class__.__name__, name))\n\u001b[0m\u001b[1;32m   1306\u001b[0m         \u001b[0mjc\u001b[0m \u001b[0;34m=\u001b[0m \u001b[0mself\u001b[0m\u001b[0;34m.\u001b[0m\u001b[0m_jdf\u001b[0m\u001b[0;34m.\u001b[0m\u001b[0mapply\u001b[0m\u001b[0;34m(\u001b[0m\u001b[0mname\u001b[0m\u001b[0;34m)\u001b[0m\u001b[0;34m\u001b[0m\u001b[0;34m\u001b[0m\u001b[0m\n\u001b[1;32m   1307\u001b[0m         \u001b[0;32mreturn\u001b[0m \u001b[0mColumn\u001b[0m\u001b[0;34m(\u001b[0m\u001b[0mjc\u001b[0m\u001b[0;34m)\u001b[0m\u001b[0;34m\u001b[0m\u001b[0;34m\u001b[0m\u001b[0m\n",
      "\u001b[0;31mAttributeError\u001b[0m: 'DataFrame' object has no attribute 'tail'"
     ]
    }
   ],
   "source": [
    "order_df_cached.tail(10)"
   ]
  },
  {
   "cell_type": "markdown",
   "id": "d262ed4b",
   "metadata": {},
   "source": [
    "Memory Deserilized- object form like formal data,takes more space\n",
    "\n",
    "serialized - binary format(more optimizedterm of space, but convertion it takes extra cpu cycle)\n",
    "\n",
    "in-memory-> deserilized\n",
    "disk-> serialized\n",
    "\n",
    "caching:\n",
    "in-memory-> deserilized/serialized\n",
    "disk-> serialized"
   ]
  },
  {
   "cell_type": "code",
   "execution_count": 23,
   "id": "7147d5ea",
   "metadata": {},
   "outputs": [
    {
     "data": {
      "text/plain": [
       "25831125"
      ]
     },
     "execution_count": 23,
     "metadata": {},
     "output_type": "execute_result"
    }
   ],
   "source": [
    "order_df_cached.count()\n",
    "#it will deal with all records so all partition will be cached"
   ]
  },
  {
   "cell_type": "markdown",
   "id": "56d640d4",
   "metadata": {},
   "source": [
    "dynamic resource allocation is enabled, min two executor and max 10\n",
    "\n",
    "id application is ideal the extra executor will be removed but not less then min"
   ]
  },
  {
   "cell_type": "markdown",
   "id": "64ddc5d7",
   "metadata": {},
   "source": [
    "node_loacl -> normal/disk\n",
    "\n",
    "processed local -> cache"
   ]
  },
  {
   "cell_type": "code",
   "execution_count": null,
   "id": "b1360c71",
   "metadata": {},
   "outputs": [],
   "source": [
    "order_df_cached.unpersist()"
   ]
  },
  {
   "cell_type": "markdown",
   "id": "3e307db8",
   "metadata": {},
   "source": [
    "### More on CACHE"
   ]
  },
  {
   "cell_type": "code",
   "execution_count": null,
   "id": "66590770",
   "metadata": {},
   "outputs": [],
   "source": [
    "raw_df.cache()"
   ]
  },
  {
   "cell_type": "code",
   "execution_count": 24,
   "id": "dde389e8",
   "metadata": {},
   "outputs": [],
   "source": [
    "filtered_results = raw_df.filter(\"cust_id == 1000000\")\n"
   ]
  },
  {
   "cell_type": "code",
   "execution_count": 25,
   "id": "a45fe86e",
   "metadata": {},
   "outputs": [
    {
     "name": "stdout",
     "output_type": "stream",
     "text": [
      "+--------+----------+-------+------------+\n",
      "|order_id|order_date|cust_id|order_status|\n",
      "+--------+----------+-------+------------+\n",
      "+--------+----------+-------+------------+\n",
      "\n"
     ]
    }
   ],
   "source": [
    "filtered_results.show()\n",
    "# it will cache everything"
   ]
  },
  {
   "cell_type": "code",
   "execution_count": 26,
   "id": "2157aa5f",
   "metadata": {},
   "outputs": [
    {
     "data": {
      "text/html": [
       "<table border='1'>\n",
       "<tr><th>order_id</th><th>order_status</th></tr>\n",
       "<tr><td>1</td><td>CLOSED</td></tr>\n",
       "<tr><td>4</td><td>CLOSED</td></tr>\n",
       "<tr><td>12</td><td>CLOSED</td></tr>\n",
       "<tr><td>18</td><td>CLOSED</td></tr>\n",
       "<tr><td>24</td><td>CLOSED</td></tr>\n",
       "<tr><td>25</td><td>CLOSED</td></tr>\n",
       "<tr><td>37</td><td>CLOSED</td></tr>\n",
       "<tr><td>51</td><td>CLOSED</td></tr>\n",
       "<tr><td>57</td><td>CLOSED</td></tr>\n",
       "<tr><td>61</td><td>CLOSED</td></tr>\n",
       "<tr><td>62</td><td>CLOSED</td></tr>\n",
       "<tr><td>87</td><td>CLOSED</td></tr>\n",
       "<tr><td>90</td><td>CLOSED</td></tr>\n",
       "<tr><td>101</td><td>CLOSED</td></tr>\n",
       "<tr><td>116</td><td>CLOSED</td></tr>\n",
       "<tr><td>129</td><td>CLOSED</td></tr>\n",
       "<tr><td>133</td><td>CLOSED</td></tr>\n",
       "<tr><td>191</td><td>CLOSED</td></tr>\n",
       "<tr><td>201</td><td>CLOSED</td></tr>\n",
       "<tr><td>211</td><td>CLOSED</td></tr>\n",
       "</table>\n",
       "only showing top 20 rows\n"
      ],
      "text/plain": [
       "+--------+------------+\n",
       "|order_id|order_status|\n",
       "+--------+------------+\n",
       "|       1|      CLOSED|\n",
       "|       4|      CLOSED|\n",
       "|      12|      CLOSED|\n",
       "|      18|      CLOSED|\n",
       "|      24|      CLOSED|\n",
       "|      25|      CLOSED|\n",
       "|      37|      CLOSED|\n",
       "|      51|      CLOSED|\n",
       "|      57|      CLOSED|\n",
       "|      61|      CLOSED|\n",
       "|      62|      CLOSED|\n",
       "|      87|      CLOSED|\n",
       "|      90|      CLOSED|\n",
       "|     101|      CLOSED|\n",
       "|     116|      CLOSED|\n",
       "|     129|      CLOSED|\n",
       "|     133|      CLOSED|\n",
       "|     191|      CLOSED|\n",
       "|     201|      CLOSED|\n",
       "|     211|      CLOSED|\n",
       "+--------+------------+\n",
       "only showing top 20 rows"
      ]
     },
     "execution_count": 26,
     "metadata": {},
     "output_type": "execute_result"
    }
   ],
   "source": [
    "raw_df.select(\"order_id\",\"order_status\").filter(\"order_status=='CLOSED'\").cache()"
   ]
  },
  {
   "cell_type": "code",
   "execution_count": 27,
   "id": "8102b1da",
   "metadata": {},
   "outputs": [
    {
     "data": {
      "text/plain": [
       "2833500"
      ]
     },
     "execution_count": 27,
     "metadata": {},
     "output_type": "execute_result"
    }
   ],
   "source": [
    "raw_df.select(\"order_id\",\"order_status\").filter(\"order_status=='CLOSED'\").cache().count()\n",
    "#count will cache everything\n",
    "#if rerun it will hit cache"
   ]
  },
  {
   "cell_type": "code",
   "execution_count": 28,
   "id": "0f9dc29c",
   "metadata": {},
   "outputs": [
    {
     "data": {
      "text/plain": [
       "2833500"
      ]
     },
     "execution_count": 28,
     "metadata": {},
     "output_type": "execute_result"
    }
   ],
   "source": [
    "raw_df.filter(\"order_status=='CLOSED'\").select(\"order_id\",\"order_status\").cache().count()\n",
    "#even the query is samemoving filters ahead so it doesnt hit chache\n",
    "#cache only checks analysised plan not optimised and if it matches its hit cache\n"
   ]
  },
  {
   "cell_type": "code",
   "execution_count": 29,
   "id": "731c1dab",
   "metadata": {},
   "outputs": [
    {
     "data": {
      "text/plain": [
       "2833500"
      ]
     },
     "execution_count": 29,
     "metadata": {},
     "output_type": "execute_result"
    }
   ],
   "source": [
    "raw_df.select(\"order_id\").filter(\"order_status=='CLOSED'\").cache().count()\n",
    "#it will hit cache"
   ]
  },
  {
   "cell_type": "code",
   "execution_count": 30,
   "id": "fbb4cb4d",
   "metadata": {},
   "outputs": [
    {
     "data": {
      "text/plain": [
       "2833500"
      ]
     },
     "execution_count": 30,
     "metadata": {},
     "output_type": "execute_result"
    }
   ],
   "source": [
    "raw_df.select(\"order_id\").filter(\"order_status=='CLOSED'\").cache().count()\n",
    "#it will not hit cache"
   ]
  },
  {
   "cell_type": "markdown",
   "id": "e582d70f",
   "metadata": {},
   "source": [
    "### Cache - InMemory Table Cache | Node Local & Process Local"
   ]
  },
  {
   "cell_type": "code",
   "execution_count": null,
   "id": "e9543dda",
   "metadata": {},
   "outputs": [],
   "source": []
  },
  {
   "cell_type": "code",
   "execution_count": 31,
   "id": "3b020445",
   "metadata": {},
   "outputs": [
    {
     "data": {
      "text/plain": [
       "25831125"
      ]
     },
     "execution_count": 31,
     "metadata": {},
     "output_type": "execute_result"
    }
   ],
   "source": [
    "raw_df.count()"
   ]
  },
  {
   "cell_type": "code",
   "execution_count": 32,
   "id": "f90269d3",
   "metadata": {},
   "outputs": [
    {
     "data": {
      "text/plain": [
       "68883"
      ]
     },
     "execution_count": 32,
     "metadata": {},
     "output_type": "execute_result"
    }
   ],
   "source": [
    "raw_df.distinct().count()"
   ]
  },
  {
   "cell_type": "markdown",
   "id": "3f26dc30",
   "metadata": {},
   "source": [
    "1.1gb 9blocks 9partition 9tasks \n",
    "\n",
    "e1-128mb-25lac record-distinct-68883\n",
    "\n",
    "e2-128mb-25lac record\n",
    ".\n",
    ".\n",
    "e9-128mb-25lac record\n",
    "\n",
    "wheenever we invoke wide xfr like distinct 200 partition(default) the results will go to 200 partition\n",
    "\n",
    "9 task->200task->1 task(aggreated)->count o/p\n",
    "\n",
    "if perticular the record went to one partition next time it will go to same partition, hash funtion should be consistent"
   ]
  },
  {
   "cell_type": "code",
   "execution_count": 33,
   "id": "580a45c1",
   "metadata": {},
   "outputs": [],
   "source": [
    "cache_df = raw_df.cache()\n",
    "#why to store in another DF"
   ]
  },
  {
   "cell_type": "code",
   "execution_count": 34,
   "id": "7f5c8c3d",
   "metadata": {},
   "outputs": [
    {
     "data": {
      "text/plain": [
       "25831125"
      ]
     },
     "execution_count": 34,
     "metadata": {},
     "output_type": "execute_result"
    }
   ],
   "source": [
    "cache_df.count()"
   ]
  },
  {
   "cell_type": "code",
   "execution_count": 35,
   "id": "24c0f4c4",
   "metadata": {},
   "outputs": [
    {
     "data": {
      "text/html": [
       "<table border='1'>\n",
       "<tr><th>order_id</th><th>order_date</th><th>cust_id</th><th>order_status</th></tr>\n",
       "<tr><td>1</td><td>2013-07-25</td><td>11599</td><td>CLOSED</td></tr>\n",
       "<tr><td>2</td><td>2013-07-25</td><td>256</td><td>PENDING_PAYMENT</td></tr>\n",
       "<tr><td>3</td><td>2013-07-25</td><td>12111</td><td>COMPLETE</td></tr>\n",
       "<tr><td>4</td><td>2013-07-25</td><td>8827</td><td>CLOSED</td></tr>\n",
       "<tr><td>5</td><td>2013-07-25</td><td>11318</td><td>COMPLETE</td></tr>\n",
       "<tr><td>6</td><td>2013-07-25</td><td>7130</td><td>COMPLETE</td></tr>\n",
       "<tr><td>7</td><td>2013-07-25</td><td>4530</td><td>COMPLETE</td></tr>\n",
       "<tr><td>8</td><td>2013-07-25</td><td>2911</td><td>PROCESSING</td></tr>\n",
       "<tr><td>9</td><td>2013-07-25</td><td>5657</td><td>PENDING_PAYMENT</td></tr>\n",
       "<tr><td>10</td><td>2013-07-25</td><td>5648</td><td>PENDING_PAYMENT</td></tr>\n",
       "<tr><td>11</td><td>2013-07-25</td><td>918</td><td>PAYMENT_REVIEW</td></tr>\n",
       "<tr><td>12</td><td>2013-07-25</td><td>1837</td><td>CLOSED</td></tr>\n",
       "<tr><td>13</td><td>2013-07-25</td><td>9149</td><td>PENDING_PAYMENT</td></tr>\n",
       "<tr><td>14</td><td>2013-07-25</td><td>9842</td><td>PROCESSING</td></tr>\n",
       "<tr><td>15</td><td>2013-07-25</td><td>2568</td><td>COMPLETE</td></tr>\n",
       "<tr><td>16</td><td>2013-07-25</td><td>7276</td><td>PENDING_PAYMENT</td></tr>\n",
       "<tr><td>17</td><td>2013-07-25</td><td>2667</td><td>COMPLETE</td></tr>\n",
       "<tr><td>18</td><td>2013-07-25</td><td>1205</td><td>CLOSED</td></tr>\n",
       "<tr><td>19</td><td>2013-07-25</td><td>9488</td><td>PENDING_PAYMENT</td></tr>\n",
       "<tr><td>20</td><td>2013-07-25</td><td>9198</td><td>PROCESSING</td></tr>\n",
       "</table>\n",
       "only showing top 20 rows\n"
      ],
      "text/plain": [
       "+--------+----------+-------+---------------+\n",
       "|order_id|order_date|cust_id|   order_status|\n",
       "+--------+----------+-------+---------------+\n",
       "|       1|2013-07-25|  11599|         CLOSED|\n",
       "|       2|2013-07-25|    256|PENDING_PAYMENT|\n",
       "|       3|2013-07-25|  12111|       COMPLETE|\n",
       "|       4|2013-07-25|   8827|         CLOSED|\n",
       "|       5|2013-07-25|  11318|       COMPLETE|\n",
       "|       6|2013-07-25|   7130|       COMPLETE|\n",
       "|       7|2013-07-25|   4530|       COMPLETE|\n",
       "|       8|2013-07-25|   2911|     PROCESSING|\n",
       "|       9|2013-07-25|   5657|PENDING_PAYMENT|\n",
       "|      10|2013-07-25|   5648|PENDING_PAYMENT|\n",
       "|      11|2013-07-25|    918| PAYMENT_REVIEW|\n",
       "|      12|2013-07-25|   1837|         CLOSED|\n",
       "|      13|2013-07-25|   9149|PENDING_PAYMENT|\n",
       "|      14|2013-07-25|   9842|     PROCESSING|\n",
       "|      15|2013-07-25|   2568|       COMPLETE|\n",
       "|      16|2013-07-25|   7276|PENDING_PAYMENT|\n",
       "|      17|2013-07-25|   2667|       COMPLETE|\n",
       "|      18|2013-07-25|   1205|         CLOSED|\n",
       "|      19|2013-07-25|   9488|PENDING_PAYMENT|\n",
       "|      20|2013-07-25|   9198|     PROCESSING|\n",
       "+--------+----------+-------+---------------+\n",
       "only showing top 20 rows"
      ]
     },
     "execution_count": 35,
     "metadata": {},
     "output_type": "execute_result"
    }
   ],
   "source": [
    "cache_df.unpersist()"
   ]
  },
  {
   "cell_type": "markdown",
   "id": "a9242244",
   "metadata": {},
   "source": [
    "### Caching Spark table"
   ]
  },
  {
   "cell_type": "code",
   "execution_count": 36,
   "id": "cda3ac12",
   "metadata": {},
   "outputs": [
    {
     "name": "stdout",
     "output_type": "stream",
     "text": [
      "+--------+----------+-------+---------------+\n",
      "|order_id|order_date|cust_id|   order_status|\n",
      "+--------+----------+-------+---------------+\n",
      "|       1|2013-07-25|  11599|         CLOSED|\n",
      "|       2|2013-07-25|    256|PENDING_PAYMENT|\n",
      "|       3|2013-07-25|  12111|       COMPLETE|\n",
      "|       4|2013-07-25|   8827|         CLOSED|\n",
      "|       5|2013-07-25|  11318|       COMPLETE|\n",
      "|       6|2013-07-25|   7130|       COMPLETE|\n",
      "|       7|2013-07-25|   4530|       COMPLETE|\n",
      "|       8|2013-07-25|   2911|     PROCESSING|\n",
      "|       9|2013-07-25|   5657|PENDING_PAYMENT|\n",
      "|      10|2013-07-25|   5648|PENDING_PAYMENT|\n",
      "|      11|2013-07-25|    918| PAYMENT_REVIEW|\n",
      "|      12|2013-07-25|   1837|         CLOSED|\n",
      "|      13|2013-07-25|   9149|PENDING_PAYMENT|\n",
      "|      14|2013-07-25|   9842|     PROCESSING|\n",
      "|      15|2013-07-25|   2568|       COMPLETE|\n",
      "|      16|2013-07-25|   7276|PENDING_PAYMENT|\n",
      "|      17|2013-07-25|   2667|       COMPLETE|\n",
      "|      18|2013-07-25|   1205|         CLOSED|\n",
      "|      19|2013-07-25|   9488|PENDING_PAYMENT|\n",
      "|      20|2013-07-25|   9198|     PROCESSING|\n",
      "+--------+----------+-------+---------------+\n",
      "only showing top 20 rows\n",
      "\n"
     ]
    }
   ],
   "source": [
    "raw_df.show()"
   ]
  },
  {
   "cell_type": "code",
   "execution_count": 15,
   "id": "41d997cc",
   "metadata": {},
   "outputs": [
    {
     "data": {
      "text/html": [
       "<table border='1'>\n",
       "<tr><th></th></tr>\n",
       "</table>\n"
      ],
      "text/plain": [
       "++\n",
       "||\n",
       "++\n",
       "++"
      ]
     },
     "execution_count": 15,
     "metadata": {},
     "output_type": "execute_result"
    }
   ],
   "source": [
    "spark.sql(\"create database if not exists sukum16_caching_demo\")"
   ]
  },
  {
   "cell_type": "code",
   "execution_count": null,
   "id": "23a4ebf4",
   "metadata": {},
   "outputs": [],
   "source": [
    "spark.catalog.setCurrentDatabase(\"sukum16_caching_demo\")"
   ]
  },
  {
   "cell_type": "code",
   "execution_count": null,
   "id": "abc16454",
   "metadata": {},
   "outputs": [],
   "source": [
    "! hdfs dfs -rm -r /user/itv020649/warehouse/sukum16_caching_demo.db"
   ]
  },
  {
   "cell_type": "code",
   "execution_count": 42,
   "id": "cb532f3f",
   "metadata": {},
   "outputs": [],
   "source": [
    "raw_df.write.format(\"csv\").saveAsTable(\"sukum16_caching_demo.sukum16_order2\")"
   ]
  },
  {
   "cell_type": "code",
   "execution_count": 37,
   "id": "a9bdd02e",
   "metadata": {},
   "outputs": [
    {
     "name": "stdout",
     "output_type": "stream",
     "text": [
      "Found 3 items\n",
      "drwxr-xr-x   - itv020649 supergroup          0 2025-10-13 11:03 /user/itv020649/warehouse/sukum16_caching_demo.db\n",
      "drwxr-xr-x   - itv020649 supergroup          0 2025-10-12 11:45 /user/itv020649/warehouse/sukum16_caching_demo_ext.db\n",
      "drwxr-xr-x   - itv020649 supergroup          0 2025-08-07 12:30 /user/itv020649/warehouse/sukum16_retail.db\n"
     ]
    }
   ],
   "source": [
    "! hadoop fs -ls /user/itv020649/warehouse"
   ]
  },
  {
   "cell_type": "code",
   "execution_count": 38,
   "id": "e127877f",
   "metadata": {},
   "outputs": [
    {
     "name": "stdout",
     "output_type": "stream",
     "text": [
      "Found 1 items\n",
      "drwxr-xr-x   - itv020649 supergroup          0 2025-10-13 11:04 /user/itv020649/warehouse/sukum16_caching_demo.db/sukum16_order4\n"
     ]
    }
   ],
   "source": [
    "! hadoop fs -ls /user/itv020649/warehouse/sukum16_caching_demo.db"
   ]
  },
  {
   "cell_type": "markdown",
   "id": "c416cd90",
   "metadata": {},
   "source": [
    "1.1gb 9blocks 9partition 9tasks-> 9 files\n",
    "\n",
    "Managed table"
   ]
  },
  {
   "cell_type": "code",
   "execution_count": 43,
   "id": "e0ce222e",
   "metadata": {},
   "outputs": [
    {
     "name": "stdout",
     "output_type": "stream",
     "text": [
      "+--------------------+--------------------+-------+\n",
      "|            col_name|           data_type|comment|\n",
      "+--------------------+--------------------+-------+\n",
      "|            order_id|              bigint|   null|\n",
      "|          order_date|                date|   null|\n",
      "|             cust_id|              bigint|   null|\n",
      "|        order_status|              string|   null|\n",
      "|                    |                    |       |\n",
      "|# Detailed Table ...|                    |       |\n",
      "|            Database|sukum16_caching_demo|       |\n",
      "|               Table|      sukum16_order2|       |\n",
      "|               Owner|           itv020649|       |\n",
      "|        Created Time|Mon Oct 13 11:23:...|       |\n",
      "|         Last Access|Wed Dec 31 19:00:...|       |\n",
      "|          Created By|         Spark 2.4.7|       |\n",
      "|                Type|             MANAGED|       |\n",
      "|            Provider|                 csv|       |\n",
      "|    Table Properties|[transient_lastDd...|       |\n",
      "|          Statistics|     840836625 bytes|       |\n",
      "|            Location|hdfs://m01.itvers...|       |\n",
      "|       Serde Library|org.apache.hadoop...|       |\n",
      "|         InputFormat|org.apache.hadoop...|       |\n",
      "|        OutputFormat|org.apache.hadoop...|       |\n",
      "+--------------------+--------------------+-------+\n",
      "only showing top 20 rows\n",
      "\n"
     ]
    }
   ],
   "source": [
    "spark.sql(\"describe extended sukum16_caching_demo.sukum16_order2\").show()"
   ]
  },
  {
   "cell_type": "code",
   "execution_count": 44,
   "id": "8f4db704",
   "metadata": {},
   "outputs": [
    {
     "data": {
      "text/html": [
       "<table border='1'>\n",
       "<tr><th>count(1)</th></tr>\n",
       "<tr><td>25831125</td></tr>\n",
       "</table>\n"
      ],
      "text/plain": [
       "+--------+\n",
       "|count(1)|\n",
       "+--------+\n",
       "|25831125|\n",
       "+--------+"
      ]
     },
     "execution_count": 44,
     "metadata": {},
     "output_type": "execute_result"
    }
   ],
   "source": [
    "spark.sql(\"select count(*) from sukum16_caching_demo.sukum16_order2\")"
   ]
  },
  {
   "cell_type": "code",
   "execution_count": null,
   "id": "c435e84b",
   "metadata": {},
   "outputs": [],
   "source": []
  },
  {
   "cell_type": "code",
   "execution_count": 45,
   "id": "4875c038",
   "metadata": {},
   "outputs": [
    {
     "data": {
      "text/html": [
       "<table border='1'>\n",
       "<tr><th></th></tr>\n",
       "</table>\n"
      ],
      "text/plain": [
       "++\n",
       "||\n",
       "++\n",
       "++"
      ]
     },
     "execution_count": 45,
     "metadata": {},
     "output_type": "execute_result"
    }
   ],
   "source": [
    "spark.sql(\"cache table sukum16_caching_demo.sukum16_order2\")"
   ]
  },
  {
   "cell_type": "code",
   "execution_count": 46,
   "id": "33817267",
   "metadata": {},
   "outputs": [
    {
     "data": {
      "text/html": [
       "<table border='1'>\n",
       "<tr><th>count(1)</th></tr>\n",
       "<tr><td>25831125</td></tr>\n",
       "</table>\n"
      ],
      "text/plain": [
       "+--------+\n",
       "|count(1)|\n",
       "+--------+\n",
       "|25831125|\n",
       "+--------+"
      ]
     },
     "execution_count": 46,
     "metadata": {},
     "output_type": "execute_result"
    }
   ],
   "source": [
    "spark.sql(\"select count(*) from sukum16_caching_demo.sukum16_order2\")"
   ]
  },
  {
   "cell_type": "code",
   "execution_count": null,
   "id": "0f1fb206",
   "metadata": {},
   "outputs": [],
   "source": [
    "#process local that means it hit cache\n",
    "#cache is not lazy"
   ]
  },
  {
   "cell_type": "code",
   "execution_count": 47,
   "id": "320333da",
   "metadata": {},
   "outputs": [
    {
     "data": {
      "text/html": [
       "<table border='1'>\n",
       "<tr><th></th></tr>\n",
       "</table>\n"
      ],
      "text/plain": [
       "++\n",
       "||\n",
       "++\n",
       "++"
      ]
     },
     "execution_count": 47,
     "metadata": {},
     "output_type": "execute_result"
    }
   ],
   "source": [
    "#uncache\n",
    "spark.sql(\"uncache table sukum16_caching_demo.sukum16_order2\")"
   ]
  },
  {
   "cell_type": "code",
   "execution_count": 48,
   "id": "8eca39bf",
   "metadata": {},
   "outputs": [
    {
     "data": {
      "text/html": [
       "<table border='1'>\n",
       "<tr><th></th></tr>\n",
       "</table>\n"
      ],
      "text/plain": [
       "++\n",
       "||\n",
       "++\n",
       "++"
      ]
     },
     "execution_count": 48,
     "metadata": {},
     "output_type": "execute_result"
    }
   ],
   "source": [
    "spark.sql(\"cache lazy table sukum16_caching_demo.sukum16_order2\")"
   ]
  },
  {
   "cell_type": "code",
   "execution_count": 49,
   "id": "bb2c027b",
   "metadata": {},
   "outputs": [
    {
     "data": {
      "text/html": [
       "<table border='1'>\n",
       "<tr><th>count(DISTINCT order_status)</th></tr>\n",
       "<tr><td>9</td></tr>\n",
       "</table>\n"
      ],
      "text/plain": [
       "+----------------------------+\n",
       "|count(DISTINCT order_status)|\n",
       "+----------------------------+\n",
       "|                           9|\n",
       "+----------------------------+"
      ]
     },
     "execution_count": 49,
     "metadata": {},
     "output_type": "execute_result"
    }
   ],
   "source": [
    "spark.sql(\"select count(distinct (order_status)) from sukum16_caching_demo.sukum16_order2\")"
   ]
  },
  {
   "cell_type": "code",
   "execution_count": null,
   "id": "25d05e9e",
   "metadata": {},
   "outputs": [],
   "source": [
    "spark.sql(\"select distinct (order_status) from sukum16_caching_demo.sukum16_order2\")"
   ]
  },
  {
   "cell_type": "code",
   "execution_count": 50,
   "id": "7bd1b66f",
   "metadata": {},
   "outputs": [
    {
     "name": "stdout",
     "output_type": "stream",
     "text": [
      "0       0        /user/itv020649/warehouse/sukum16_caching_demo.db/sukum16_order2/_SUCCESS\n",
      "95.7 M  287.0 M  /user/itv020649/warehouse/sukum16_caching_demo.db/sukum16_order2/part-00000-8aa4f434-d950-4a2c-b5b4-359473403bcd-c000.csv\n",
      "95.7 M  287.0 M  /user/itv020649/warehouse/sukum16_caching_demo.db/sukum16_order2/part-00001-8aa4f434-d950-4a2c-b5b4-359473403bcd-c000.csv\n",
      "95.7 M  287.0 M  /user/itv020649/warehouse/sukum16_caching_demo.db/sukum16_order2/part-00002-8aa4f434-d950-4a2c-b5b4-359473403bcd-c000.csv\n",
      "95.7 M  287.0 M  /user/itv020649/warehouse/sukum16_caching_demo.db/sukum16_order2/part-00003-8aa4f434-d950-4a2c-b5b4-359473403bcd-c000.csv\n",
      "95.7 M  287.0 M  /user/itv020649/warehouse/sukum16_caching_demo.db/sukum16_order2/part-00004-8aa4f434-d950-4a2c-b5b4-359473403bcd-c000.csv\n",
      "95.7 M  287.0 M  /user/itv020649/warehouse/sukum16_caching_demo.db/sukum16_order2/part-00005-8aa4f434-d950-4a2c-b5b4-359473403bcd-c000.csv\n",
      "95.7 M  287.0 M  /user/itv020649/warehouse/sukum16_caching_demo.db/sukum16_order2/part-00006-8aa4f434-d950-4a2c-b5b4-359473403bcd-c000.csv\n",
      "95.7 M  287.0 M  /user/itv020649/warehouse/sukum16_caching_demo.db/sukum16_order2/part-00007-8aa4f434-d950-4a2c-b5b4-359473403bcd-c000.csv\n",
      "36.5 M  109.6 M  /user/itv020649/warehouse/sukum16_caching_demo.db/sukum16_order2/part-00008-8aa4f434-d950-4a2c-b5b4-359473403bcd-c000.csv\n"
     ]
    }
   ],
   "source": [
    "! hadoop fs -du -h /user/itv020649/warehouse/sukum16_caching_demo.db/sukum16_order2"
   ]
  },
  {
   "cell_type": "code",
   "execution_count": null,
   "id": "97cc17df",
   "metadata": {},
   "outputs": [],
   "source": [
    "#9 partition for 800mb data because 9 files each file is less than 128 mb"
   ]
  },
  {
   "cell_type": "code",
   "execution_count": 51,
   "id": "4dd57125",
   "metadata": {},
   "outputs": [
    {
     "data": {
      "text/html": [
       "<table border='1'>\n",
       "<tr><th></th></tr>\n",
       "</table>\n"
      ],
      "text/plain": [
       "++\n",
       "||\n",
       "++\n",
       "++"
      ]
     },
     "execution_count": 51,
     "metadata": {},
     "output_type": "execute_result"
    }
   ],
   "source": [
    "spark.sql(\"insert into sukum16_caching_demo.sukum16_order2 values (11111,'2025-05-29',2222,'BOOKED')\")"
   ]
  },
  {
   "cell_type": "markdown",
   "id": "68568daf",
   "metadata": {},
   "source": [
    "a new file is created as we have inserted a record\n",
    "\n",
    "what happen if i do distinct now, cache was invalidated, its refreshing the cache\n",
    "\n",
    "Node local as it didnot his cache"
   ]
  },
  {
   "cell_type": "code",
   "execution_count": 52,
   "id": "c8053df7",
   "metadata": {},
   "outputs": [
    {
     "data": {
      "text/html": [
       "<table border='1'>\n",
       "<tr><th></th></tr>\n",
       "</table>\n"
      ],
      "text/plain": [
       "++\n",
       "||\n",
       "++\n",
       "++"
      ]
     },
     "execution_count": 52,
     "metadata": {},
     "output_type": "execute_result"
    }
   ],
   "source": [
    "spark.sql(\"clear cache\")\n",
    "#uncache everything in this session"
   ]
  },
  {
   "cell_type": "markdown",
   "id": "fcb72c2b",
   "metadata": {},
   "source": [
    "### Spark Catalog, Managed & External Tables"
   ]
  },
  {
   "cell_type": "code",
   "execution_count": null,
   "id": "ac1f8c48",
   "metadata": {},
   "outputs": [],
   "source": [
    "spark.catalog.currentDatabase()"
   ]
  },
  {
   "cell_type": "code",
   "execution_count": 53,
   "id": "ac449045",
   "metadata": {},
   "outputs": [
    {
     "data": {
      "text/html": [
       "<table border='1'>\n",
       "<tr><th></th></tr>\n",
       "</table>\n"
      ],
      "text/plain": [
       "++\n",
       "||\n",
       "++\n",
       "++"
      ]
     },
     "execution_count": 53,
     "metadata": {},
     "output_type": "execute_result"
    }
   ],
   "source": [
    "spark.sql(\"use sukum16_caching_demo\")"
   ]
  },
  {
   "cell_type": "code",
   "execution_count": 54,
   "id": "aa4f44be",
   "metadata": {},
   "outputs": [
    {
     "data": {
      "text/plain": [
       "False"
      ]
     },
     "execution_count": 54,
     "metadata": {},
     "output_type": "execute_result"
    }
   ],
   "source": [
    "spark.catalog.isCached(\"sukum16_caching_demo.sukum16_order2\")"
   ]
  },
  {
   "cell_type": "code",
   "execution_count": null,
   "id": "a94307e4",
   "metadata": {},
   "outputs": [],
   "source": []
  },
  {
   "cell_type": "code",
   "execution_count": 56,
   "id": "06c556f7",
   "metadata": {},
   "outputs": [
    {
     "data": {
      "text/html": [
       "<table border='1'>\n",
       "<tr><th></th></tr>\n",
       "</table>\n"
      ],
      "text/plain": [
       "++\n",
       "||\n",
       "++\n",
       "++"
      ]
     },
     "execution_count": 56,
     "metadata": {},
     "output_type": "execute_result"
    }
   ],
   "source": [
    "#external table\n",
    "spark.sql(\"create database sukum16_caching_demo_ext\")"
   ]
  },
  {
   "cell_type": "code",
   "execution_count": 57,
   "id": "ae127184",
   "metadata": {},
   "outputs": [
    {
     "data": {
      "text/html": [
       "<table border='1'>\n",
       "<tr><th></th></tr>\n",
       "</table>\n"
      ],
      "text/plain": [
       "++\n",
       "||\n",
       "++\n",
       "++"
      ]
     },
     "execution_count": 57,
     "metadata": {},
     "output_type": "execute_result"
    }
   ],
   "source": [
    "spark.sql(\"create table sukum16_caching_demo_ext.sukum16_order_ext(order_id long,order_date date,cust_id long,order_status string) using csv location '/user/itv020649/'\")  "
   ]
  },
  {
   "cell_type": "code",
   "execution_count": 58,
   "id": "4cab1213",
   "metadata": {},
   "outputs": [
    {
     "name": "stdout",
     "output_type": "stream",
     "text": [
      "44,8602,37.19\n",
      "35,5368,65.89\n",
      "2,3391,40.64\n",
      "47,6694,14.98\n",
      "29,680,13.08\n",
      "91,8900,24.59\n",
      "70,3959,68.68\n",
      "85,1733,28.53\n",
      "53,9900,83.55\n",
      "14,1505,4.32\n"
     ]
    }
   ],
   "source": [
    "! hadoop fs -cat /user/itv020649/orders_sukum16.csv"
   ]
  },
  {
   "cell_type": "code",
   "execution_count": 59,
   "id": "80c974dd",
   "metadata": {},
   "outputs": [
    {
     "data": {
      "text/html": [
       "<table border='1'>\n",
       "<tr><th>database</th><th>tableName</th><th>isTemporary</th></tr>\n",
       "<tr><td>sukum16_caching_d...</td><td>sukum16_order_ext</td><td>false</td></tr>\n",
       "</table>\n"
      ],
      "text/plain": [
       "+--------------------+-----------------+-----------+\n",
       "|            database|        tableName|isTemporary|\n",
       "+--------------------+-----------------+-----------+\n",
       "|sukum16_caching_d...|sukum16_order_ext|      false|\n",
       "+--------------------+-----------------+-----------+"
      ]
     },
     "execution_count": 59,
     "metadata": {},
     "output_type": "execute_result"
    }
   ],
   "source": [
    "spark.sql(\"show tables in sukum16_caching_demo_ext\")"
   ]
  },
  {
   "cell_type": "code",
   "execution_count": 60,
   "id": "4bca6bad",
   "metadata": {},
   "outputs": [
    {
     "name": "stdout",
     "output_type": "stream",
     "text": [
      "+----------------------------+---------------------------------------------------------+-------+\n",
      "|col_name                    |data_type                                                |comment|\n",
      "+----------------------------+---------------------------------------------------------+-------+\n",
      "|order_id                    |bigint                                                   |null   |\n",
      "|order_date                  |date                                                     |null   |\n",
      "|cust_id                     |bigint                                                   |null   |\n",
      "|order_status                |string                                                   |null   |\n",
      "|                            |                                                         |       |\n",
      "|# Detailed Table Information|                                                         |       |\n",
      "|Database                    |sukum16_caching_demo_ext                                 |       |\n",
      "|Table                       |sukum16_order_ext                                        |       |\n",
      "|Owner                       |itv020649                                                |       |\n",
      "|Created Time                |Mon Oct 13 11:26:32 EDT 2025                             |       |\n",
      "|Last Access                 |Wed Dec 31 19:00:00 EST 1969                             |       |\n",
      "|Created By                  |Spark 2.4.7                                              |       |\n",
      "|Type                        |EXTERNAL                                                 |       |\n",
      "|Provider                    |csv                                                      |       |\n",
      "|Table Properties            |[transient_lastDdlTime=1760369192]                       |       |\n",
      "|Location                    |hdfs://m01.itversity.com:9000/user/itv020649             |       |\n",
      "|Serde Library               |org.apache.hadoop.hive.serde2.lazy.LazySimpleSerDe       |       |\n",
      "|InputFormat                 |org.apache.hadoop.mapred.SequenceFileInputFormat         |       |\n",
      "|OutputFormat                |org.apache.hadoop.hive.ql.io.HiveSequenceFileOutputFormat|       |\n",
      "|Storage Properties          |[serialization.format=1]                                 |       |\n",
      "+----------------------------+---------------------------------------------------------+-------+\n",
      "\n"
     ]
    }
   ],
   "source": [
    "spark.sql(\"describe extended sukum16_caching_demo_ext.sukum16_order_ext\").show(30,False)"
   ]
  },
  {
   "cell_type": "code",
   "execution_count": 61,
   "id": "3d2f48b9",
   "metadata": {},
   "outputs": [
    {
     "name": "stdout",
     "output_type": "stream",
     "text": [
      "+--------+----------+-------+------------+\n",
      "|order_id|order_date|cust_id|order_status|\n",
      "+--------+----------+-------+------------+\n",
      "|    null|      null|   null|        null|\n",
      "|    null|      null|   null|        null|\n",
      "|    null|      null|   null|        null|\n",
      "|    null|      null|   null|        null|\n",
      "|    null|      null|   null|        null|\n",
      "|    null|      null|   null|        null|\n",
      "|    null|      null|   null|        null|\n",
      "|    null|      null|   null|        null|\n",
      "|    null|      null|   null|        null|\n",
      "|    null|      null|   null|        null|\n",
      "|   11111|2023-05-29|   2222|      BOOKED|\n",
      "|   11111|2023-05-29|   2222|      BOOKED|\n",
      "+--------+----------+-------+------------+\n",
      "\n"
     ]
    }
   ],
   "source": [
    "spark.sql(\"select * from sukum16_caching_demo_ext.sukum16_order_ext\").show()"
   ]
  },
  {
   "cell_type": "code",
   "execution_count": 62,
   "id": "432a74ed",
   "metadata": {},
   "outputs": [
    {
     "data": {
      "text/html": [
       "<table border='1'>\n",
       "<tr><th></th></tr>\n",
       "</table>\n"
      ],
      "text/plain": [
       "++\n",
       "||\n",
       "++\n",
       "++"
      ]
     },
     "execution_count": 62,
     "metadata": {},
     "output_type": "execute_result"
    }
   ],
   "source": [
    "spark.sql(\"cache table sukum16_caching_demo_ext.sukum16_order_ext \")"
   ]
  },
  {
   "cell_type": "code",
   "execution_count": 63,
   "id": "7843dca9",
   "metadata": {},
   "outputs": [
    {
     "data": {
      "text/html": [
       "<table border='1'>\n",
       "<tr><th></th></tr>\n",
       "</table>\n"
      ],
      "text/plain": [
       "++\n",
       "||\n",
       "++\n",
       "++"
      ]
     },
     "execution_count": 63,
     "metadata": {},
     "output_type": "execute_result"
    }
   ],
   "source": [
    "#if you inser a row a new file is created\n",
    "spark.sql(\"insert into sukum16_caching_demo_ext.sukum16_order_ext values (11111, '2023-05-29', 2222,'BOOKED')\")"
   ]
  },
  {
   "cell_type": "code",
   "execution_count": 64,
   "id": "7bca980e",
   "metadata": {},
   "outputs": [
    {
     "data": {
      "text/html": [
       "<table border='1'>\n",
       "<tr><th>count(1)</th></tr>\n",
       "<tr><td>13</td></tr>\n",
       "</table>\n"
      ],
      "text/plain": [
       "+--------+\n",
       "|count(1)|\n",
       "+--------+\n",
       "|      13|\n",
       "+--------+"
      ]
     },
     "execution_count": 64,
     "metadata": {},
     "output_type": "execute_result"
    }
   ],
   "source": [
    "spark.sql(\"select count(*) from sukum16_caching_demo_ext.sukum16_order_ext\")"
   ]
  },
  {
   "cell_type": "code",
   "execution_count": null,
   "id": "897f1bea",
   "metadata": {},
   "outputs": [],
   "source": [
    "! hadoop fs -cat  /user/itv020649/part-00000-a32ce55a-1b85-43cd-85c9-38a0b4a2f80c-c000.csv"
   ]
  },
  {
   "cell_type": "code",
   "execution_count": 65,
   "id": "26a61c32",
   "metadata": {},
   "outputs": [
    {
     "data": {
      "text/html": [
       "<table border='1'>\n",
       "<tr><th>count(1)</th></tr>\n",
       "<tr><td>13</td></tr>\n",
       "</table>\n"
      ],
      "text/plain": [
       "+--------+\n",
       "|count(1)|\n",
       "+--------+\n",
       "|      13|\n",
       "+--------+"
      ]
     },
     "execution_count": 65,
     "metadata": {},
     "output_type": "execute_result"
    }
   ],
   "source": [
    "spark.sql(\"select count(*) from sukum16_caching_demo_ext.sukum16_order_ext\")"
   ]
  },
  {
   "cell_type": "code",
   "execution_count": 66,
   "id": "c29e3327",
   "metadata": {},
   "outputs": [],
   "source": [
    "#if a incremental file is put\n",
    "#we need to refresh table\n",
    "spark.catalog.refreshTable(\"sukum16_caching_demo_ext.sukum16_order_ext\")"
   ]
  },
  {
   "cell_type": "code",
   "execution_count": null,
   "id": "43d9cce1",
   "metadata": {},
   "outputs": [],
   "source": [
    "spark.sql(\"refresh table sukum16_caching_demo_ext.sukum16_order_ext\")"
   ]
  },
  {
   "cell_type": "markdown",
   "id": "37619baf",
   "metadata": {},
   "source": [
    "when the incremental file is deleated"
   ]
  },
  {
   "cell_type": "code",
   "execution_count": null,
   "id": "185ba114",
   "metadata": {},
   "outputs": [],
   "source": [
    "spark.sql(\"refresh table sukum16_caching_demo_ext.sukum16_order_ext\")\n",
    "#need to refresh table"
   ]
  },
  {
   "cell_type": "markdown",
   "id": "61703184",
   "metadata": {},
   "source": [
    "### Cache Performance"
   ]
  },
  {
   "cell_type": "markdown",
   "id": "c9c1792d",
   "metadata": {},
   "source": [
    "can cacheing result lower performance\n",
    "\n",
    "backend data -> data frame -> cache result\n",
    "\n",
    "change.       with refresh DF change      2 refresh required for cache\n",
    "\n",
    "\n",
    "if backed data is deleted we need to refresh"
   ]
  },
  {
   "cell_type": "code",
   "execution_count": null,
   "id": "cf1d0948",
   "metadata": {},
   "outputs": [],
   "source": []
  },
  {
   "cell_type": "code",
   "execution_count": 12,
   "id": "9cb1a739",
   "metadata": {},
   "outputs": [],
   "source": [
    "order_df = spark.read \\\n",
    ".format(\"csv\") \\\n",
    ".schema(orders_schema) \\\n",
    ".load(\"/public/trendytech/orders/orders_1gb.csv\")"
   ]
  },
  {
   "cell_type": "code",
   "execution_count": 13,
   "id": "2e418dc1",
   "metadata": {},
   "outputs": [
    {
     "name": "stdout",
     "output_type": "stream",
     "text": [
      "+--------+----------+-------+---------------+\n",
      "|order_id|order_date|cust_id|   order_status|\n",
      "+--------+----------+-------+---------------+\n",
      "|       1|2013-07-25|  11599|         CLOSED|\n",
      "|       2|2013-07-25|    256|PENDING_PAYMENT|\n",
      "|       3|2013-07-25|  12111|       COMPLETE|\n",
      "|       4|2013-07-25|   8827|         CLOSED|\n",
      "|       5|2013-07-25|  11318|       COMPLETE|\n",
      "|       6|2013-07-25|   7130|       COMPLETE|\n",
      "|       7|2013-07-25|   4530|       COMPLETE|\n",
      "|       8|2013-07-25|   2911|     PROCESSING|\n",
      "|       9|2013-07-25|   5657|PENDING_PAYMENT|\n",
      "|      10|2013-07-25|   5648|PENDING_PAYMENT|\n",
      "|      11|2013-07-25|    918| PAYMENT_REVIEW|\n",
      "|      12|2013-07-25|   1837|         CLOSED|\n",
      "|      13|2013-07-25|   9149|PENDING_PAYMENT|\n",
      "|      14|2013-07-25|   9842|     PROCESSING|\n",
      "|      15|2013-07-25|   2568|       COMPLETE|\n",
      "|      16|2013-07-25|   7276|PENDING_PAYMENT|\n",
      "|      17|2013-07-25|   2667|       COMPLETE|\n",
      "|      18|2013-07-25|   1205|         CLOSED|\n",
      "|      19|2013-07-25|   9488|PENDING_PAYMENT|\n",
      "|      20|2013-07-25|   9198|     PROCESSING|\n",
      "+--------+----------+-------+---------------+\n",
      "only showing top 20 rows\n",
      "\n"
     ]
    }
   ],
   "source": [
    "order_df.show()"
   ]
  },
  {
   "cell_type": "code",
   "execution_count": 16,
   "id": "31fd0a37",
   "metadata": {},
   "outputs": [],
   "source": [
    "order_df.write.mode(\"overwrite\").saveAsTable(\"sukum16_caching_demo.sukum16_order4\")"
   ]
  },
  {
   "cell_type": "markdown",
   "id": "a2b426c0",
   "metadata": {},
   "source": [
    "parquet is default format\n",
    "\n",
    "2 kinds of file format\n",
    "\n",
    "row based -csv\n",
    "\n",
    "column based -parquet,orc -works fast, meta data is also there"
   ]
  },
  {
   "cell_type": "code",
   "execution_count": 17,
   "id": "2659d036",
   "metadata": {},
   "outputs": [
    {
     "data": {
      "text/html": [
       "<table border='1'>\n",
       "<tr><th>count(1)</th></tr>\n",
       "<tr><td>25831125</td></tr>\n",
       "</table>\n"
      ],
      "text/plain": [
       "+--------+\n",
       "|count(1)|\n",
       "+--------+\n",
       "|25831125|\n",
       "+--------+"
      ]
     },
     "execution_count": 17,
     "metadata": {},
     "output_type": "execute_result"
    }
   ],
   "source": [
    "spark.sql(\"select count(*) from sukum16_caching_demo.sukum16_order4\")"
   ]
  },
  {
   "cell_type": "markdown",
   "id": "6f8261a0",
   "metadata": {},
   "source": [
    "less data is scanned as only subjected data is scanned"
   ]
  },
  {
   "cell_type": "code",
   "execution_count": 18,
   "id": "77d3e6e7",
   "metadata": {},
   "outputs": [
    {
     "data": {
      "text/html": [
       "<table border='1'>\n",
       "<tr><th></th></tr>\n",
       "</table>\n"
      ],
      "text/plain": [
       "++\n",
       "||\n",
       "++\n",
       "++"
      ]
     },
     "execution_count": 18,
     "metadata": {},
     "output_type": "execute_result"
    }
   ],
   "source": [
    "spark.sql(\"cache table sukum16_caching_demo.sukum16_order4\")"
   ]
  },
  {
   "cell_type": "code",
   "execution_count": 20,
   "id": "0d5bcb31",
   "metadata": {},
   "outputs": [
    {
     "data": {
      "text/html": [
       "<table border='1'>\n",
       "<tr><th>count(1)</th></tr>\n",
       "<tr><td>25831125</td></tr>\n",
       "</table>\n"
      ],
      "text/plain": [
       "+--------+\n",
       "|count(1)|\n",
       "+--------+\n",
       "|25831125|\n",
       "+--------+"
      ]
     },
     "execution_count": 20,
     "metadata": {},
     "output_type": "execute_result"
    }
   ],
   "source": [
    "spark.sql(\"select count(*) from sukum16_caching_demo.sukum16_order4\")\n",
    "#in case of cache its taking more time as it has to go through the whoole data as it going through data it cant check meta data"
   ]
  },
  {
   "cell_type": "markdown",
   "id": "12da9955",
   "metadata": {},
   "source": [
    "parquet meta data:\n",
    "    \n",
    "    Column statistics record min/max, null_count, and optionally distinct_count, along with flags like min_is_exact and max_is_exact to qualify ordering semantics for correct pruning"
   ]
  },
  {
   "cell_type": "markdown",
   "id": "ace1f4b2",
   "metadata": {},
   "source": [
    "### Persist"
   ]
  },
  {
   "cell_type": "markdown",
   "id": "c58cf2b1",
   "metadata": {},
   "source": [
    "cache - dataframe/spark tables (memory and disk)\n",
    "\n",
    "Persist - dataframe/spark tables (memory and disk) option parameter to set loaction memory or disk\n",
    "\n",
    "5 argument:\n",
    "\n",
    "1. disk\n",
    "\n",
    "2. memory\n",
    "\n",
    "3. off heap\n",
    "\n",
    "4. deserilaised\n",
    "\n",
    "5. number of replica"
   ]
  },
  {
   "cell_type": "code",
   "execution_count": 67,
   "id": "9d3703b1",
   "metadata": {},
   "outputs": [],
   "source": [
    "from pyspark.storagelevel import StorageLevel"
   ]
  },
  {
   "cell_type": "code",
   "execution_count": 71,
   "id": "1711f188",
   "metadata": {},
   "outputs": [
    {
     "data": {
      "text/html": [
       "<table border='1'>\n",
       "<tr><th>order_id</th><th>order_date</th><th>cust_id</th><th>order_status</th></tr>\n",
       "<tr><td>1</td><td>2013-07-25</td><td>11599</td><td>CLOSED</td></tr>\n",
       "<tr><td>2</td><td>2013-07-25</td><td>256</td><td>PENDING_PAYMENT</td></tr>\n",
       "<tr><td>3</td><td>2013-07-25</td><td>12111</td><td>COMPLETE</td></tr>\n",
       "<tr><td>4</td><td>2013-07-25</td><td>8827</td><td>CLOSED</td></tr>\n",
       "<tr><td>5</td><td>2013-07-25</td><td>11318</td><td>COMPLETE</td></tr>\n",
       "<tr><td>6</td><td>2013-07-25</td><td>7130</td><td>COMPLETE</td></tr>\n",
       "<tr><td>7</td><td>2013-07-25</td><td>4530</td><td>COMPLETE</td></tr>\n",
       "<tr><td>8</td><td>2013-07-25</td><td>2911</td><td>PROCESSING</td></tr>\n",
       "<tr><td>9</td><td>2013-07-25</td><td>5657</td><td>PENDING_PAYMENT</td></tr>\n",
       "<tr><td>10</td><td>2013-07-25</td><td>5648</td><td>PENDING_PAYMENT</td></tr>\n",
       "<tr><td>11</td><td>2013-07-25</td><td>918</td><td>PAYMENT_REVIEW</td></tr>\n",
       "<tr><td>12</td><td>2013-07-25</td><td>1837</td><td>CLOSED</td></tr>\n",
       "<tr><td>13</td><td>2013-07-25</td><td>9149</td><td>PENDING_PAYMENT</td></tr>\n",
       "<tr><td>14</td><td>2013-07-25</td><td>9842</td><td>PROCESSING</td></tr>\n",
       "<tr><td>15</td><td>2013-07-25</td><td>2568</td><td>COMPLETE</td></tr>\n",
       "<tr><td>16</td><td>2013-07-25</td><td>7276</td><td>PENDING_PAYMENT</td></tr>\n",
       "<tr><td>17</td><td>2013-07-25</td><td>2667</td><td>COMPLETE</td></tr>\n",
       "<tr><td>18</td><td>2013-07-25</td><td>1205</td><td>CLOSED</td></tr>\n",
       "<tr><td>19</td><td>2013-07-25</td><td>9488</td><td>PENDING_PAYMENT</td></tr>\n",
       "<tr><td>20</td><td>2013-07-25</td><td>9198</td><td>PROCESSING</td></tr>\n",
       "</table>\n",
       "only showing top 20 rows\n"
      ],
      "text/plain": [
       "+--------+----------+-------+---------------+\n",
       "|order_id|order_date|cust_id|   order_status|\n",
       "+--------+----------+-------+---------------+\n",
       "|       1|2013-07-25|  11599|         CLOSED|\n",
       "|       2|2013-07-25|    256|PENDING_PAYMENT|\n",
       "|       3|2013-07-25|  12111|       COMPLETE|\n",
       "|       4|2013-07-25|   8827|         CLOSED|\n",
       "|       5|2013-07-25|  11318|       COMPLETE|\n",
       "|       6|2013-07-25|   7130|       COMPLETE|\n",
       "|       7|2013-07-25|   4530|       COMPLETE|\n",
       "|       8|2013-07-25|   2911|     PROCESSING|\n",
       "|       9|2013-07-25|   5657|PENDING_PAYMENT|\n",
       "|      10|2013-07-25|   5648|PENDING_PAYMENT|\n",
       "|      11|2013-07-25|    918| PAYMENT_REVIEW|\n",
       "|      12|2013-07-25|   1837|         CLOSED|\n",
       "|      13|2013-07-25|   9149|PENDING_PAYMENT|\n",
       "|      14|2013-07-25|   9842|     PROCESSING|\n",
       "|      15|2013-07-25|   2568|       COMPLETE|\n",
       "|      16|2013-07-25|   7276|PENDING_PAYMENT|\n",
       "|      17|2013-07-25|   2667|       COMPLETE|\n",
       "|      18|2013-07-25|   1205|         CLOSED|\n",
       "|      19|2013-07-25|   9488|PENDING_PAYMENT|\n",
       "|      20|2013-07-25|   9198|     PROCESSING|\n",
       "+--------+----------+-------+---------------+\n",
       "only showing top 20 rows"
      ]
     },
     "execution_count": 71,
     "metadata": {},
     "output_type": "execute_result"
    }
   ],
   "source": [
    "#order_df.persist(storageLevel(Ture,True,False,False,1) - its default\n",
    "order_df.persist(StorageLevel(True,False,False,False,1)) \n",
    "#lazy"
   ]
  },
  {
   "cell_type": "code",
   "execution_count": 72,
   "id": "bbc9bdcf",
   "metadata": {},
   "outputs": [
    {
     "data": {
      "text/plain": [
       "25831125"
      ]
     },
     "execution_count": 72,
     "metadata": {},
     "output_type": "execute_result"
    }
   ],
   "source": [
    "order_df.count()\n",
    "#now caching"
   ]
  },
  {
   "cell_type": "code",
   "execution_count": 73,
   "id": "4481430d",
   "metadata": {},
   "outputs": [
    {
     "data": {
      "text/plain": [
       "25831125"
      ]
     },
     "execution_count": 73,
     "metadata": {},
     "output_type": "execute_result"
    }
   ],
   "source": [
    "order_df.count()\n",
    "#hit cache"
   ]
  },
  {
   "cell_type": "code",
   "execution_count": 74,
   "id": "c8418a61",
   "metadata": {},
   "outputs": [
    {
     "data": {
      "text/html": [
       "<table border='1'>\n",
       "<tr><th>order_id</th><th>order_date</th><th>cust_id</th><th>order_status</th></tr>\n",
       "<tr><td>1</td><td>2013-07-25</td><td>11599</td><td>CLOSED</td></tr>\n",
       "<tr><td>2</td><td>2013-07-25</td><td>256</td><td>PENDING_PAYMENT</td></tr>\n",
       "<tr><td>3</td><td>2013-07-25</td><td>12111</td><td>COMPLETE</td></tr>\n",
       "<tr><td>4</td><td>2013-07-25</td><td>8827</td><td>CLOSED</td></tr>\n",
       "<tr><td>5</td><td>2013-07-25</td><td>11318</td><td>COMPLETE</td></tr>\n",
       "<tr><td>6</td><td>2013-07-25</td><td>7130</td><td>COMPLETE</td></tr>\n",
       "<tr><td>7</td><td>2013-07-25</td><td>4530</td><td>COMPLETE</td></tr>\n",
       "<tr><td>8</td><td>2013-07-25</td><td>2911</td><td>PROCESSING</td></tr>\n",
       "<tr><td>9</td><td>2013-07-25</td><td>5657</td><td>PENDING_PAYMENT</td></tr>\n",
       "<tr><td>10</td><td>2013-07-25</td><td>5648</td><td>PENDING_PAYMENT</td></tr>\n",
       "<tr><td>11</td><td>2013-07-25</td><td>918</td><td>PAYMENT_REVIEW</td></tr>\n",
       "<tr><td>12</td><td>2013-07-25</td><td>1837</td><td>CLOSED</td></tr>\n",
       "<tr><td>13</td><td>2013-07-25</td><td>9149</td><td>PENDING_PAYMENT</td></tr>\n",
       "<tr><td>14</td><td>2013-07-25</td><td>9842</td><td>PROCESSING</td></tr>\n",
       "<tr><td>15</td><td>2013-07-25</td><td>2568</td><td>COMPLETE</td></tr>\n",
       "<tr><td>16</td><td>2013-07-25</td><td>7276</td><td>PENDING_PAYMENT</td></tr>\n",
       "<tr><td>17</td><td>2013-07-25</td><td>2667</td><td>COMPLETE</td></tr>\n",
       "<tr><td>18</td><td>2013-07-25</td><td>1205</td><td>CLOSED</td></tr>\n",
       "<tr><td>19</td><td>2013-07-25</td><td>9488</td><td>PENDING_PAYMENT</td></tr>\n",
       "<tr><td>20</td><td>2013-07-25</td><td>9198</td><td>PROCESSING</td></tr>\n",
       "</table>\n",
       "only showing top 20 rows\n"
      ],
      "text/plain": [
       "DataFrame[order_id: bigint, order_date: date, cust_id: bigint, order_status: string]"
      ]
     },
     "execution_count": 74,
     "metadata": {},
     "output_type": "execute_result"
    }
   ],
   "source": [
    "order_df.persist(StorageLevel(True,True,False,True,1)) \n"
   ]
  },
  {
   "cell_type": "code",
   "execution_count": 75,
   "id": "a0c208d5",
   "metadata": {},
   "outputs": [
    {
     "data": {
      "text/plain": [
       "25831125"
      ]
     },
     "execution_count": 75,
     "metadata": {},
     "output_type": "execute_result"
    }
   ],
   "source": [
    "order_df.count()\n"
   ]
  },
  {
   "cell_type": "code",
   "execution_count": 76,
   "id": "a62b2fd5",
   "metadata": {},
   "outputs": [
    {
     "data": {
      "text/html": [
       "<table border='1'>\n",
       "<tr><th>order_id</th><th>order_date</th><th>cust_id</th><th>order_status</th></tr>\n",
       "<tr><td>1</td><td>2013-07-25</td><td>11599</td><td>CLOSED</td></tr>\n",
       "<tr><td>2</td><td>2013-07-25</td><td>256</td><td>PENDING_PAYMENT</td></tr>\n",
       "<tr><td>3</td><td>2013-07-25</td><td>12111</td><td>COMPLETE</td></tr>\n",
       "<tr><td>4</td><td>2013-07-25</td><td>8827</td><td>CLOSED</td></tr>\n",
       "<tr><td>5</td><td>2013-07-25</td><td>11318</td><td>COMPLETE</td></tr>\n",
       "<tr><td>6</td><td>2013-07-25</td><td>7130</td><td>COMPLETE</td></tr>\n",
       "<tr><td>7</td><td>2013-07-25</td><td>4530</td><td>COMPLETE</td></tr>\n",
       "<tr><td>8</td><td>2013-07-25</td><td>2911</td><td>PROCESSING</td></tr>\n",
       "<tr><td>9</td><td>2013-07-25</td><td>5657</td><td>PENDING_PAYMENT</td></tr>\n",
       "<tr><td>10</td><td>2013-07-25</td><td>5648</td><td>PENDING_PAYMENT</td></tr>\n",
       "<tr><td>11</td><td>2013-07-25</td><td>918</td><td>PAYMENT_REVIEW</td></tr>\n",
       "<tr><td>12</td><td>2013-07-25</td><td>1837</td><td>CLOSED</td></tr>\n",
       "<tr><td>13</td><td>2013-07-25</td><td>9149</td><td>PENDING_PAYMENT</td></tr>\n",
       "<tr><td>14</td><td>2013-07-25</td><td>9842</td><td>PROCESSING</td></tr>\n",
       "<tr><td>15</td><td>2013-07-25</td><td>2568</td><td>COMPLETE</td></tr>\n",
       "<tr><td>16</td><td>2013-07-25</td><td>7276</td><td>PENDING_PAYMENT</td></tr>\n",
       "<tr><td>17</td><td>2013-07-25</td><td>2667</td><td>COMPLETE</td></tr>\n",
       "<tr><td>18</td><td>2013-07-25</td><td>1205</td><td>CLOSED</td></tr>\n",
       "<tr><td>19</td><td>2013-07-25</td><td>9488</td><td>PENDING_PAYMENT</td></tr>\n",
       "<tr><td>20</td><td>2013-07-25</td><td>9198</td><td>PROCESSING</td></tr>\n",
       "</table>\n",
       "only showing top 20 rows\n"
      ],
      "text/plain": [
       "DataFrame[order_id: bigint, order_date: date, cust_id: bigint, order_status: string]"
      ]
     },
     "execution_count": 76,
     "metadata": {},
     "output_type": "execute_result"
    }
   ],
   "source": [
    "order_df.unpersist()"
   ]
  },
  {
   "cell_type": "markdown",
   "id": "a16c1cf9",
   "metadata": {},
   "source": [
    "node with 64 GB ram ,16 cpu core\n",
    "\n",
    "3 executor- 20 gb,5 cpu core\n",
    "60 gb\n",
    "\n",
    "4 GB -  this is off heap memory"
   ]
  },
  {
   "cell_type": "code",
   "execution_count": null,
   "id": "f56d1edb",
   "metadata": {},
   "outputs": [],
   "source": []
  }
 ],
 "metadata": {
  "kernelspec": {
   "display_name": "Pyspark 2",
   "language": "python",
   "name": "pyspark2"
  },
  "language_info": {
   "codemirror_mode": {
    "name": "ipython",
    "version": 3
   },
   "file_extension": ".py",
   "mimetype": "text/x-python",
   "name": "python",
   "nbconvert_exporter": "python",
   "pygments_lexer": "ipython3",
   "version": "3.6.12"
  }
 },
 "nbformat": 4,
 "nbformat_minor": 5
}
