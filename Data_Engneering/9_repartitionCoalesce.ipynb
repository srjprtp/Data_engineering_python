{
 "cells": [
  {
   "cell_type": "code",
   "execution_count": 1,
   "id": "05732a5f",
   "metadata": {},
   "outputs": [],
   "source": [
    "from pyspark.sql import SparkSession\n",
    "import getpass\n",
    "username = getpass.getuser()\n",
    "spark = SparkSession. \\\n",
    "builder. \\\n",
    "config('spark.ui.port','0'). \\\n",
    "config(\"spark.sql.warehouse.dir\", f\"/user/itv020649/warehouse\"). \\\n",
    "enableHiveSupport(). \\\n",
    "master('yarn'). \\\n",
    "getOrCreate()"
   ]
  },
  {
   "cell_type": "code",
   "execution_count": 2,
   "id": "406be9d6",
   "metadata": {},
   "outputs": [
    {
     "data": {
      "text/html": [
       "\n",
       "            <div>\n",
       "                <p><b>SparkSession - hive</b></p>\n",
       "                \n",
       "        <div>\n",
       "            <p><b>SparkContext</b></p>\n",
       "\n",
       "            <p><a href=\"http://g01.itversity.com:33357\">Spark UI</a></p>\n",
       "\n",
       "            <dl>\n",
       "              <dt>Version</dt>\n",
       "                <dd><code>v3.1.2</code></dd>\n",
       "              <dt>Master</dt>\n",
       "                <dd><code>yarn</code></dd>\n",
       "              <dt>AppName</dt>\n",
       "                <dd><code>pyspark-shell</code></dd>\n",
       "            </dl>\n",
       "        </div>\n",
       "        \n",
       "            </div>\n",
       "        "
      ],
      "text/plain": [
       "<pyspark.sql.session.SparkSession at 0x7f8a054f8278>"
      ]
     },
     "execution_count": 2,
     "metadata": {},
     "output_type": "execute_result"
    }
   ],
   "source": [
    "spark"
   ]
  },
  {
   "cell_type": "markdown",
   "id": "0c4258b9",
   "metadata": {},
   "source": [
    "Repartition vs Coalesce"
   ]
  },
  {
   "cell_type": "markdown",
   "id": "60e707ec",
   "metadata": {},
   "source": [
    "100 node cluster,5gb =40 blocks=40 partition , so increase partition"
   ]
  },
  {
   "cell_type": "code",
   "execution_count": 5,
   "id": "3ef52800",
   "metadata": {},
   "outputs": [],
   "source": [
    "orderRdd = spark.sparkContext.textFile(\"/public/trendytech/orders/orders_1gb.csv\")"
   ]
  },
  {
   "cell_type": "code",
   "execution_count": 6,
   "id": "f04ceb5b",
   "metadata": {},
   "outputs": [
    {
     "data": {
      "text/plain": [
       "9"
      ]
     },
     "execution_count": 6,
     "metadata": {},
     "output_type": "execute_result"
    }
   ],
   "source": [
    "orderRdd.getNumPartitions()"
   ]
  },
  {
   "cell_type": "code",
   "execution_count": 7,
   "id": "dabbf1d5",
   "metadata": {},
   "outputs": [],
   "source": [
    "repartitionedOrder = orderRdd.repartition(15)"
   ]
  },
  {
   "cell_type": "code",
   "execution_count": 8,
   "id": "bddfacec",
   "metadata": {},
   "outputs": [
    {
     "data": {
      "text/plain": [
       "15"
      ]
     },
     "execution_count": 8,
     "metadata": {},
     "output_type": "execute_result"
    }
   ],
   "source": [
    "repartitionedOrder.getNumPartitions()"
   ]
  },
  {
   "cell_type": "markdown",
   "id": "845a0c36",
   "metadata": {},
   "source": [
    "can be decreased too"
   ]
  },
  {
   "cell_type": "markdown",
   "id": "fb1118b6",
   "metadata": {},
   "source": [
    "1 TB- 8000| 80 partition each node|each partition 128 mb \n",
    "-> filter ->1 Mb\n",
    "reduce partition 80-> 100 MB data each partition\n"
   ]
  },
  {
   "cell_type": "code",
   "execution_count": 10,
   "id": "b5f639e5",
   "metadata": {},
   "outputs": [],
   "source": [
    "newRepartitionedOrder = orderRdd.repartition(4)"
   ]
  },
  {
   "cell_type": "code",
   "execution_count": 11,
   "id": "228981b9",
   "metadata": {},
   "outputs": [
    {
     "data": {
      "text/plain": [
       "4"
      ]
     },
     "execution_count": 11,
     "metadata": {},
     "output_type": "execute_result"
    }
   ],
   "source": [
    "newRepartitionedOrder.getNumPartitions()"
   ]
  },
  {
   "cell_type": "markdown",
   "id": "4e06feac",
   "metadata": {},
   "source": [
    "# Coalesce\n",
    "it can onlt decrease the no of partition,\n"
   ]
  },
  {
   "cell_type": "code",
   "execution_count": 12,
   "id": "07cb0dc8",
   "metadata": {},
   "outputs": [],
   "source": [
    "new1RepartitionedOrder = orderRdd.coalesce(30)"
   ]
  },
  {
   "cell_type": "code",
   "execution_count": 13,
   "id": "2e1d4eb1",
   "metadata": {},
   "outputs": [
    {
     "data": {
      "text/plain": [
       "9"
      ]
     },
     "execution_count": 13,
     "metadata": {},
     "output_type": "execute_result"
    }
   ],
   "source": [
    "new1RepartitionedOrder.getNumPartitions()"
   ]
  },
  {
   "cell_type": "markdown",
   "id": "fd37093e",
   "metadata": {},
   "source": [
    "Why to use coalesce:\n",
    "repartition: it does complete shuffel \\n\n",
    "coalesce: clubing the partition on same machine."
   ]
  },
  {
   "cell_type": "code",
   "execution_count": null,
   "id": "51444ff7",
   "metadata": {},
   "outputs": [],
   "source": []
  }
 ],
 "metadata": {
  "kernelspec": {
   "display_name": "Pyspark 3",
   "language": "python",
   "name": "pyspark3"
  },
  "language_info": {
   "codemirror_mode": {
    "name": "ipython",
    "version": 3
   },
   "file_extension": ".py",
   "mimetype": "text/x-python",
   "name": "python",
   "nbconvert_exporter": "python",
   "pygments_lexer": "ipython3",
   "version": "3.6.12"
  }
 },
 "nbformat": 4,
 "nbformat_minor": 5
}
