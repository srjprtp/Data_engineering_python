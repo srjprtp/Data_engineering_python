{
 "cells": [
  {
   "cell_type": "code",
   "execution_count": 7,
   "id": "81048945",
   "metadata": {},
   "outputs": [],
   "source": [
    "from pyspark.sql import SparkSession\n",
    "import getpass\n",
    "username = getpass.getuser()\n",
    "spark = SparkSession. \\\n",
    "builder. \\\n",
    "config('spark.ui.port','0'). \\\n",
    "config(\"spark.sql.warehouse.dir\", f\"/user/itv020649/warehouse\"). \\\n",
    "enableHiveSupport(). \\\n",
    "master('yarn'). \\\n",
    "getOrCreate()"
   ]
  },
  {
   "cell_type": "code",
   "execution_count": 9,
   "id": "19b1b597",
   "metadata": {},
   "outputs": [
    {
     "data": {
      "text/plain": [
       "['user10,MovieH,2',\n",
       " 'user7,MovieH,3',\n",
       " 'user2,MovieB,3',\n",
       " 'user7,MovieB,1',\n",
       " 'user9,MovieI,3',\n",
       " 'user3,MovieB,1',\n",
       " 'user6,MovieA,3',\n",
       " 'user7,MovieG,1',\n",
       " 'user2,MovieJ,5',\n",
       " 'user7,MovieE,3',\n",
       " 'user2,MovieG,4',\n",
       " 'user9,MovieJ,5',\n",
       " 'user6,MovieH,3',\n",
       " 'user1,MovieJ,5',\n",
       " 'user9,MovieD,4',\n",
       " 'user4,MovieB,2',\n",
       " 'user10,MovieG,4',\n",
       " 'user7,MovieF,1',\n",
       " 'user5,MovieJ,3',\n",
       " 'user3,MovieD,1',\n",
       " 'user2,MovieF,2',\n",
       " 'user6,MovieJ,5',\n",
       " 'user3,MovieA,2',\n",
       " 'user8,MovieE,5',\n",
       " 'user7,MovieE,4',\n",
       " 'user7,MovieI,5',\n",
       " 'user4,MovieI,5',\n",
       " 'user4,MovieE,1',\n",
       " 'user5,MovieF,3',\n",
       " 'user9,MovieH,5']"
      ]
     },
     "execution_count": 9,
     "metadata": {},
     "output_type": "execute_result"
    }
   ],
   "source": [
    "rdd = spark.sparkContext.textFile(\"/user/itv020649/data/input/user-movie-rating.csv\")\n",
    "header = rdd.first()\n",
    "rdd.collect()"
   ]
  },
  {
   "cell_type": "code",
   "execution_count": 10,
   "id": "493d4d64",
   "metadata": {},
   "outputs": [
    {
     "data": {
      "text/plain": [
       "[['user10', 'MovieH', '2'],\n",
       " ['user7', 'MovieH', '3'],\n",
       " ['user2', 'MovieB', '3'],\n",
       " ['user7', 'MovieB', '1'],\n",
       " ['user9', 'MovieI', '3'],\n",
       " ['user3', 'MovieB', '1'],\n",
       " ['user6', 'MovieA', '3'],\n",
       " ['user7', 'MovieG', '1'],\n",
       " ['user2', 'MovieJ', '5'],\n",
       " ['user7', 'MovieE', '3'],\n",
       " ['user2', 'MovieG', '4'],\n",
       " ['user9', 'MovieJ', '5'],\n",
       " ['user6', 'MovieH', '3'],\n",
       " ['user1', 'MovieJ', '5'],\n",
       " ['user9', 'MovieD', '4'],\n",
       " ['user4', 'MovieB', '2'],\n",
       " ['user10', 'MovieG', '4'],\n",
       " ['user7', 'MovieF', '1'],\n",
       " ['user5', 'MovieJ', '3'],\n",
       " ['user3', 'MovieD', '1'],\n",
       " ['user2', 'MovieF', '2'],\n",
       " ['user6', 'MovieJ', '5'],\n",
       " ['user3', 'MovieA', '2'],\n",
       " ['user8', 'MovieE', '5'],\n",
       " ['user7', 'MovieE', '4'],\n",
       " ['user7', 'MovieI', '5'],\n",
       " ['user4', 'MovieI', '5'],\n",
       " ['user4', 'MovieE', '1'],\n",
       " ['user5', 'MovieF', '3'],\n",
       " ['user9', 'MovieH', '5']]"
      ]
     },
     "execution_count": 10,
     "metadata": {},
     "output_type": "execute_result"
    }
   ],
   "source": [
    "# data = rdd.filter(lambda x:x != header)\n",
    "splitRdd = rdd.map(lambda x:x.replace('\"','').split(','))\n",
    "splitRdd.collect()"
   ]
  },
  {
   "cell_type": "code",
   "execution_count": null,
   "id": "f7efa952",
   "metadata": {},
   "outputs": [],
   "source": [
    "Replace usage"
   ]
  },
  {
   "cell_type": "code",
   "execution_count": 4,
   "id": "cc57eeda",
   "metadata": {},
   "outputs": [],
   "source": [
    "highRating = splitRdd.filter(lambda x: int(x[2]) > 2)"
   ]
  },
  {
   "cell_type": "code",
   "execution_count": 21,
   "id": "b9fdca10",
   "metadata": {},
   "outputs": [
    {
     "data": {
      "text/plain": [
       "[['user7', 'MovieH', '3'],\n",
       " ['user2', 'MovieB', '3'],\n",
       " ['user9', 'MovieI', '3'],\n",
       " ['user6', 'MovieA', '3'],\n",
       " ['user2', 'MovieJ', '5']]"
      ]
     },
     "execution_count": 21,
     "metadata": {},
     "output_type": "execute_result"
    }
   ],
   "source": [
    "highRating.collect()"
   ]
  },
  {
   "cell_type": "code",
   "execution_count": 12,
   "id": "d5103e63",
   "metadata": {},
   "outputs": [
    {
     "name": "stdout",
     "output_type": "stream",
     "text": [
      "5\n"
     ]
    }
   ],
   "source": [
    "countHighRating = highRating.count()\n",
    "print(countHighRating)"
   ]
  },
  {
   "cell_type": "code",
   "execution_count": 24,
   "id": "21e4d5b6",
   "metadata": {},
   "outputs": [],
   "source": [
    "userRating = splitRdd.map(lambda x: (x[0],int(x[2]))).collect()\n",
    "# ratingTotal = userRating.reduceByKey(lambda a,b: a+b)\n",
    "# ratingTotal.collect()"
   ]
  },
  {
   "cell_type": "code",
   "execution_count": null,
   "id": "85e34fc9",
   "metadata": {},
   "outputs": [],
   "source": []
  }
 ],
 "metadata": {
  "kernelspec": {
   "display_name": "Pyspark 3",
   "language": "python",
   "name": "pyspark3"
  },
  "language_info": {
   "codemirror_mode": {
    "name": "ipython",
    "version": 3
   },
   "file_extension": ".py",
   "mimetype": "text/x-python",
   "name": "python",
   "nbconvert_exporter": "python",
   "pygments_lexer": "ipython3",
   "version": "3.6.12"
  }
 },
 "nbformat": 4,
 "nbformat_minor": 5
}
