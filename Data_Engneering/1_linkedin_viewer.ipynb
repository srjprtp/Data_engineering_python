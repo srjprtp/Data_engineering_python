{
 "cells": [
  {
   "cell_type": "code",
   "execution_count": 1,
   "id": "4c161170",
   "metadata": {},
   "outputs": [],
   "source": [
    "from pyspark.sql import SparkSession\n",
    "import getpass\n",
    "username = getpass.getuser()\n",
    "spark = SparkSession. \\\n",
    "builder. \\\n",
    "config('spark.ui.port','0'). \\\n",
    "config(\"spark.sql.warehouse.dir\", f\"/user/itv020649/warehouse\"). \\\n",
    "enableHiveSupport(). \\\n",
    "master('yarn'). \\\n",
    "getOrCreate()"
   ]
  },
  {
   "cell_type": "code",
   "execution_count": 2,
   "id": "7ae60a3a",
   "metadata": {},
   "outputs": [],
   "source": [
    "rdd1 =spark.sparkContext.textFile(\"/user/itv020649/data/input/linkedin_views.csv\")\n"
   ]
  },
  {
   "cell_type": "code",
   "execution_count": 3,
   "id": "4f6c9851",
   "metadata": {},
   "outputs": [],
   "source": [
    "rdd2 = rdd1.map(lambda x:x.split(\",\")[2])"
   ]
  },
  {
   "cell_type": "code",
   "execution_count": 4,
   "id": "d1983ce5",
   "metadata": {},
   "outputs": [
    {
     "data": {
      "text/plain": [
       "['Sumit', 'Sumit', 'Manasa', 'Deepa', 'Manasa', 'Manasa']"
      ]
     },
     "execution_count": 4,
     "metadata": {},
     "output_type": "execute_result"
    }
   ],
   "source": [
    "rdd2.collect()"
   ]
  },
  {
   "cell_type": "code",
   "execution_count": 5,
   "id": "167a7bb3",
   "metadata": {},
   "outputs": [
    {
     "data": {
      "text/plain": [
       "[('Sumit', 1),\n",
       " ('Sumit', 1),\n",
       " ('Manasa', 1),\n",
       " ('Deepa', 1),\n",
       " ('Manasa', 1),\n",
       " ('Manasa', 1)]"
      ]
     },
     "execution_count": 5,
     "metadata": {},
     "output_type": "execute_result"
    }
   ],
   "source": [
    "rdd3 = rdd2.map(lambda x: (x,1))\n",
    "rdd3.collect()"
   ]
  },
  {
   "cell_type": "code",
   "execution_count": 6,
   "id": "35bded46",
   "metadata": {},
   "outputs": [
    {
     "data": {
      "text/plain": [
       "[('Sumit', 2), ('Deepa', 1), ('Manasa', 3)]"
      ]
     },
     "execution_count": 6,
     "metadata": {},
     "output_type": "execute_result"
    }
   ],
   "source": [
    "rdd4 =rdd3.reduceByKey(lambda x,y:x+y)\n",
    "rdd4.collect()"
   ]
  },
  {
   "cell_type": "code",
   "execution_count": 8,
   "id": "60088f59",
   "metadata": {},
   "outputs": [],
   "source": [
    "#rdd4.saveAsTextFile(\"/user/itv020649/data/output\")\n",
    "#file already exist"
   ]
  },
  {
   "cell_type": "code",
   "execution_count": null,
   "id": "10971e65",
   "metadata": {},
   "outputs": [],
   "source": []
  }
 ],
 "metadata": {
  "kernelspec": {
   "display_name": "Pyspark 3",
   "language": "python",
   "name": "pyspark3"
  },
  "language_info": {
   "codemirror_mode": {
    "name": "ipython",
    "version": 3
   },
   "file_extension": ".py",
   "mimetype": "text/x-python",
   "name": "python",
   "nbconvert_exporter": "python",
   "pygments_lexer": "ipython3",
   "version": "3.6.12"
  }
 },
 "nbformat": 4,
 "nbformat_minor": 5
}
